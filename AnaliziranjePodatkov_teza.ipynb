{
 "cells": [
  {
   "cell_type": "markdown",
   "metadata": {},
   "source": [
    "# Analiziranje podatkov glede na težo"
   ]
  },
  {
   "cell_type": "markdown",
   "metadata": {},
   "source": [
    "Naložimo ustrezne pakete"
   ]
  },
  {
   "cell_type": "code",
   "execution_count": 248,
   "metadata": {},
   "outputs": [],
   "source": [
    "# naložimo pakete\n",
    "import os\n",
    "import pandas as pd\n",
    "\n",
    "nov_directory = 'obdelani podatki'\n",
    "csv_drzave = 'drzave.csv'\n",
    "csv_kontinenti = 'kontinenti.csv'\n",
    "# izberemo interaktivni \"notebook\" stil risanja\n",
    "%matplotlib inline\n",
    "\n",
    "pd.set_option(\"display.max_rows\", 15)\n",
    "path1 = os.path.join(nov_directory, csv_drzave) \n",
    "path2 = os.path.join(nov_directory, csv_kontinenti) \n",
    "\n",
    "#naložimo razpredelnico, s katero bomo delali\n",
    "countries = pd.read_csv(path1)\n",
    "continents = pd.read_csv(path2)"
   ]
  },
  {
   "cell_type": "code",
   "execution_count": 249,
   "metadata": {},
   "outputs": [],
   "source": [
    "%matplotlib inline\n",
    "\n",
    "import matplotlib\n",
    "import numpy as np\n",
    "import matplotlib.pyplot as plt"
   ]
  },
  {
   "cell_type": "markdown",
   "metadata": {},
   "source": [
    "## 1. Splošno"
   ]
  },
  {
   "cell_type": "markdown",
   "metadata": {},
   "source": [
    "### 1.1. Države"
   ]
  },
  {
   "cell_type": "markdown",
   "metadata": {},
   "source": [
    "V vseh spodnjih tabelah je prikazan seznam vseh držav, ki sem jih zajela v svoji projektni nalogi. Vsebuje podatke o teži, teži in itm-ju tako moških kot žensk. V tej datoteki sem se osredotočila na analiziranje podatkov teže."
   ]
  },
  {
   "cell_type": "code",
   "execution_count": 250,
   "metadata": {},
   "outputs": [
    {
     "data": {
      "text/html": [
       "<div>\n",
       "<style scoped>\n",
       "    .dataframe tbody tr th:only-of-type {\n",
       "        vertical-align: middle;\n",
       "    }\n",
       "\n",
       "    .dataframe tbody tr th {\n",
       "        vertical-align: top;\n",
       "    }\n",
       "\n",
       "    .dataframe thead th {\n",
       "        text-align: right;\n",
       "    }\n",
       "</style>\n",
       "<table border=\"1\" class=\"dataframe\">\n",
       "  <thead>\n",
       "    <tr style=\"text-align: right;\">\n",
       "      <th></th>\n",
       "      <th>ime države</th>\n",
       "      <th>višina moških</th>\n",
       "      <th>teža moških</th>\n",
       "      <th>itm moških</th>\n",
       "      <th>višina žensk</th>\n",
       "      <th>teža žensk</th>\n",
       "      <th>itm žensk</th>\n",
       "    </tr>\n",
       "  </thead>\n",
       "  <tbody>\n",
       "    <tr>\n",
       "      <th>1</th>\n",
       "      <td>Netherlands</td>\n",
       "      <td>1.84</td>\n",
       "      <td>87.9</td>\n",
       "      <td>26.1</td>\n",
       "      <td>1.70</td>\n",
       "      <td>73.2</td>\n",
       "      <td>25.3</td>\n",
       "    </tr>\n",
       "    <tr>\n",
       "      <th>2</th>\n",
       "      <td>Montenegro</td>\n",
       "      <td>1.83</td>\n",
       "      <td>90.4</td>\n",
       "      <td>27.0</td>\n",
       "      <td>1.70</td>\n",
       "      <td>75.3</td>\n",
       "      <td>26.2</td>\n",
       "    </tr>\n",
       "    <tr>\n",
       "      <th>3</th>\n",
       "      <td>Estonia</td>\n",
       "      <td>1.82</td>\n",
       "      <td>89.9</td>\n",
       "      <td>27.0</td>\n",
       "      <td>1.68</td>\n",
       "      <td>73.7</td>\n",
       "      <td>26.0</td>\n",
       "    </tr>\n",
       "    <tr>\n",
       "      <th>4</th>\n",
       "      <td>Denmark</td>\n",
       "      <td>1.82</td>\n",
       "      <td>86.8</td>\n",
       "      <td>26.3</td>\n",
       "      <td>1.69</td>\n",
       "      <td>70.2</td>\n",
       "      <td>24.6</td>\n",
       "    </tr>\n",
       "    <tr>\n",
       "      <th>5</th>\n",
       "      <td>Bosnia and Herzegovina</td>\n",
       "      <td>1.82</td>\n",
       "      <td>87.1</td>\n",
       "      <td>26.4</td>\n",
       "      <td>1.67</td>\n",
       "      <td>70.6</td>\n",
       "      <td>25.3</td>\n",
       "    </tr>\n",
       "    <tr>\n",
       "      <th>...</th>\n",
       "      <td>...</td>\n",
       "      <td>...</td>\n",
       "      <td>...</td>\n",
       "      <td>...</td>\n",
       "      <td>...</td>\n",
       "      <td>...</td>\n",
       "      <td>...</td>\n",
       "    </tr>\n",
       "    <tr>\n",
       "      <th>123</th>\n",
       "      <td>Nepal</td>\n",
       "      <td>1.64</td>\n",
       "      <td>60.5</td>\n",
       "      <td>22.5</td>\n",
       "      <td>1.52</td>\n",
       "      <td>51.6</td>\n",
       "      <td>22.3</td>\n",
       "    </tr>\n",
       "    <tr>\n",
       "      <th>124</th>\n",
       "      <td>Guatemala</td>\n",
       "      <td>1.64</td>\n",
       "      <td>69.1</td>\n",
       "      <td>25.7</td>\n",
       "      <td>1.51</td>\n",
       "      <td>61.9</td>\n",
       "      <td>27.3</td>\n",
       "    </tr>\n",
       "    <tr>\n",
       "      <th>125</th>\n",
       "      <td>Yemen</td>\n",
       "      <td>1.63</td>\n",
       "      <td>62.5</td>\n",
       "      <td>23.6</td>\n",
       "      <td>1.54</td>\n",
       "      <td>56.9</td>\n",
       "      <td>24.0</td>\n",
       "    </tr>\n",
       "    <tr>\n",
       "      <th>126</th>\n",
       "      <td>Laos</td>\n",
       "      <td>1.62</td>\n",
       "      <td>59.5</td>\n",
       "      <td>22.6</td>\n",
       "      <td>1.53</td>\n",
       "      <td>53.7</td>\n",
       "      <td>23.0</td>\n",
       "    </tr>\n",
       "    <tr>\n",
       "      <th>127</th>\n",
       "      <td>East Timor</td>\n",
       "      <td>1.59</td>\n",
       "      <td>53.9</td>\n",
       "      <td>21.2</td>\n",
       "      <td>1.52</td>\n",
       "      <td>49.0</td>\n",
       "      <td>21.2</td>\n",
       "    </tr>\n",
       "  </tbody>\n",
       "</table>\n",
       "<p>127 rows × 7 columns</p>\n",
       "</div>"
      ],
      "text/plain": [
       "                 ime države  višina moških  teža moških  itm moških  \\\n",
       "1               Netherlands           1.84         87.9        26.1   \n",
       "2                Montenegro           1.83         90.4        27.0   \n",
       "3                   Estonia           1.82         89.9        27.0   \n",
       "4                   Denmark           1.82         86.8        26.3   \n",
       "5    Bosnia and Herzegovina           1.82         87.1        26.4   \n",
       "..                      ...            ...          ...         ...   \n",
       "123                   Nepal           1.64         60.5        22.5   \n",
       "124               Guatemala           1.64         69.1        25.7   \n",
       "125                   Yemen           1.63         62.5        23.6   \n",
       "126                    Laos           1.62         59.5        22.6   \n",
       "127              East Timor           1.59         53.9        21.2   \n",
       "\n",
       "     višina žensk  teža žensk  itm žensk  \n",
       "1            1.70        73.2       25.3  \n",
       "2            1.70        75.3       26.2  \n",
       "3            1.68        73.7       26.0  \n",
       "4            1.69        70.2       24.6  \n",
       "5            1.67        70.6       25.3  \n",
       "..            ...         ...        ...  \n",
       "123          1.52        51.6       22.3  \n",
       "124          1.51        61.9       27.3  \n",
       "125          1.54        56.9       24.0  \n",
       "126          1.53        53.7       23.0  \n",
       "127          1.52        49.0       21.2  \n",
       "\n",
       "[127 rows x 7 columns]"
      ]
     },
     "execution_count": 250,
     "metadata": {},
     "output_type": "execute_result"
    }
   ],
   "source": [
    "countries.index += 1\n",
    "countries"
   ]
  },
  {
   "cell_type": "markdown",
   "metadata": {},
   "source": [
    "Nadaljnje tabele prikazujejo države urejene po teži. Vidimo lahko, da so izmed vseh držav najtežji moški na Cookovih otokih, ženske pa v Ameriški Samoi. Najlažji moški se po podatkih nahajajo v Vzhodnem Timorju (tam so tudi najnižji moški glede na države), kjer so tudi ženske najlažje."
   ]
  },
  {
   "cell_type": "code",
   "execution_count": 251,
   "metadata": {},
   "outputs": [
    {
     "name": "stdout",
     "output_type": "stream",
     "text": [
      "          ime države  višina moških  teža moških  itm moških  višina žensk  \\\n",
      "36      Cook Islands           1.78        103.7        32.7          1.67   \n",
      "44    American Samoa           1.77        103.2        33.1          1.67   \n",
      "47           Tokelau           1.76         99.0        32.0          1.66   \n",
      "42              Niue           1.77         98.8        31.5          1.67   \n",
      "35  French Polynesia           1.78         93.8        29.6          1.66   \n",
      "\n",
      "    teža žensk  itm žensk  \n",
      "36        92.8       33.3  \n",
      "44        98.1       35.2  \n",
      "47        92.5       33.7  \n",
      "42        92.6       33.4  \n",
      "35        81.3       29.5  \n"
     ]
    },
    {
     "data": {
      "text/plain": [
       "36     103.7\n",
       "44     103.2\n",
       "47      99.0\n",
       "42      98.8\n",
       "35      93.8\n",
       "       ...  \n",
       "90      58.8\n",
       "120     58.4\n",
       "122     57.7\n",
       "109     56.5\n",
       "127     53.9\n",
       "Name: teža moških, Length: 127, dtype: float64"
      ]
     },
     "execution_count": 251,
     "metadata": {},
     "output_type": "execute_result"
    }
   ],
   "source": [
    "countries.sort_values(by=\"teža moških\", ascending = False, inplace = True)\n",
    "countries\n",
    "print(countries.head(5))\n",
    "countries[\"teža moških\"]"
   ]
  },
  {
   "cell_type": "code",
   "execution_count": 252,
   "metadata": {},
   "outputs": [
    {
     "name": "stdout",
     "output_type": "stream",
     "text": [
      "        ime države  višina moških  teža moških  itm moških  višina žensk  \\\n",
      "44  American Samoa           1.77        103.2        33.1          1.67   \n",
      "57           Tonga           1.75         93.7        30.7          1.66   \n",
      "36    Cook Islands           1.78        103.7        32.7          1.67   \n",
      "42            Niue           1.77         98.8        31.5          1.67   \n",
      "47         Tokelau           1.76         99.0        32.0          1.66   \n",
      "\n",
      "    teža žensk  itm žensk  \n",
      "44        98.1       35.2  \n",
      "57        93.1       33.9  \n",
      "36        92.8       33.3  \n",
      "42        92.6       33.4  \n",
      "47        92.5       33.7  \n"
     ]
    },
    {
     "data": {
      "text/plain": [
       "44     98.1\n",
       "57     93.1\n",
       "36     92.8\n",
       "42     92.6\n",
       "47     92.5\n",
       "       ... \n",
       "123    51.6\n",
       "113    51.5\n",
       "122    50.5\n",
       "120    49.2\n",
       "127    49.0\n",
       "Name: teža žensk, Length: 127, dtype: float64"
      ]
     },
     "execution_count": 252,
     "metadata": {},
     "output_type": "execute_result"
    }
   ],
   "source": [
    "countries.sort_values(by=\"teža žensk\", ascending = False, inplace = True)\n",
    "countries\n",
    "print(countries.head(5))\n",
    "countries[\"teža žensk\"]"
   ]
  },
  {
   "cell_type": "code",
   "execution_count": 253,
   "metadata": {},
   "outputs": [
    {
     "name": "stdout",
     "output_type": "stream",
     "text": [
      "     ime države  višina moških  teža moških  itm moških  višina žensk  \\\n",
      "127  East Timor           1.59         53.9        21.2          1.52   \n",
      "109    Ethiopia           1.68         56.5        20.1          1.57   \n",
      "122  Bangladesh           1.65         57.7        21.3          1.52   \n",
      "120  Madagascar           1.65         58.4        21.5          1.53   \n",
      "90      Eritrea           1.70         58.8        20.3          1.57   \n",
      "\n",
      "     teža žensk  itm žensk  \n",
      "127        49.0       21.2  \n",
      "109        51.6       21.0  \n",
      "122        50.5       21.8  \n",
      "120        49.2       21.1  \n",
      "90         52.2       21.1  \n"
     ]
    },
    {
     "data": {
      "text/plain": [
       "127     53.9\n",
       "109     56.5\n",
       "122     57.7\n",
       "120     58.4\n",
       "90      58.8\n",
       "       ...  \n",
       "35      93.8\n",
       "42      98.8\n",
       "47      99.0\n",
       "44     103.2\n",
       "36     103.7\n",
       "Name: teža moških, Length: 127, dtype: float64"
      ]
     },
     "execution_count": 253,
     "metadata": {},
     "output_type": "execute_result"
    }
   ],
   "source": [
    "countries.sort_values(by=\"teža moških\", ascending = True, inplace = True)\n",
    "countries\n",
    "print(countries.head(5))\n",
    "countries[\"teža moških\"]"
   ]
  },
  {
   "cell_type": "code",
   "execution_count": 254,
   "metadata": {},
   "outputs": [
    {
     "name": "stdout",
     "output_type": "stream",
     "text": [
      "     ime države  višina moških  teža moških  itm moških  višina žensk  \\\n",
      "127  East Timor           1.59         53.9        21.2          1.52   \n",
      "120  Madagascar           1.65         58.4        21.5          1.53   \n",
      "122  Bangladesh           1.65         57.7        21.3          1.52   \n",
      "113     Burundi           1.67         60.5        21.8          1.55   \n",
      "123       Nepal           1.64         60.5        22.5          1.52   \n",
      "\n",
      "     teža žensk  itm žensk  \n",
      "127        49.0       21.2  \n",
      "120        49.2       21.1  \n",
      "122        50.5       21.8  \n",
      "113        51.5       21.5  \n",
      "123        51.6       22.3  \n"
     ]
    },
    {
     "data": {
      "text/plain": [
       "127    49.0\n",
       "120    49.2\n",
       "122    50.5\n",
       "113    51.5\n",
       "123    51.6\n",
       "       ... \n",
       "47     92.5\n",
       "42     92.6\n",
       "36     92.8\n",
       "57     93.1\n",
       "44     98.1\n",
       "Name: teža žensk, Length: 127, dtype: float64"
      ]
     },
     "execution_count": 254,
     "metadata": {},
     "output_type": "execute_result"
    }
   ],
   "source": [
    "countries.sort_values(by=\"teža žensk\", ascending = True, inplace = True)\n",
    "countries\n",
    "print(countries.head(5))\n",
    "countries[\"teža žensk\"]"
   ]
  },
  {
   "cell_type": "markdown",
   "metadata": {},
   "source": [
    "### 1.2. Kontinenti"
   ]
  },
  {
   "cell_type": "markdown",
   "metadata": {},
   "source": [
    "Analogno kot pri državah je v spodnjih tabelah prikazan seznam delov kontinentov, ki sem jih zajela v svoji projektni nalogi. Vsebuje podatke o teži in teži tako moških kot žensk. V tej datoteki sem se osredotočila na analiziranje podatkov teže."
   ]
  },
  {
   "cell_type": "code",
   "execution_count": 255,
   "metadata": {},
   "outputs": [
    {
     "data": {
      "text/html": [
       "<div>\n",
       "<style scoped>\n",
       "    .dataframe tbody tr th:only-of-type {\n",
       "        vertical-align: middle;\n",
       "    }\n",
       "\n",
       "    .dataframe tbody tr th {\n",
       "        vertical-align: top;\n",
       "    }\n",
       "\n",
       "    .dataframe thead th {\n",
       "        text-align: right;\n",
       "    }\n",
       "</style>\n",
       "<table border=\"1\" class=\"dataframe\">\n",
       "  <thead>\n",
       "    <tr style=\"text-align: right;\">\n",
       "      <th></th>\n",
       "      <th>del kontinenta</th>\n",
       "      <th>višina moških</th>\n",
       "      <th>teža moških</th>\n",
       "      <th>višina žensk</th>\n",
       "      <th>teža žensk</th>\n",
       "    </tr>\n",
       "  </thead>\n",
       "  <tbody>\n",
       "    <tr>\n",
       "      <th>1</th>\n",
       "      <td>Northern Africa</td>\n",
       "      <td>1.73</td>\n",
       "      <td>77.9</td>\n",
       "      <td>1.61</td>\n",
       "      <td>73.7</td>\n",
       "    </tr>\n",
       "    <tr>\n",
       "      <th>2</th>\n",
       "      <td>Eastern Africa</td>\n",
       "      <td>1.67</td>\n",
       "      <td>60.1</td>\n",
       "      <td>1.57</td>\n",
       "      <td>56.2</td>\n",
       "    </tr>\n",
       "    <tr>\n",
       "      <th>3</th>\n",
       "      <td>Western Africa</td>\n",
       "      <td>1.70</td>\n",
       "      <td>64.9</td>\n",
       "      <td>1.59</td>\n",
       "      <td>60.1</td>\n",
       "    </tr>\n",
       "    <tr>\n",
       "      <th>4</th>\n",
       "      <td>Southern Africa</td>\n",
       "      <td>1.69</td>\n",
       "      <td>71.2</td>\n",
       "      <td>1.59</td>\n",
       "      <td>73.2</td>\n",
       "    </tr>\n",
       "    <tr>\n",
       "      <th>5</th>\n",
       "      <td>Central Africa</td>\n",
       "      <td>1.69</td>\n",
       "      <td>62.6</td>\n",
       "      <td>1.58</td>\n",
       "      <td>58.0</td>\n",
       "    </tr>\n",
       "    <tr>\n",
       "      <th>...</th>\n",
       "      <td>...</td>\n",
       "      <td>...</td>\n",
       "      <td>...</td>\n",
       "      <td>...</td>\n",
       "      <td>...</td>\n",
       "    </tr>\n",
       "    <tr>\n",
       "      <th>18</th>\n",
       "      <td>Northern Europe</td>\n",
       "      <td>1.79</td>\n",
       "      <td>87.1</td>\n",
       "      <td>1.65</td>\n",
       "      <td>72.3</td>\n",
       "    </tr>\n",
       "    <tr>\n",
       "      <th>19</th>\n",
       "      <td>Eastern Europe</td>\n",
       "      <td>1.78</td>\n",
       "      <td>83.8</td>\n",
       "      <td>1.65</td>\n",
       "      <td>72.2</td>\n",
       "    </tr>\n",
       "    <tr>\n",
       "      <th>20</th>\n",
       "      <td>Polynesia</td>\n",
       "      <td>1.76</td>\n",
       "      <td>93.8</td>\n",
       "      <td>1.65</td>\n",
       "      <td>87.3</td>\n",
       "    </tr>\n",
       "    <tr>\n",
       "      <th>21</th>\n",
       "      <td>Melanesia</td>\n",
       "      <td>1.64</td>\n",
       "      <td>68.1</td>\n",
       "      <td>1.57</td>\n",
       "      <td>64.6</td>\n",
       "    </tr>\n",
       "    <tr>\n",
       "      <th>22</th>\n",
       "      <td>Micronesia</td>\n",
       "      <td>1.69</td>\n",
       "      <td>82.7</td>\n",
       "      <td>1.59</td>\n",
       "      <td>78.9</td>\n",
       "    </tr>\n",
       "  </tbody>\n",
       "</table>\n",
       "<p>22 rows × 5 columns</p>\n",
       "</div>"
      ],
      "text/plain": [
       "     del kontinenta  višina moških  teža moških  višina žensk  teža žensk\n",
       "1   Northern Africa           1.73         77.9          1.61        73.7\n",
       "2    Eastern Africa           1.67         60.1          1.57        56.2\n",
       "3    Western Africa           1.70         64.9          1.59        60.1\n",
       "4   Southern Africa           1.69         71.2          1.59        73.2\n",
       "5    Central Africa           1.69         62.6          1.58        58.0\n",
       "..              ...            ...          ...           ...         ...\n",
       "18  Northern Europe           1.79         87.1          1.65        72.3\n",
       "19   Eastern Europe           1.78         83.8          1.65        72.2\n",
       "20        Polynesia           1.76         93.8          1.65        87.3\n",
       "21        Melanesia           1.64         68.1          1.57        64.6\n",
       "22       Micronesia           1.69         82.7          1.59        78.9\n",
       "\n",
       "[22 rows x 5 columns]"
      ]
     },
     "execution_count": 255,
     "metadata": {},
     "output_type": "execute_result"
    }
   ],
   "source": [
    "continents.index += 1\n",
    "continents"
   ]
  },
  {
   "cell_type": "markdown",
   "metadata": {},
   "source": [
    "Nadaljnje tabele prikazujejo dele kontinentov urejene po teži. Vidimo lahko, da so najtežji moški v Polineziji in enako velja za ženske. Najlažji moški se po podatkih nahajajo v vzhodni Afriki, ženske pa v južni Aziji (tam so tudi najnižje ženske glede na dele kontinentov).        "
   ]
  },
  {
   "cell_type": "code",
   "execution_count": 256,
   "metadata": {},
   "outputs": [
    {
     "name": "stdout",
     "output_type": "stream",
     "text": [
      "           del kontinenta  višina moških  teža moških  višina žensk  \\\n",
      "20              Polynesia           1.76         93.8          1.65   \n",
      "7           North America           1.77         90.2          1.63   \n",
      "15  Australia/New Zealand           1.78         88.4          1.65   \n",
      "18        Northern Europe           1.79         87.1          1.65   \n",
      "16         Western Europe           1.80         86.1          1.66   \n",
      "\n",
      "    teža žensk  \n",
      "20        87.3  \n",
      "7         76.6  \n",
      "15        73.1  \n",
      "18        72.3  \n",
      "16        69.2  \n"
     ]
    },
    {
     "data": {
      "text/plain": [
       "20    93.8\n",
       "7     90.2\n",
       "15    88.4\n",
       "18    87.1\n",
       "16    86.1\n",
       "      ... \n",
       "3     64.9\n",
       "14    62.8\n",
       "5     62.6\n",
       "12    60.9\n",
       "2     60.1\n",
       "Name: teža moških, Length: 22, dtype: float64"
      ]
     },
     "execution_count": 256,
     "metadata": {},
     "output_type": "execute_result"
    }
   ],
   "source": [
    "continents.sort_values(by=\"teža moških\", ascending = False, inplace = True)\n",
    "continents\n",
    "print(continents.head(5))\n",
    "continents[\"teža moških\"]"
   ]
  },
  {
   "cell_type": "code",
   "execution_count": 257,
   "metadata": {},
   "outputs": [
    {
     "name": "stdout",
     "output_type": "stream",
     "text": [
      "     del kontinenta  višina moških  teža moških  višina žensk  teža žensk\n",
      "20        Polynesia           1.76         93.8          1.65        87.3\n",
      "22       Micronesia           1.69         82.7          1.59        78.9\n",
      "7     North America           1.77         90.2          1.63        76.6\n",
      "1   Northern Africa           1.73         77.9          1.61        73.7\n",
      "4   Southern Africa           1.69         71.2          1.59        73.2\n"
     ]
    },
    {
     "data": {
      "text/plain": [
       "20    87.3\n",
       "22    78.9\n",
       "7     76.6\n",
       "1     73.7\n",
       "4     73.2\n",
       "      ... \n",
       "3     60.1\n",
       "5     58.0\n",
       "14    56.7\n",
       "2     56.2\n",
       "12    54.0\n",
       "Name: teža žensk, Length: 22, dtype: float64"
      ]
     },
     "execution_count": 257,
     "metadata": {},
     "output_type": "execute_result"
    }
   ],
   "source": [
    "continents.sort_values(by=\"teža žensk\", ascending = False, inplace = True)\n",
    "continents\n",
    "print(continents.head(5))\n",
    "continents[\"teža žensk\"]"
   ]
  },
  {
   "cell_type": "code",
   "execution_count": 258,
   "metadata": {},
   "outputs": [
    {
     "name": "stdout",
     "output_type": "stream",
     "text": [
      "    del kontinenta  višina moških  teža moških  višina žensk  teža žensk\n",
      "2   Eastern Africa           1.67         60.1          1.57        56.2\n",
      "12      South Asia           1.66         60.9          1.55        54.0\n",
      "5   Central Africa           1.69         62.6          1.58        58.0\n",
      "14  Southeast Asia           1.67         62.8          1.55        56.7\n",
      "3   Western Africa           1.70         64.9          1.59        60.1\n"
     ]
    },
    {
     "data": {
      "text/plain": [
       "2     60.1\n",
       "12    60.9\n",
       "5     62.6\n",
       "14    62.8\n",
       "3     64.9\n",
       "      ... \n",
       "16    86.1\n",
       "18    87.1\n",
       "15    88.4\n",
       "7     90.2\n",
       "20    93.8\n",
       "Name: teža moških, Length: 22, dtype: float64"
      ]
     },
     "execution_count": 258,
     "metadata": {},
     "output_type": "execute_result"
    }
   ],
   "source": [
    "continents.sort_values(by=\"teža moških\", ascending = True, inplace = True)\n",
    "continents\n",
    "print(continents.head(5))\n",
    "continents[\"teža moških\"]"
   ]
  },
  {
   "cell_type": "code",
   "execution_count": 259,
   "metadata": {},
   "outputs": [
    {
     "name": "stdout",
     "output_type": "stream",
     "text": [
      "    del kontinenta  višina moških  teža moških  višina žensk  teža žensk\n",
      "12      South Asia           1.66         60.9          1.55        54.0\n",
      "2   Eastern Africa           1.67         60.1          1.57        56.2\n",
      "14  Southeast Asia           1.67         62.8          1.55        56.7\n",
      "5   Central Africa           1.69         62.6          1.58        58.0\n",
      "3   Western Africa           1.70         64.9          1.59        60.1\n"
     ]
    },
    {
     "data": {
      "text/plain": [
       "12    54.0\n",
       "2     56.2\n",
       "14    56.7\n",
       "5     58.0\n",
       "3     60.1\n",
       "      ... \n",
       "4     73.2\n",
       "1     73.7\n",
       "7     76.6\n",
       "22    78.9\n",
       "20    87.3\n",
       "Name: teža žensk, Length: 22, dtype: float64"
      ]
     },
     "execution_count": 259,
     "metadata": {},
     "output_type": "execute_result"
    }
   ],
   "source": [
    "continents.sort_values(by=\"teža žensk\", ascending = True, inplace = True)\n",
    "continents\n",
    "print(continents.head(5))\n",
    "continents[\"teža žensk\"]"
   ]
  },
  {
   "cell_type": "markdown",
   "metadata": {},
   "source": [
    "## 2. Podtabela"
   ]
  },
  {
   "cell_type": "markdown",
   "metadata": {},
   "source": [
    "### 2.1. Države"
   ]
  },
  {
   "cell_type": "code",
   "execution_count": 260,
   "metadata": {},
   "outputs": [
    {
     "data": {
      "text/html": [
       "<div>\n",
       "<style scoped>\n",
       "    .dataframe tbody tr th:only-of-type {\n",
       "        vertical-align: middle;\n",
       "    }\n",
       "\n",
       "    .dataframe tbody tr th {\n",
       "        vertical-align: top;\n",
       "    }\n",
       "\n",
       "    .dataframe thead th {\n",
       "        text-align: right;\n",
       "    }\n",
       "</style>\n",
       "<table border=\"1\" class=\"dataframe\">\n",
       "  <thead>\n",
       "    <tr style=\"text-align: right;\">\n",
       "      <th></th>\n",
       "      <th>ime države</th>\n",
       "      <th>višina moških</th>\n",
       "      <th>teža moških</th>\n",
       "      <th>itm moških</th>\n",
       "      <th>višina žensk</th>\n",
       "      <th>teža žensk</th>\n",
       "      <th>itm žensk</th>\n",
       "    </tr>\n",
       "  </thead>\n",
       "  <tbody>\n",
       "    <tr>\n",
       "      <th>127</th>\n",
       "      <td>East Timor</td>\n",
       "      <td>1.59</td>\n",
       "      <td>53.9</td>\n",
       "      <td>21.2</td>\n",
       "      <td>1.52</td>\n",
       "      <td>49.0</td>\n",
       "      <td>21.2</td>\n",
       "    </tr>\n",
       "    <tr>\n",
       "      <th>120</th>\n",
       "      <td>Madagascar</td>\n",
       "      <td>1.65</td>\n",
       "      <td>58.4</td>\n",
       "      <td>21.5</td>\n",
       "      <td>1.53</td>\n",
       "      <td>49.2</td>\n",
       "      <td>21.1</td>\n",
       "    </tr>\n",
       "    <tr>\n",
       "      <th>122</th>\n",
       "      <td>Bangladesh</td>\n",
       "      <td>1.65</td>\n",
       "      <td>57.7</td>\n",
       "      <td>21.3</td>\n",
       "      <td>1.52</td>\n",
       "      <td>50.5</td>\n",
       "      <td>21.8</td>\n",
       "    </tr>\n",
       "    <tr>\n",
       "      <th>113</th>\n",
       "      <td>Burundi</td>\n",
       "      <td>1.67</td>\n",
       "      <td>60.5</td>\n",
       "      <td>21.8</td>\n",
       "      <td>1.55</td>\n",
       "      <td>51.5</td>\n",
       "      <td>21.5</td>\n",
       "    </tr>\n",
       "    <tr>\n",
       "      <th>123</th>\n",
       "      <td>Nepal</td>\n",
       "      <td>1.64</td>\n",
       "      <td>60.5</td>\n",
       "      <td>22.5</td>\n",
       "      <td>1.52</td>\n",
       "      <td>51.6</td>\n",
       "      <td>22.3</td>\n",
       "    </tr>\n",
       "    <tr>\n",
       "      <th>...</th>\n",
       "      <td>...</td>\n",
       "      <td>...</td>\n",
       "      <td>...</td>\n",
       "      <td>...</td>\n",
       "      <td>...</td>\n",
       "      <td>...</td>\n",
       "      <td>...</td>\n",
       "    </tr>\n",
       "    <tr>\n",
       "      <th>47</th>\n",
       "      <td>Tokelau</td>\n",
       "      <td>1.76</td>\n",
       "      <td>99.0</td>\n",
       "      <td>32.0</td>\n",
       "      <td>1.66</td>\n",
       "      <td>92.5</td>\n",
       "      <td>33.7</td>\n",
       "    </tr>\n",
       "    <tr>\n",
       "      <th>42</th>\n",
       "      <td>Niue</td>\n",
       "      <td>1.77</td>\n",
       "      <td>98.8</td>\n",
       "      <td>31.5</td>\n",
       "      <td>1.67</td>\n",
       "      <td>92.6</td>\n",
       "      <td>33.4</td>\n",
       "    </tr>\n",
       "    <tr>\n",
       "      <th>36</th>\n",
       "      <td>Cook Islands</td>\n",
       "      <td>1.78</td>\n",
       "      <td>103.7</td>\n",
       "      <td>32.7</td>\n",
       "      <td>1.67</td>\n",
       "      <td>92.8</td>\n",
       "      <td>33.3</td>\n",
       "    </tr>\n",
       "    <tr>\n",
       "      <th>57</th>\n",
       "      <td>Tonga</td>\n",
       "      <td>1.75</td>\n",
       "      <td>93.7</td>\n",
       "      <td>30.7</td>\n",
       "      <td>1.66</td>\n",
       "      <td>93.1</td>\n",
       "      <td>33.9</td>\n",
       "    </tr>\n",
       "    <tr>\n",
       "      <th>44</th>\n",
       "      <td>American Samoa</td>\n",
       "      <td>1.77</td>\n",
       "      <td>103.2</td>\n",
       "      <td>33.1</td>\n",
       "      <td>1.67</td>\n",
       "      <td>98.1</td>\n",
       "      <td>35.2</td>\n",
       "    </tr>\n",
       "  </tbody>\n",
       "</table>\n",
       "<p>127 rows × 7 columns</p>\n",
       "</div>"
      ],
      "text/plain": [
       "         ime države  višina moških  teža moških  itm moških  višina žensk  \\\n",
       "127      East Timor           1.59         53.9        21.2          1.52   \n",
       "120      Madagascar           1.65         58.4        21.5          1.53   \n",
       "122      Bangladesh           1.65         57.7        21.3          1.52   \n",
       "113         Burundi           1.67         60.5        21.8          1.55   \n",
       "123           Nepal           1.64         60.5        22.5          1.52   \n",
       "..              ...            ...          ...         ...           ...   \n",
       "47          Tokelau           1.76         99.0        32.0          1.66   \n",
       "42             Niue           1.77         98.8        31.5          1.67   \n",
       "36     Cook Islands           1.78        103.7        32.7          1.67   \n",
       "57            Tonga           1.75         93.7        30.7          1.66   \n",
       "44   American Samoa           1.77        103.2        33.1          1.67   \n",
       "\n",
       "     teža žensk  itm žensk  \n",
       "127        49.0       21.2  \n",
       "120        49.2       21.1  \n",
       "122        50.5       21.8  \n",
       "113        51.5       21.5  \n",
       "123        51.6       22.3  \n",
       "..          ...        ...  \n",
       "47         92.5       33.7  \n",
       "42         92.6       33.4  \n",
       "36         92.8       33.3  \n",
       "57         93.1       33.9  \n",
       "44         98.1       35.2  \n",
       "\n",
       "[127 rows x 7 columns]"
      ]
     },
     "execution_count": 260,
     "metadata": {},
     "output_type": "execute_result"
    }
   ],
   "source": [
    "podtabela1 = countries[[\"ime države\", \"višina moških\", \"teža moških\", \"itm moških\", \"višina žensk\", \"teža žensk\", \"itm žensk\"]]\n",
    "podtabela1"
   ]
  },
  {
   "cell_type": "markdown",
   "metadata": {},
   "source": [
    "### 2.2. Kontinenti"
   ]
  },
  {
   "cell_type": "code",
   "execution_count": 261,
   "metadata": {},
   "outputs": [
    {
     "data": {
      "text/html": [
       "<div>\n",
       "<style scoped>\n",
       "    .dataframe tbody tr th:only-of-type {\n",
       "        vertical-align: middle;\n",
       "    }\n",
       "\n",
       "    .dataframe tbody tr th {\n",
       "        vertical-align: top;\n",
       "    }\n",
       "\n",
       "    .dataframe thead th {\n",
       "        text-align: right;\n",
       "    }\n",
       "</style>\n",
       "<table border=\"1\" class=\"dataframe\">\n",
       "  <thead>\n",
       "    <tr style=\"text-align: right;\">\n",
       "      <th></th>\n",
       "      <th>del kontinenta</th>\n",
       "      <th>višina moških</th>\n",
       "      <th>teža moških</th>\n",
       "      <th>višina žensk</th>\n",
       "      <th>teža žensk</th>\n",
       "    </tr>\n",
       "  </thead>\n",
       "  <tbody>\n",
       "    <tr>\n",
       "      <th>12</th>\n",
       "      <td>South Asia</td>\n",
       "      <td>1.66</td>\n",
       "      <td>60.9</td>\n",
       "      <td>1.55</td>\n",
       "      <td>54.0</td>\n",
       "    </tr>\n",
       "    <tr>\n",
       "      <th>2</th>\n",
       "      <td>Eastern Africa</td>\n",
       "      <td>1.67</td>\n",
       "      <td>60.1</td>\n",
       "      <td>1.57</td>\n",
       "      <td>56.2</td>\n",
       "    </tr>\n",
       "    <tr>\n",
       "      <th>14</th>\n",
       "      <td>Southeast Asia</td>\n",
       "      <td>1.67</td>\n",
       "      <td>62.8</td>\n",
       "      <td>1.55</td>\n",
       "      <td>56.7</td>\n",
       "    </tr>\n",
       "    <tr>\n",
       "      <th>5</th>\n",
       "      <td>Central Africa</td>\n",
       "      <td>1.69</td>\n",
       "      <td>62.6</td>\n",
       "      <td>1.58</td>\n",
       "      <td>58.0</td>\n",
       "    </tr>\n",
       "    <tr>\n",
       "      <th>3</th>\n",
       "      <td>Western Africa</td>\n",
       "      <td>1.70</td>\n",
       "      <td>64.9</td>\n",
       "      <td>1.59</td>\n",
       "      <td>60.1</td>\n",
       "    </tr>\n",
       "    <tr>\n",
       "      <th>...</th>\n",
       "      <td>...</td>\n",
       "      <td>...</td>\n",
       "      <td>...</td>\n",
       "      <td>...</td>\n",
       "      <td>...</td>\n",
       "    </tr>\n",
       "    <tr>\n",
       "      <th>4</th>\n",
       "      <td>Southern Africa</td>\n",
       "      <td>1.69</td>\n",
       "      <td>71.2</td>\n",
       "      <td>1.59</td>\n",
       "      <td>73.2</td>\n",
       "    </tr>\n",
       "    <tr>\n",
       "      <th>1</th>\n",
       "      <td>Northern Africa</td>\n",
       "      <td>1.73</td>\n",
       "      <td>77.9</td>\n",
       "      <td>1.61</td>\n",
       "      <td>73.7</td>\n",
       "    </tr>\n",
       "    <tr>\n",
       "      <th>7</th>\n",
       "      <td>North America</td>\n",
       "      <td>1.77</td>\n",
       "      <td>90.2</td>\n",
       "      <td>1.63</td>\n",
       "      <td>76.6</td>\n",
       "    </tr>\n",
       "    <tr>\n",
       "      <th>22</th>\n",
       "      <td>Micronesia</td>\n",
       "      <td>1.69</td>\n",
       "      <td>82.7</td>\n",
       "      <td>1.59</td>\n",
       "      <td>78.9</td>\n",
       "    </tr>\n",
       "    <tr>\n",
       "      <th>20</th>\n",
       "      <td>Polynesia</td>\n",
       "      <td>1.76</td>\n",
       "      <td>93.8</td>\n",
       "      <td>1.65</td>\n",
       "      <td>87.3</td>\n",
       "    </tr>\n",
       "  </tbody>\n",
       "</table>\n",
       "<p>22 rows × 5 columns</p>\n",
       "</div>"
      ],
      "text/plain": [
       "     del kontinenta  višina moških  teža moških  višina žensk  teža žensk\n",
       "12       South Asia           1.66         60.9          1.55        54.0\n",
       "2    Eastern Africa           1.67         60.1          1.57        56.2\n",
       "14   Southeast Asia           1.67         62.8          1.55        56.7\n",
       "5    Central Africa           1.69         62.6          1.58        58.0\n",
       "3    Western Africa           1.70         64.9          1.59        60.1\n",
       "..              ...            ...          ...           ...         ...\n",
       "4   Southern Africa           1.69         71.2          1.59        73.2\n",
       "1   Northern Africa           1.73         77.9          1.61        73.7\n",
       "7     North America           1.77         90.2          1.63        76.6\n",
       "22       Micronesia           1.69         82.7          1.59        78.9\n",
       "20        Polynesia           1.76         93.8          1.65        87.3\n",
       "\n",
       "[22 rows x 5 columns]"
      ]
     },
     "execution_count": 261,
     "metadata": {},
     "output_type": "execute_result"
    }
   ],
   "source": [
    "podtabela2 = continents[[\"del kontinenta\", \"višina moških\", \"teža moških\", \"višina žensk\", \"teža žensk\"]]\n",
    "podtabela2"
   ]
  },
  {
   "cell_type": "markdown",
   "metadata": {},
   "source": [
    "## 3. Grafi in razni izračuni"
   ]
  },
  {
   "cell_type": "markdown",
   "metadata": {},
   "source": [
    "### 3.1. Države"
   ]
  },
  {
   "cell_type": "markdown",
   "metadata": {},
   "source": [
    "#### 3.1.1. Primerjava prvih in zadnjih 10 držav"
   ]
  },
  {
   "cell_type": "code",
   "execution_count": 262,
   "metadata": {},
   "outputs": [
    {
     "data": {
      "image/png": "[encoded data removed]",
      "text/plain": [
       "<Figure size 864x432 with 1 Axes>"
      ]
     },
     "metadata": {
      "needs_background": "light"
     },
     "output_type": "display_data"
    }
   ],
   "source": [
    "top_10_male_weights = countries.groupby('ime države')['teža moških'].mean().nlargest(10)\n",
    "female_weights = countries.groupby('ime države')['teža žensk'].mean()\n",
    "\n",
    "female_weights_sorted = female_weights[top_10_male_weights.index] # priredimo desetim največjim moškim težam ustrezne ženske teže\n",
    "\n",
    "plt.figure(figsize=(12, 6))\n",
    "\n",
    "plt.bar(top_10_male_weights.index, top_10_male_weights, width=0.4, label='teža moških')\n",
    "plt.bar(top_10_male_weights.index, female_weights_sorted, width=0.4, align='edge', label='teža žensk')\n",
    "\n",
    "plt.xlabel('Ime države')\n",
    "plt.ylabel('Teža')\n",
    "plt.title('Prvih 10 tež moških in žensk po državah')\n",
    "plt.xticks(rotation=45)\n",
    "plt.legend()\n",
    "plt.tight_layout()\n",
    "plt.show()\n"
   ]
  },
  {
   "cell_type": "code",
   "execution_count": 263,
   "metadata": {},
   "outputs": [
    {
     "data": {
      "image/png": "[encoded data removed]",
      "text/plain": [
       "<Figure size 864x432 with 1 Axes>"
      ]
     },
     "metadata": {
      "needs_background": "light"
     },
     "output_type": "display_data"
    }
   ],
   "source": [
    "bottom_10_male_weights = countries.groupby('ime države')['teža moških'].mean().nsmallest(10)\n",
    "female_weights = countries.groupby('ime države')['teža žensk'].mean()\n",
    "\n",
    "female_weights_sorted = female_weights[bottom_10_male_weights.index]\n",
    "\n",
    "plt.figure(figsize=(12, 6))\n",
    "\n",
    "plt.bar(bottom_10_male_weights.index, bottom_10_male_weights, width=0.4, label='teža moških')\n",
    "plt.bar(bottom_10_male_weights.index, female_weights_sorted, width=0.4, align='edge', label='teža žensk')\n",
    "\n",
    "plt.xlabel('Ime države')\n",
    "plt.ylabel('teža')\n",
    "plt.title('Zadnjih 10 tež moških in žensk po državah')\n",
    "plt.xticks(rotation=45)\n",
    "plt.legend()\n",
    "plt.tight_layout()\n",
    "plt.show()\n"
   ]
  },
  {
   "cell_type": "markdown",
   "metadata": {},
   "source": [
    "#### 3.1.2. Razlike tež med spoloma"
   ]
  },
  {
   "cell_type": "markdown",
   "metadata": {},
   "source": [
    "Naslednji računi prikazujejo, kolikšna je povprečna teža moškega in ženske glede na obravnavane države, za koliko se ti dve vrednosti razlikujeta in za kolikšen delež so povprečno moški težji od žensk ter kje se pojavi največja razlika med spoloma in kolikšna je. Opazimo, da so moški povprečno težki 78.92 kg, ženske 68.92 kg, da so moški v primerjavi z ženskami za 10 kg težji in da so moški po državah povprečno 14.51 % težji od žensk. Največja razlika med težo moških in žensk je se je izkazala Švici in znaša 21.6 kg.\n",
    "\n"
   ]
  },
  {
   "cell_type": "code",
   "execution_count": 264,
   "metadata": {},
   "outputs": [
    {
     "name": "stdout",
     "output_type": "stream",
     "text": [
      "Povprečna teža moškega glede na vse države je 78.92 kg.\n",
      "Povprečna teža ženske glede na vse države je 68.92 kg.\n"
     ]
    }
   ],
   "source": [
    "average_world_male_weight = round(np.mean(podtabela1[\"teža moških\"]), 2)\n",
    "average_world_female_weight = round(np.mean(podtabela1[\"teža žensk\"]), 2)\n",
    "\n",
    "print(\"Povprečna teža moškega glede na vse države je\", average_world_male_weight, \"kg.\")\n",
    "print(\"Povprečna teža ženske glede na vse države je\", average_world_female_weight, \"kg.\")\n"
   ]
  },
  {
   "cell_type": "code",
   "execution_count": 265,
   "metadata": {},
   "outputs": [
    {
     "data": {
      "image/png": "[encoded data removed]",
      "text/plain": [
       "<Figure size 432x432 with 1 Axes>"
      ]
     },
     "metadata": {
      "needs_background": "light"
     },
     "output_type": "display_data"
    }
   ],
   "source": [
    "average_weight = podtabela1[[\"teža moških\", \"teža žensk\"]].mean()\n",
    "\n",
    "plt.figure(figsize=(6, 6))\n",
    "average_weight.plot(kind=\"bar\")\n",
    "plt.xlabel(\"Spol\")\n",
    "plt.ylabel(\"Povprečna teža\")\n",
    "plt.title(\"Povprečna teža glede na spol\")\n",
    "plt.xticks(rotation=0)\n",
    "plt.tight_layout()\n",
    "plt.show()"
   ]
  },
  {
   "cell_type": "markdown",
   "metadata": {},
   "source": [
    "Koliko so moški težji od žensk?"
   ]
  },
  {
   "cell_type": "code",
   "execution_count": 266,
   "metadata": {},
   "outputs": [
    {
     "name": "stdout",
     "output_type": "stream",
     "text": [
      "Razlika med težo moških in žensk je 10.0 kg.\n"
     ]
    }
   ],
   "source": [
    "rounded_weight_difference = round(average_world_male_weight - average_world_female_weight, 2)\n",
    "\n",
    "print(\"Razlika med težo moških in žensk je\", rounded_weight_difference, \"kg.\")\n"
   ]
  },
  {
   "cell_type": "code",
   "execution_count": 267,
   "metadata": {},
   "outputs": [
    {
     "name": "stdout",
     "output_type": "stream",
     "text": [
      "Moški so po državah povprečno 14.51 % težji od žensk.\n"
     ]
    }
   ],
   "source": [
    "percentage_men_taller = (rounded_weight_difference / average_world_female_weight) * 100\n",
    "\n",
    "print(\"Moški so po državah povprečno\", round(percentage_men_taller, 2), \"% težji od žensk.\")\n"
   ]
  },
  {
   "cell_type": "markdown",
   "metadata": {},
   "source": [
    "Kolikšne so največje razlike med ITM vrednostmi in v katerih državah so?"
   ]
  },
  {
   "cell_type": "code",
   "execution_count": 268,
   "metadata": {},
   "outputs": [
    {
     "name": "stdout",
     "output_type": "stream",
     "text": [
      "Tabela držav z največjimi razlikami tež:\n",
      "     ime države  weight_difference\n",
      "25  Switzerland               21.6\n",
      "9      Slovakia               18.2\n",
      "49        Spain               18.1\n",
      "7       Czechia               17.7\n",
      "15       Poland               17.5\n",
      "..          ...                ...\n",
      "69        Samoa                1.3\n",
      "57        Tonga                0.6\n",
      "39      Grenada                0.6\n",
      "96     Zimbabwe                0.3\n",
      "20     Dominica                0.1\n",
      "\n",
      "[127 rows x 2 columns]\n"
     ]
    }
   ],
   "source": [
    "podtabela1[\"weight_difference\"] = abs(podtabela1[\"teža moških\"] - podtabela1[\"teža žensk\"])\n",
    "countries_ordered_by_weight_difference = podtabela1.sort_values(by=\"weight_difference\", ascending=False)\n",
    "\n",
    "countries_and_weight_differences = countries_ordered_by_weight_difference[[\"ime države\", \"weight_difference\"]]\n",
    "\n",
    "print(\"Tabela držav z največjimi razlikami tež:\")\n",
    "print(countries_and_weight_differences)"
   ]
  },
  {
   "cell_type": "code",
   "execution_count": 269,
   "metadata": {},
   "outputs": [
    {
     "data": {
      "image/png": "[encoded data removed]",
      "text/plain": [
       "<Figure size 864x432 with 1 Axes>"
      ]
     },
     "metadata": {
      "needs_background": "light"
     },
     "output_type": "display_data"
    }
   ],
   "source": [
    "plt.figure(figsize=(12, 6))\n",
    "\n",
    "plt.bar(countries_ordered_by_weight_difference[\"ime države\"].head(10), countries_ordered_by_weight_difference[\"teža moških\"].head(10), width=0.4, label='teža moških')\n",
    "plt.bar(countries_ordered_by_weight_difference[\"ime države\"].head(10), countries_ordered_by_weight_difference[\"teža žensk\"].head(10), width=0.4, align='edge', label='teža žensk')\n",
    "\n",
    "plt.xlabel('Ime države')\n",
    "plt.ylabel('Teža')\n",
    "plt.title('Top 10 držav z najvišjo razliko v teži med moškimi in ženskami')\n",
    "plt.xticks(rotation=45)\n",
    "plt.legend()\n",
    "plt.tight_layout()\n",
    "plt.show()"
   ]
  },
  {
   "cell_type": "code",
   "execution_count": 270,
   "metadata": {},
   "outputs": [
    {
     "name": "stdout",
     "output_type": "stream",
     "text": [
      "Največja razlika med težo moških in žensk je 21.6 kg.\n",
      "Ta razlika je prisotna na območju: Switzerland\n"
     ]
    }
   ],
   "source": [
    "max_weight_difference = round(np.max(np.abs(podtabela1[\"teža moških\"] - podtabela1[\"teža žensk\"])), 2)\n",
    "\n",
    "#poiščemo vrstico\n",
    "max_weight_row = podtabela1.loc[np.abs(podtabela1[\"teža moških\"] - podtabela1[\"teža žensk\"]).idxmax()]\n",
    "\n",
    "# poiščemo državo\n",
    "country_with_max_weight_difference = max_weight_row[\"ime države\"]\n",
    "\n",
    "print(\"Največja razlika med težo moških in žensk je\", max_weight_difference, \"kg.\")\n",
    "print(\"Ta razlika je prisotna na območju:\", country_with_max_weight_difference)\n"
   ]
  },
  {
   "cell_type": "code",
   "execution_count": 271,
   "metadata": {},
   "outputs": [
    {
     "data": {
      "image/png": "[encoded data removed]",
      "text/plain": [
       "<Figure size 720x432 with 1 Axes>"
      ]
     },
     "metadata": {
      "needs_background": "light"
     },
     "output_type": "display_data"
    }
   ],
   "source": [
    "plt.figure(figsize=(10, 6))\n",
    "plt.bar(countries_ordered_by_weight_difference[\"ime države\"].head(10), countries_ordered_by_weight_difference[\"weight_difference\"].head(10))\n",
    "plt.xlabel(\"Država\")\n",
    "plt.ylabel(\"Razlika v teži moških in žensk\")\n",
    "plt.title(\"Top 10 držav z najvišjo razliko teže moških in žensk\")\n",
    "plt.xticks(rotation=45, ha=\"right\")\n",
    "plt.tight_layout()\n",
    "plt.show()"
   ]
  },
  {
   "cell_type": "markdown",
   "metadata": {},
   "source": [
    "### 3.2. Kontinenti"
   ]
  },
  {
   "cell_type": "markdown",
   "metadata": {},
   "source": [
    "#### 3.2.1. Primerjava prvih in zadnjih 10 delov kontinentov"
   ]
  },
  {
   "cell_type": "code",
   "execution_count": 272,
   "metadata": {},
   "outputs": [
    {
     "data": {
      "image/png": "[encoded data removed]",
      "text/plain": [
       "<Figure size 864x432 with 1 Axes>"
      ]
     },
     "metadata": {
      "needs_background": "light"
     },
     "output_type": "display_data"
    }
   ],
   "source": [
    "top_10_male_weights_continents = continents.groupby('del kontinenta')['teža moških'].mean().nlargest(10)\n",
    "female_weights_continents = continents.groupby('del kontinenta')['teža žensk'].mean()\n",
    "\n",
    "female_weights_sorted_continents = female_weights_continents[top_10_male_weights_continents.index] # priredimo desetim največjim moškim težam ustrezne ženske teže\n",
    "\n",
    "plt.figure(figsize=(12, 6))\n",
    "\n",
    "plt.bar(top_10_male_weights_continents.index, top_10_male_weights_continents, width=0.4, label='teža moških')\n",
    "plt.bar(top_10_male_weights_continents.index, female_weights_sorted_continents, width=0.4, align='edge', label='teža žensk')\n",
    "\n",
    "plt.xlabel('Del kontinenta')\n",
    "plt.ylabel('teža')\n",
    "plt.title('Prvih 10 tež moških in žensk po kontinentih')\n",
    "plt.xticks(rotation=45)\n",
    "plt.legend()\n",
    "plt.tight_layout()\n",
    "plt.show()"
   ]
  },
  {
   "cell_type": "code",
   "execution_count": 273,
   "metadata": {},
   "outputs": [
    {
     "data": {
      "image/png": "[encoded data removed]",
      "text/plain": [
       "<Figure size 864x432 with 1 Axes>"
      ]
     },
     "metadata": {
      "needs_background": "light"
     },
     "output_type": "display_data"
    }
   ],
   "source": [
    "bottom_10_male_weights_continents = continents.groupby('del kontinenta')['teža moških'].mean().nsmallest(10)\n",
    "female_weights_continents = continents.groupby('del kontinenta')['teža žensk'].mean()\n",
    "\n",
    "female_weights_sorted_continents = female_weights[bottom_10_male_weights.index]\n",
    "\n",
    "plt.figure(figsize=(12, 6))\n",
    "\n",
    "plt.bar(bottom_10_male_weights_continents.index, bottom_10_male_weights_continents, width=0.4, label='teža moških')\n",
    "plt.bar(bottom_10_male_weights_continents.index, female_weights_sorted_continents, width=0.4, align='edge', label='teža žensk')\n",
    "\n",
    "plt.xlabel('Del kontinenta')\n",
    "plt.ylabel('teža')\n",
    "plt.title('Zadnjih 10 tež moških in žensk po kontinentih')\n",
    "plt.xticks(rotation=45)\n",
    "plt.legend()\n",
    "plt.tight_layout()\n",
    "plt.show()\n"
   ]
  },
  {
   "cell_type": "markdown",
   "metadata": {},
   "source": [
    "#### 3.2.2. Razlike tež med spoloma"
   ]
  },
  {
   "cell_type": "markdown",
   "metadata": {},
   "source": [
    "Analogno kot pri državah sem naredila račune, kolikšna je povprečna teža moškega in ženske glede na dele kontinentov, za koliko se ti dve vrednosti razlikujeta in za kolikšen delež so povprečno moški težji od žensk ter kje se pojavi največja razlika med spoloma in kolikšna je. Opazimo, da so moški povprečno težki 76.85 kg, ženske 68.34 kg, da so moški v primerjavi z ženskami za 8.51 kg težji in da so moški po državah povprečno 12.45 % težji od žensk. Največja razlika med težo moških in žensk je se je izkazala v vzhodni Afriki in znaša 16.9 kg (tam je bila tudi največja razlika med višino moških in žensk).\n",
    "\n"
   ]
  },
  {
   "cell_type": "code",
   "execution_count": 274,
   "metadata": {},
   "outputs": [
    {
     "name": "stdout",
     "output_type": "stream",
     "text": [
      "Povprečna teža moškega glede na kontinente je 76.85 kg.\n",
      "Povprečna teža ženske glede na kontinente je 68.34 kg.\n"
     ]
    }
   ],
   "source": [
    "average_world_male_weight_c = round(np.mean(podtabela2[\"teža moških\"]), 2)\n",
    "average_world_female_weight_c = round(np.mean(podtabela2[\"teža žensk\"]), 2)\n",
    "\n",
    "print(\"Povprečna teža moškega glede na kontinente je\", average_world_male_weight_c, \"kg.\")\n",
    "print(\"Povprečna teža ženske glede na kontinente je\", average_world_female_weight_c, \"kg.\")"
   ]
  },
  {
   "cell_type": "markdown",
   "metadata": {},
   "source": [
    "Koliko so moški težji od žensk?"
   ]
  },
  {
   "cell_type": "code",
   "execution_count": 275,
   "metadata": {},
   "outputs": [
    {
     "name": "stdout",
     "output_type": "stream",
     "text": [
      "Razlika med težo moških in žensk je 8.51 kg.\n"
     ]
    }
   ],
   "source": [
    "rounded_weight_difference_c = round(average_world_male_weight_c - average_world_female_weight_c, 2)\n",
    "\n",
    "print(\"Razlika med težo moških in žensk je\", rounded_weight_difference_c, \"kg.\")\n"
   ]
  },
  {
   "cell_type": "code",
   "execution_count": 276,
   "metadata": {},
   "outputs": [
    {
     "name": "stdout",
     "output_type": "stream",
     "text": [
      "Moški so po kontinentih povprečno 12.45 % težji od žensk.\n"
     ]
    }
   ],
   "source": [
    "percentage_men_taller_c = (rounded_weight_difference_c / average_world_female_weight_c) * 100\n",
    "\n",
    "print(\"Moški so po kontinentih povprečno\", round(percentage_men_taller_c, 2), \"% težji od žensk.\")"
   ]
  },
  {
   "cell_type": "markdown",
   "metadata": {},
   "source": [
    "Kje je največja razlika med moškimi in ženskami in kolikšna je?"
   ]
  },
  {
   "cell_type": "code",
   "execution_count": 277,
   "metadata": {},
   "outputs": [
    {
     "name": "stdout",
     "output_type": "stream",
     "text": [
      "Največja razlika med težo moških in žensk je 16.9 kg.\n",
      "Ta razlika je prisotna na območju: Eastern Africa\n"
     ]
    }
   ],
   "source": [
    "max_weight_difference_c = round(np.max(np.abs(podtabela2[\"teža moških\"] - podtabela2[\"teža žensk\"])), 2)\n",
    "\n",
    "#poiščemo vrstico\n",
    "max_weight_row_c = podtabela2.loc[np.abs(podtabela1[\"teža moških\"] - podtabela2[\"teža žensk\"]).idxmax()]\n",
    "\n",
    "# poiščemo državo\n",
    "continent_with_max_weight_difference = max_weight_row_c[\"del kontinenta\"]\n",
    "\n",
    "print(\"Največja razlika med težo moških in žensk je\", max_weight_difference_c, \"kg.\")\n",
    "print(\"Ta razlika je prisotna na območju:\", continent_with_max_weight_difference)\n"
   ]
  }
 ],
 "metadata": {
  "kernelspec": {
   "display_name": "Python 3.10.7 64-bit",
   "language": "python",
   "name": "python3"
  },
  "language_info": {
   "codemirror_mode": {
    "name": "ipython",
    "version": 3
   },
   "file_extension": ".py",
   "mimetype": "text/x-python",
   "name": "python",
   "nbconvert_exporter": "python",
   "pygments_lexer": "ipython3",
   "version": "3.10.7"
  },
  "orig_nbformat": 4,
  "vscode": {
   "interpreter": {
    "hash": "369f2c481f4da34e4445cda3fffd2e751bd1c4d706f27375911949ba6bb62e1c"
   }
  }
 },
 "nbformat": 4,
 "nbformat_minor": 2
}
