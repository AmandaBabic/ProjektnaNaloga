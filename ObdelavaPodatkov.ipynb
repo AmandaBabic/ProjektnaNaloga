{
 "cells": [
  {
   "cell_type": "code",
   "execution_count": null,
   "metadata": {},
   "outputs": [],
   "source": [
    "import csv\n",
    "import os\n",
    "import requests"
   ]
  },
  {
   "cell_type": "markdown",
   "metadata": {},
   "source": [
    "# Projektna naloga"
   ]
  },
  {
   "cell_type": "markdown",
   "metadata": {},
   "source": [
    "## 1. Pridobivanje podatkov"
   ]
  },
  {
   "cell_type": "code",
   "execution_count": null,
   "metadata": {},
   "outputs": [],
   "source": [
    "\n",
    "horse_frontpage_url = 'https://www.equibase.com/stats/?rbt=QH'\n",
    "# mapa, v katero bomo shranili podatke\n",
    "horse_directory = 'konji'\n",
    "# ime datoteke v katero bomo shranili glavno stran\n",
    "frontpage_filename = 'frontpage.html'\n",
    "# ime CSV datoteke v katero bomo shranili podatke\n",
    "csv_filename = 'podatki.csv'"
   ]
  }
 ],
 "metadata": {
  "language_info": {
   "name": "python"
  },
  "orig_nbformat": 4
 },
 "nbformat": 4,
 "nbformat_minor": 2
}
