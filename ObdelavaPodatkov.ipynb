{
 "cells": [
  {
   "cell_type": "code",
   "execution_count": 17,
   "metadata": {},
   "outputs": [],
   "source": [
    "import csv\n",
    "import os\n",
    "import requests"
   ]
  },
  {
   "cell_type": "markdown",
   "metadata": {},
   "source": [
    "# Projektna naloga"
   ]
  },
  {
   "cell_type": "markdown",
   "metadata": {},
   "source": [
    "## 1. Pridobivanje podatkov"
   ]
  },
  {
   "cell_type": "code",
   "execution_count": 20,
   "metadata": {},
   "outputs": [],
   "source": [
    "\n",
    "horse_2023_url = 'https://www.bloodhorse.com/horse-racing/thoroughbred-racing/leaders/horses/2023'\n",
    "\n",
    "\n",
    "\n",
    "horse_directory = 'ProjektnaNaloga'\n",
    "# ime datoteke v katero bomo shranili glavno stran\n",
    "page1_html = 'horses2023.html'\n",
    "\n",
    "# ime CSV datoteke v katero bomo shranili podatke\n",
    "csv_filename = 'podatki.csv'"
   ]
  },
  {
   "cell_type": "code",
   "execution_count": 21,
   "metadata": {},
   "outputs": [],
   "source": [
    "def download_url_to_string(url):\n",
    "    \n",
    "    try:\n",
    "        response = requests.get(url)\n",
    "        if response.status_code == 200:\n",
    "            return response.text\n",
    "        else:\n",
    "            raise ValueError(f\"Prišlo je do čudne kode: {response.status_code}\")\n",
    "    except Exception:\n",
    "        print(f\"Prišlo je do napake pri nalaganju strani {url}\")\n",
    "    \n",
    "    \n",
    "\n",
    "\n",
    "def save_string_to_file(text, directory, filename):\n",
    "    if directory != \"\":\n",
    "        os.makedirs(directory, exist_ok=True)\n",
    "    path = os.path.join(directory, filename)\n",
    "    with open(path, 'w', encoding='utf-8') as file_out:\n",
    "        file_out.write(text)\n",
    "    return None"
   ]
  },
  {
   "cell_type": "code",
   "execution_count": 14,
   "metadata": {},
   "outputs": [],
   "source": [
    "def save_frontpage(page, directory, filename):\n",
    "    vsebina = download_url_to_string(page)\n",
    "    if vsebina != None:\n",
    "        save_string_to_file(vsebina, directory, filename)\n",
    "    \n"
   ]
  },
  {
   "cell_type": "code",
   "execution_count": null,
   "metadata": {},
   "outputs": [],
   "source": []
  },
  {
   "cell_type": "code",
   "execution_count": 22,
   "metadata": {},
   "outputs": [],
   "source": [
    "save_frontpage(horse_2023_url, horse_directory, page1_html)"
   ]
  }
 ],
 "metadata": {
  "kernelspec": {
   "display_name": "Python 3.10.7 64-bit",
   "language": "python",
   "name": "python3"
  },
  "language_info": {
   "codemirror_mode": {
    "name": "ipython",
    "version": 3
   },
   "file_extension": ".py",
   "mimetype": "text/x-python",
   "name": "python",
   "nbconvert_exporter": "python",
   "pygments_lexer": "ipython3",
   "version": "3.10.7"
  },
  "orig_nbformat": 4,
  "vscode": {
   "interpreter": {
    "hash": "369f2c481f4da34e4445cda3fffd2e751bd1c4d706f27375911949ba6bb62e1c"
   }
  }
 },
 "nbformat": 4,
 "nbformat_minor": 2
}
