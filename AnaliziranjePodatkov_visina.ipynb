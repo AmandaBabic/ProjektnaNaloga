{
 "cells": [
  {
   "cell_type": "markdown",
   "metadata": {},
   "source": [
    "# Analiziranje podatkov glede na višino"
   ]
  },
  {
   "cell_type": "markdown",
   "metadata": {},
   "source": [
    "Naložimo ustrezne pakete"
   ]
  },
  {
   "cell_type": "code",
   "execution_count": 155,
   "metadata": {},
   "outputs": [],
   "source": [
    "# naložimo pakete\n",
    "import os\n",
    "import pandas as pd\n",
    "\n",
    "nov_directory = 'obdelani podatki'\n",
    "csv_drzave = 'drzave.csv'\n",
    "csv_kontinenti = 'kontinenti.csv'\n",
    "# izberemo interaktivni \"notebook\" stil risanja\n",
    "%matplotlib inline\n",
    "\n",
    "pd.set_option(\"display.max_rows\", 15)\n",
    "path1 = os.path.join(nov_directory, csv_drzave) \n",
    "path2 = os.path.join(nov_directory, csv_kontinenti) \n",
    "\n",
    "#naložimo razpredelnico, s katero bomo delali\n",
    "countries = pd.read_csv(path1)\n",
    "continents = pd.read_csv(path2)"
   ]
  },
  {
   "cell_type": "code",
   "execution_count": 156,
   "metadata": {},
   "outputs": [],
   "source": [
    "%matplotlib inline\n",
    "\n",
    "import matplotlib\n",
    "import numpy as np\n",
    "import matplotlib.pyplot as plt\n"
   ]
  },
  {
   "cell_type": "markdown",
   "metadata": {},
   "source": [
    "## 1. Splošno"
   ]
  },
  {
   "cell_type": "markdown",
   "metadata": {},
   "source": [
    "### 1.1. Države"
   ]
  },
  {
   "cell_type": "markdown",
   "metadata": {},
   "source": [
    "V spodnjih tabelah je prikazan seznam vseh držav, ki sem jih zajela v svoji projektni nalogi. Vsebuje podatke o višini, teži in itm-ju tako moških kot žensk. V tej datoteki sem se osredotočila na analiziranje podatkov višine."
   ]
  },
  {
   "cell_type": "code",
   "execution_count": 157,
   "metadata": {},
   "outputs": [
    {
     "data": {
      "text/html": [
       "<div>\n",
       "<style scoped>\n",
       "    .dataframe tbody tr th:only-of-type {\n",
       "        vertical-align: middle;\n",
       "    }\n",
       "\n",
       "    .dataframe tbody tr th {\n",
       "        vertical-align: top;\n",
       "    }\n",
       "\n",
       "    .dataframe thead th {\n",
       "        text-align: right;\n",
       "    }\n",
       "</style>\n",
       "<table border=\"1\" class=\"dataframe\">\n",
       "  <thead>\n",
       "    <tr style=\"text-align: right;\">\n",
       "      <th></th>\n",
       "      <th>ime države</th>\n",
       "      <th>višina moških</th>\n",
       "      <th>teža moških</th>\n",
       "      <th>itm moških</th>\n",
       "      <th>višina žensk</th>\n",
       "      <th>teža žensk</th>\n",
       "      <th>itm žensk</th>\n",
       "    </tr>\n",
       "  </thead>\n",
       "  <tbody>\n",
       "    <tr>\n",
       "      <th>1</th>\n",
       "      <td>Netherlands</td>\n",
       "      <td>1.84</td>\n",
       "      <td>87.9</td>\n",
       "      <td>26.1</td>\n",
       "      <td>1.70</td>\n",
       "      <td>73.2</td>\n",
       "      <td>25.3</td>\n",
       "    </tr>\n",
       "    <tr>\n",
       "      <th>2</th>\n",
       "      <td>Montenegro</td>\n",
       "      <td>1.83</td>\n",
       "      <td>90.4</td>\n",
       "      <td>27.0</td>\n",
       "      <td>1.70</td>\n",
       "      <td>75.3</td>\n",
       "      <td>26.2</td>\n",
       "    </tr>\n",
       "    <tr>\n",
       "      <th>3</th>\n",
       "      <td>Estonia</td>\n",
       "      <td>1.82</td>\n",
       "      <td>89.9</td>\n",
       "      <td>27.0</td>\n",
       "      <td>1.68</td>\n",
       "      <td>73.7</td>\n",
       "      <td>26.0</td>\n",
       "    </tr>\n",
       "    <tr>\n",
       "      <th>4</th>\n",
       "      <td>Denmark</td>\n",
       "      <td>1.82</td>\n",
       "      <td>86.8</td>\n",
       "      <td>26.3</td>\n",
       "      <td>1.69</td>\n",
       "      <td>70.2</td>\n",
       "      <td>24.6</td>\n",
       "    </tr>\n",
       "    <tr>\n",
       "      <th>5</th>\n",
       "      <td>Bosnia and Herzegovina</td>\n",
       "      <td>1.82</td>\n",
       "      <td>87.1</td>\n",
       "      <td>26.4</td>\n",
       "      <td>1.67</td>\n",
       "      <td>70.6</td>\n",
       "      <td>25.3</td>\n",
       "    </tr>\n",
       "    <tr>\n",
       "      <th>...</th>\n",
       "      <td>...</td>\n",
       "      <td>...</td>\n",
       "      <td>...</td>\n",
       "      <td>...</td>\n",
       "      <td>...</td>\n",
       "      <td>...</td>\n",
       "      <td>...</td>\n",
       "    </tr>\n",
       "    <tr>\n",
       "      <th>123</th>\n",
       "      <td>Nepal</td>\n",
       "      <td>1.64</td>\n",
       "      <td>60.5</td>\n",
       "      <td>22.5</td>\n",
       "      <td>1.52</td>\n",
       "      <td>51.6</td>\n",
       "      <td>22.3</td>\n",
       "    </tr>\n",
       "    <tr>\n",
       "      <th>124</th>\n",
       "      <td>Guatemala</td>\n",
       "      <td>1.64</td>\n",
       "      <td>69.1</td>\n",
       "      <td>25.7</td>\n",
       "      <td>1.51</td>\n",
       "      <td>61.9</td>\n",
       "      <td>27.3</td>\n",
       "    </tr>\n",
       "    <tr>\n",
       "      <th>125</th>\n",
       "      <td>Yemen</td>\n",
       "      <td>1.63</td>\n",
       "      <td>62.5</td>\n",
       "      <td>23.6</td>\n",
       "      <td>1.54</td>\n",
       "      <td>56.9</td>\n",
       "      <td>24.0</td>\n",
       "    </tr>\n",
       "    <tr>\n",
       "      <th>126</th>\n",
       "      <td>Laos</td>\n",
       "      <td>1.62</td>\n",
       "      <td>59.5</td>\n",
       "      <td>22.6</td>\n",
       "      <td>1.53</td>\n",
       "      <td>53.7</td>\n",
       "      <td>23.0</td>\n",
       "    </tr>\n",
       "    <tr>\n",
       "      <th>127</th>\n",
       "      <td>East Timor</td>\n",
       "      <td>1.59</td>\n",
       "      <td>53.9</td>\n",
       "      <td>21.2</td>\n",
       "      <td>1.52</td>\n",
       "      <td>49.0</td>\n",
       "      <td>21.2</td>\n",
       "    </tr>\n",
       "  </tbody>\n",
       "</table>\n",
       "<p>127 rows × 7 columns</p>\n",
       "</div>"
      ],
      "text/plain": [
       "                 ime države  višina moških  teža moških  itm moških  \\\n",
       "1               Netherlands           1.84         87.9        26.1   \n",
       "2                Montenegro           1.83         90.4        27.0   \n",
       "3                   Estonia           1.82         89.9        27.0   \n",
       "4                   Denmark           1.82         86.8        26.3   \n",
       "5    Bosnia and Herzegovina           1.82         87.1        26.4   \n",
       "..                      ...            ...          ...         ...   \n",
       "123                   Nepal           1.64         60.5        22.5   \n",
       "124               Guatemala           1.64         69.1        25.7   \n",
       "125                   Yemen           1.63         62.5        23.6   \n",
       "126                    Laos           1.62         59.5        22.6   \n",
       "127              East Timor           1.59         53.9        21.2   \n",
       "\n",
       "     višina žensk  teža žensk  itm žensk  \n",
       "1            1.70        73.2       25.3  \n",
       "2            1.70        75.3       26.2  \n",
       "3            1.68        73.7       26.0  \n",
       "4            1.69        70.2       24.6  \n",
       "5            1.67        70.6       25.3  \n",
       "..            ...         ...        ...  \n",
       "123          1.52        51.6       22.3  \n",
       "124          1.51        61.9       27.3  \n",
       "125          1.54        56.9       24.0  \n",
       "126          1.53        53.7       23.0  \n",
       "127          1.52        49.0       21.2  \n",
       "\n",
       "[127 rows x 7 columns]"
      ]
     },
     "execution_count": 157,
     "metadata": {},
     "output_type": "execute_result"
    }
   ],
   "source": [
    "countries.index += 1\n",
    "countries"
   ]
  },
  {
   "cell_type": "code",
   "execution_count": 158,
   "metadata": {},
   "outputs": [
    {
     "data": {
      "text/html": [
       "<div>\n",
       "<style scoped>\n",
       "    .dataframe tbody tr th:only-of-type {\n",
       "        vertical-align: middle;\n",
       "    }\n",
       "\n",
       "    .dataframe tbody tr th {\n",
       "        vertical-align: top;\n",
       "    }\n",
       "\n",
       "    .dataframe thead th {\n",
       "        text-align: right;\n",
       "    }\n",
       "</style>\n",
       "<table border=\"1\" class=\"dataframe\">\n",
       "  <thead>\n",
       "    <tr style=\"text-align: right;\">\n",
       "      <th></th>\n",
       "      <th>ime države</th>\n",
       "      <th>višina moških</th>\n",
       "      <th>teža moških</th>\n",
       "      <th>itm moških</th>\n",
       "      <th>višina žensk</th>\n",
       "      <th>teža žensk</th>\n",
       "      <th>itm žensk</th>\n",
       "    </tr>\n",
       "  </thead>\n",
       "  <tbody>\n",
       "    <tr>\n",
       "      <th>1</th>\n",
       "      <td>Netherlands</td>\n",
       "      <td>1.84</td>\n",
       "      <td>87.9</td>\n",
       "      <td>26.1</td>\n",
       "      <td>1.70</td>\n",
       "      <td>73.2</td>\n",
       "      <td>25.3</td>\n",
       "    </tr>\n",
       "    <tr>\n",
       "      <th>2</th>\n",
       "      <td>Montenegro</td>\n",
       "      <td>1.83</td>\n",
       "      <td>90.4</td>\n",
       "      <td>27.0</td>\n",
       "      <td>1.70</td>\n",
       "      <td>75.3</td>\n",
       "      <td>26.2</td>\n",
       "    </tr>\n",
       "    <tr>\n",
       "      <th>3</th>\n",
       "      <td>Estonia</td>\n",
       "      <td>1.82</td>\n",
       "      <td>89.9</td>\n",
       "      <td>27.0</td>\n",
       "      <td>1.68</td>\n",
       "      <td>73.7</td>\n",
       "      <td>26.0</td>\n",
       "    </tr>\n",
       "    <tr>\n",
       "      <th>4</th>\n",
       "      <td>Denmark</td>\n",
       "      <td>1.82</td>\n",
       "      <td>86.8</td>\n",
       "      <td>26.3</td>\n",
       "      <td>1.69</td>\n",
       "      <td>70.2</td>\n",
       "      <td>24.6</td>\n",
       "    </tr>\n",
       "    <tr>\n",
       "      <th>5</th>\n",
       "      <td>Bosnia and Herzegovina</td>\n",
       "      <td>1.82</td>\n",
       "      <td>87.1</td>\n",
       "      <td>26.4</td>\n",
       "      <td>1.67</td>\n",
       "      <td>70.6</td>\n",
       "      <td>25.3</td>\n",
       "    </tr>\n",
       "    <tr>\n",
       "      <th>6</th>\n",
       "      <td>Iceland</td>\n",
       "      <td>1.81</td>\n",
       "      <td>89.2</td>\n",
       "      <td>27.1</td>\n",
       "      <td>1.68</td>\n",
       "      <td>72.6</td>\n",
       "      <td>25.6</td>\n",
       "    </tr>\n",
       "    <tr>\n",
       "      <th>7</th>\n",
       "      <td>Czechia</td>\n",
       "      <td>1.81</td>\n",
       "      <td>91.9</td>\n",
       "      <td>28.1</td>\n",
       "      <td>1.68</td>\n",
       "      <td>74.2</td>\n",
       "      <td>26.4</td>\n",
       "    </tr>\n",
       "    <tr>\n",
       "      <th>8</th>\n",
       "      <td>Slovenia</td>\n",
       "      <td>1.81</td>\n",
       "      <td>87.0</td>\n",
       "      <td>26.6</td>\n",
       "      <td>1.67</td>\n",
       "      <td>74.2</td>\n",
       "      <td>26.6</td>\n",
       "    </tr>\n",
       "    <tr>\n",
       "      <th>9</th>\n",
       "      <td>Slovakia</td>\n",
       "      <td>1.81</td>\n",
       "      <td>89.5</td>\n",
       "      <td>27.4</td>\n",
       "      <td>1.67</td>\n",
       "      <td>71.3</td>\n",
       "      <td>25.6</td>\n",
       "    </tr>\n",
       "    <tr>\n",
       "      <th>10</th>\n",
       "      <td>Croatia</td>\n",
       "      <td>1.81</td>\n",
       "      <td>91.3</td>\n",
       "      <td>28.0</td>\n",
       "      <td>1.67</td>\n",
       "      <td>74.7</td>\n",
       "      <td>26.9</td>\n",
       "    </tr>\n",
       "    <tr>\n",
       "      <th>11</th>\n",
       "      <td>Serbia</td>\n",
       "      <td>1.80</td>\n",
       "      <td>86.9</td>\n",
       "      <td>26.7</td>\n",
       "      <td>1.68</td>\n",
       "      <td>72.6</td>\n",
       "      <td>25.7</td>\n",
       "    </tr>\n",
       "    <tr>\n",
       "      <th>12</th>\n",
       "      <td>Sweden</td>\n",
       "      <td>1.80</td>\n",
       "      <td>87.1</td>\n",
       "      <td>26.8</td>\n",
       "      <td>1.67</td>\n",
       "      <td>70.5</td>\n",
       "      <td>25.4</td>\n",
       "    </tr>\n",
       "    <tr>\n",
       "      <th>13</th>\n",
       "      <td>Norway</td>\n",
       "      <td>1.80</td>\n",
       "      <td>89.1</td>\n",
       "      <td>27.4</td>\n",
       "      <td>1.66</td>\n",
       "      <td>72.6</td>\n",
       "      <td>26.2</td>\n",
       "    </tr>\n",
       "    <tr>\n",
       "      <th>14</th>\n",
       "      <td>Lithuania</td>\n",
       "      <td>1.80</td>\n",
       "      <td>88.1</td>\n",
       "      <td>27.1</td>\n",
       "      <td>1.67</td>\n",
       "      <td>73.1</td>\n",
       "      <td>26.1</td>\n",
       "    </tr>\n",
       "    <tr>\n",
       "      <th>15</th>\n",
       "      <td>Poland</td>\n",
       "      <td>1.80</td>\n",
       "      <td>89.0</td>\n",
       "      <td>27.4</td>\n",
       "      <td>1.65</td>\n",
       "      <td>71.5</td>\n",
       "      <td>26.1</td>\n",
       "    </tr>\n",
       "  </tbody>\n",
       "</table>\n",
       "</div>"
      ],
      "text/plain": [
       "                ime države  višina moških  teža moških  itm moških  \\\n",
       "1              Netherlands           1.84         87.9        26.1   \n",
       "2               Montenegro           1.83         90.4        27.0   \n",
       "3                  Estonia           1.82         89.9        27.0   \n",
       "4                  Denmark           1.82         86.8        26.3   \n",
       "5   Bosnia and Herzegovina           1.82         87.1        26.4   \n",
       "6                  Iceland           1.81         89.2        27.1   \n",
       "7                  Czechia           1.81         91.9        28.1   \n",
       "8                 Slovenia           1.81         87.0        26.6   \n",
       "9                 Slovakia           1.81         89.5        27.4   \n",
       "10                 Croatia           1.81         91.3        28.0   \n",
       "11                  Serbia           1.80         86.9        26.7   \n",
       "12                  Sweden           1.80         87.1        26.8   \n",
       "13                  Norway           1.80         89.1        27.4   \n",
       "14               Lithuania           1.80         88.1        27.1   \n",
       "15                  Poland           1.80         89.0        27.4   \n",
       "\n",
       "    višina žensk  teža žensk  itm žensk  \n",
       "1           1.70        73.2       25.3  \n",
       "2           1.70        75.3       26.2  \n",
       "3           1.68        73.7       26.0  \n",
       "4           1.69        70.2       24.6  \n",
       "5           1.67        70.6       25.3  \n",
       "6           1.68        72.6       25.6  \n",
       "7           1.68        74.2       26.4  \n",
       "8           1.67        74.2       26.6  \n",
       "9           1.67        71.3       25.6  \n",
       "10          1.67        74.7       26.9  \n",
       "11          1.68        72.6       25.7  \n",
       "12          1.67        70.5       25.4  \n",
       "13          1.66        72.6       26.2  \n",
       "14          1.67        73.1       26.1  \n",
       "15          1.65        71.5       26.1  "
      ]
     },
     "execution_count": 158,
     "metadata": {},
     "output_type": "execute_result"
    }
   ],
   "source": [
    "countries.head(15)"
   ]
  },
  {
   "cell_type": "code",
   "execution_count": 159,
   "metadata": {},
   "outputs": [
    {
     "data": {
      "text/html": [
       "<div>\n",
       "<style scoped>\n",
       "    .dataframe tbody tr th:only-of-type {\n",
       "        vertical-align: middle;\n",
       "    }\n",
       "\n",
       "    .dataframe tbody tr th {\n",
       "        vertical-align: top;\n",
       "    }\n",
       "\n",
       "    .dataframe thead th {\n",
       "        text-align: right;\n",
       "    }\n",
       "</style>\n",
       "<table border=\"1\" class=\"dataframe\">\n",
       "  <thead>\n",
       "    <tr style=\"text-align: right;\">\n",
       "      <th></th>\n",
       "      <th>ime države</th>\n",
       "      <th>višina moških</th>\n",
       "      <th>teža moških</th>\n",
       "      <th>itm moških</th>\n",
       "      <th>višina žensk</th>\n",
       "      <th>teža žensk</th>\n",
       "      <th>itm žensk</th>\n",
       "    </tr>\n",
       "  </thead>\n",
       "  <tbody>\n",
       "    <tr>\n",
       "      <th>113</th>\n",
       "      <td>Burundi</td>\n",
       "      <td>1.67</td>\n",
       "      <td>60.5</td>\n",
       "      <td>21.8</td>\n",
       "      <td>1.55</td>\n",
       "      <td>51.5</td>\n",
       "      <td>21.5</td>\n",
       "    </tr>\n",
       "    <tr>\n",
       "      <th>114</th>\n",
       "      <td>Pakistan</td>\n",
       "      <td>1.67</td>\n",
       "      <td>64.7</td>\n",
       "      <td>23.3</td>\n",
       "      <td>1.54</td>\n",
       "      <td>58.9</td>\n",
       "      <td>24.7</td>\n",
       "    </tr>\n",
       "    <tr>\n",
       "      <th>115</th>\n",
       "      <td>Brunei</td>\n",
       "      <td>1.66</td>\n",
       "      <td>74.7</td>\n",
       "      <td>27.1</td>\n",
       "      <td>1.55</td>\n",
       "      <td>65.0</td>\n",
       "      <td>27.2</td>\n",
       "    </tr>\n",
       "    <tr>\n",
       "      <th>116</th>\n",
       "      <td>Myanmar</td>\n",
       "      <td>1.66</td>\n",
       "      <td>61.1</td>\n",
       "      <td>22.2</td>\n",
       "      <td>1.54</td>\n",
       "      <td>54.7</td>\n",
       "      <td>23.0</td>\n",
       "    </tr>\n",
       "    <tr>\n",
       "      <th>117</th>\n",
       "      <td>India</td>\n",
       "      <td>1.66</td>\n",
       "      <td>59.6</td>\n",
       "      <td>21.7</td>\n",
       "      <td>1.55</td>\n",
       "      <td>52.5</td>\n",
       "      <td>21.9</td>\n",
       "    </tr>\n",
       "    <tr>\n",
       "      <th>118</th>\n",
       "      <td>Indonesia</td>\n",
       "      <td>1.66</td>\n",
       "      <td>61.4</td>\n",
       "      <td>22.4</td>\n",
       "      <td>1.54</td>\n",
       "      <td>56.2</td>\n",
       "      <td>23.7</td>\n",
       "    </tr>\n",
       "    <tr>\n",
       "      <th>119</th>\n",
       "      <td>Cambodia</td>\n",
       "      <td>1.65</td>\n",
       "      <td>59.7</td>\n",
       "      <td>22.0</td>\n",
       "      <td>1.54</td>\n",
       "      <td>52.8</td>\n",
       "      <td>22.2</td>\n",
       "    </tr>\n",
       "    <tr>\n",
       "      <th>120</th>\n",
       "      <td>Madagascar</td>\n",
       "      <td>1.65</td>\n",
       "      <td>58.4</td>\n",
       "      <td>21.5</td>\n",
       "      <td>1.53</td>\n",
       "      <td>49.2</td>\n",
       "      <td>21.1</td>\n",
       "    </tr>\n",
       "    <tr>\n",
       "      <th>121</th>\n",
       "      <td>Philippines</td>\n",
       "      <td>1.65</td>\n",
       "      <td>61.8</td>\n",
       "      <td>22.8</td>\n",
       "      <td>1.54</td>\n",
       "      <td>55.5</td>\n",
       "      <td>23.5</td>\n",
       "    </tr>\n",
       "    <tr>\n",
       "      <th>122</th>\n",
       "      <td>Bangladesh</td>\n",
       "      <td>1.65</td>\n",
       "      <td>57.7</td>\n",
       "      <td>21.3</td>\n",
       "      <td>1.52</td>\n",
       "      <td>50.5</td>\n",
       "      <td>21.8</td>\n",
       "    </tr>\n",
       "    <tr>\n",
       "      <th>123</th>\n",
       "      <td>Nepal</td>\n",
       "      <td>1.64</td>\n",
       "      <td>60.5</td>\n",
       "      <td>22.5</td>\n",
       "      <td>1.52</td>\n",
       "      <td>51.6</td>\n",
       "      <td>22.3</td>\n",
       "    </tr>\n",
       "    <tr>\n",
       "      <th>124</th>\n",
       "      <td>Guatemala</td>\n",
       "      <td>1.64</td>\n",
       "      <td>69.1</td>\n",
       "      <td>25.7</td>\n",
       "      <td>1.51</td>\n",
       "      <td>61.9</td>\n",
       "      <td>27.3</td>\n",
       "    </tr>\n",
       "    <tr>\n",
       "      <th>125</th>\n",
       "      <td>Yemen</td>\n",
       "      <td>1.63</td>\n",
       "      <td>62.5</td>\n",
       "      <td>23.6</td>\n",
       "      <td>1.54</td>\n",
       "      <td>56.9</td>\n",
       "      <td>24.0</td>\n",
       "    </tr>\n",
       "    <tr>\n",
       "      <th>126</th>\n",
       "      <td>Laos</td>\n",
       "      <td>1.62</td>\n",
       "      <td>59.5</td>\n",
       "      <td>22.6</td>\n",
       "      <td>1.53</td>\n",
       "      <td>53.7</td>\n",
       "      <td>23.0</td>\n",
       "    </tr>\n",
       "    <tr>\n",
       "      <th>127</th>\n",
       "      <td>East Timor</td>\n",
       "      <td>1.59</td>\n",
       "      <td>53.9</td>\n",
       "      <td>21.2</td>\n",
       "      <td>1.52</td>\n",
       "      <td>49.0</td>\n",
       "      <td>21.2</td>\n",
       "    </tr>\n",
       "  </tbody>\n",
       "</table>\n",
       "</div>"
      ],
      "text/plain": [
       "      ime države  višina moških  teža moških  itm moških  višina žensk  \\\n",
       "113      Burundi           1.67         60.5        21.8          1.55   \n",
       "114     Pakistan           1.67         64.7        23.3          1.54   \n",
       "115       Brunei           1.66         74.7        27.1          1.55   \n",
       "116      Myanmar           1.66         61.1        22.2          1.54   \n",
       "117        India           1.66         59.6        21.7          1.55   \n",
       "118    Indonesia           1.66         61.4        22.4          1.54   \n",
       "119     Cambodia           1.65         59.7        22.0          1.54   \n",
       "120   Madagascar           1.65         58.4        21.5          1.53   \n",
       "121  Philippines           1.65         61.8        22.8          1.54   \n",
       "122   Bangladesh           1.65         57.7        21.3          1.52   \n",
       "123        Nepal           1.64         60.5        22.5          1.52   \n",
       "124    Guatemala           1.64         69.1        25.7          1.51   \n",
       "125        Yemen           1.63         62.5        23.6          1.54   \n",
       "126         Laos           1.62         59.5        22.6          1.53   \n",
       "127   East Timor           1.59         53.9        21.2          1.52   \n",
       "\n",
       "     teža žensk  itm žensk  \n",
       "113        51.5       21.5  \n",
       "114        58.9       24.7  \n",
       "115        65.0       27.2  \n",
       "116        54.7       23.0  \n",
       "117        52.5       21.9  \n",
       "118        56.2       23.7  \n",
       "119        52.8       22.2  \n",
       "120        49.2       21.1  \n",
       "121        55.5       23.5  \n",
       "122        50.5       21.8  \n",
       "123        51.6       22.3  \n",
       "124        61.9       27.3  \n",
       "125        56.9       24.0  \n",
       "126        53.7       23.0  \n",
       "127        49.0       21.2  "
      ]
     },
     "execution_count": 159,
     "metadata": {},
     "output_type": "execute_result"
    }
   ],
   "source": [
    "countries.tail(15)"
   ]
  },
  {
   "cell_type": "code",
   "execution_count": 160,
   "metadata": {},
   "outputs": [
    {
     "data": {
      "text/html": [
       "<div>\n",
       "<style scoped>\n",
       "    .dataframe tbody tr th:only-of-type {\n",
       "        vertical-align: middle;\n",
       "    }\n",
       "\n",
       "    .dataframe tbody tr th {\n",
       "        vertical-align: top;\n",
       "    }\n",
       "\n",
       "    .dataframe thead th {\n",
       "        text-align: right;\n",
       "    }\n",
       "</style>\n",
       "<table border=\"1\" class=\"dataframe\">\n",
       "  <thead>\n",
       "    <tr style=\"text-align: right;\">\n",
       "      <th></th>\n",
       "      <th>višina moških</th>\n",
       "      <th>teža moških</th>\n",
       "      <th>itm moških</th>\n",
       "      <th>višina žensk</th>\n",
       "      <th>teža žensk</th>\n",
       "      <th>itm žensk</th>\n",
       "    </tr>\n",
       "  </thead>\n",
       "  <tbody>\n",
       "    <tr>\n",
       "      <th>count</th>\n",
       "      <td>127.00000</td>\n",
       "      <td>127.000000</td>\n",
       "      <td>127.000000</td>\n",
       "      <td>127.000000</td>\n",
       "      <td>127.000000</td>\n",
       "      <td>127.000000</td>\n",
       "    </tr>\n",
       "    <tr>\n",
       "      <th>mean</th>\n",
       "      <td>1.73685</td>\n",
       "      <td>78.915748</td>\n",
       "      <td>26.053543</td>\n",
       "      <td>1.612598</td>\n",
       "      <td>68.922047</td>\n",
       "      <td>26.422047</td>\n",
       "    </tr>\n",
       "    <tr>\n",
       "      <th>std</th>\n",
       "      <td>0.05279</td>\n",
       "      <td>11.275169</td>\n",
       "      <td>2.701992</td>\n",
       "      <td>0.045812</td>\n",
       "      <td>9.825016</td>\n",
       "      <td>3.007686</td>\n",
       "    </tr>\n",
       "    <tr>\n",
       "      <th>min</th>\n",
       "      <td>1.59000</td>\n",
       "      <td>53.900000</td>\n",
       "      <td>20.100000</td>\n",
       "      <td>1.510000</td>\n",
       "      <td>49.000000</td>\n",
       "      <td>21.000000</td>\n",
       "    </tr>\n",
       "    <tr>\n",
       "      <th>25%</th>\n",
       "      <td>1.70000</td>\n",
       "      <td>70.500000</td>\n",
       "      <td>24.250000</td>\n",
       "      <td>1.580000</td>\n",
       "      <td>62.150000</td>\n",
       "      <td>24.400000</td>\n",
       "    </tr>\n",
       "    <tr>\n",
       "      <th>50%</th>\n",
       "      <td>1.74000</td>\n",
       "      <td>81.400000</td>\n",
       "      <td>26.600000</td>\n",
       "      <td>1.610000</td>\n",
       "      <td>70.300000</td>\n",
       "      <td>26.300000</td>\n",
       "    </tr>\n",
       "    <tr>\n",
       "      <th>75%</th>\n",
       "      <td>1.78000</td>\n",
       "      <td>87.600000</td>\n",
       "      <td>27.600000</td>\n",
       "      <td>1.650000</td>\n",
       "      <td>74.150000</td>\n",
       "      <td>27.850000</td>\n",
       "    </tr>\n",
       "    <tr>\n",
       "      <th>max</th>\n",
       "      <td>1.84000</td>\n",
       "      <td>103.700000</td>\n",
       "      <td>33.100000</td>\n",
       "      <td>1.700000</td>\n",
       "      <td>98.100000</td>\n",
       "      <td>35.200000</td>\n",
       "    </tr>\n",
       "  </tbody>\n",
       "</table>\n",
       "</div>"
      ],
      "text/plain": [
       "       višina moških  teža moških  itm moških  višina žensk  teža žensk  \\\n",
       "count      127.00000   127.000000  127.000000    127.000000  127.000000   \n",
       "mean         1.73685    78.915748   26.053543      1.612598   68.922047   \n",
       "std          0.05279    11.275169    2.701992      0.045812    9.825016   \n",
       "min          1.59000    53.900000   20.100000      1.510000   49.000000   \n",
       "25%          1.70000    70.500000   24.250000      1.580000   62.150000   \n",
       "50%          1.74000    81.400000   26.600000      1.610000   70.300000   \n",
       "75%          1.78000    87.600000   27.600000      1.650000   74.150000   \n",
       "max          1.84000   103.700000   33.100000      1.700000   98.100000   \n",
       "\n",
       "        itm žensk  \n",
       "count  127.000000  \n",
       "mean    26.422047  \n",
       "std      3.007686  \n",
       "min     21.000000  \n",
       "25%     24.400000  \n",
       "50%     26.300000  \n",
       "75%     27.850000  \n",
       "max     35.200000  "
      ]
     },
     "execution_count": 160,
     "metadata": {},
     "output_type": "execute_result"
    }
   ],
   "source": [
    "countries.describe() "
   ]
  },
  {
   "cell_type": "markdown",
   "metadata": {},
   "source": [
    "Nadaljnje tabele prikazujejo države urejene po višini. Vidimo lahko, da so izmed vseh držav najvišji moški na Nizozemskem in enako velja za ženske. Najnižji moški se po podatkih nahajajo v Vzhodnem Timorju, ženske pa v Gvatemali.        "
   ]
  },
  {
   "cell_type": "code",
   "execution_count": 161,
   "metadata": {},
   "outputs": [
    {
     "name": "stdout",
     "output_type": "stream",
     "text": [
      "               ime države  višina moških  teža moških  itm moških  \\\n",
      "1             Netherlands           1.84         87.9        26.1   \n",
      "2              Montenegro           1.83         90.4        27.0   \n",
      "3                 Estonia           1.82         89.9        27.0   \n",
      "4                 Denmark           1.82         86.8        26.3   \n",
      "5  Bosnia and Herzegovina           1.82         87.1        26.4   \n",
      "\n",
      "   višina žensk  teža žensk  itm žensk  \n",
      "1          1.70        73.2       25.3  \n",
      "2          1.70        75.3       26.2  \n",
      "3          1.68        73.7       26.0  \n",
      "4          1.69        70.2       24.6  \n",
      "5          1.67        70.6       25.3  \n"
     ]
    },
    {
     "data": {
      "text/plain": [
       "1      1.84\n",
       "2      1.83\n",
       "3      1.82\n",
       "4      1.82\n",
       "5      1.82\n",
       "       ... \n",
       "123    1.64\n",
       "124    1.64\n",
       "125    1.63\n",
       "126    1.62\n",
       "127    1.59\n",
       "Name: višina moških, Length: 127, dtype: float64"
      ]
     },
     "execution_count": 161,
     "metadata": {},
     "output_type": "execute_result"
    }
   ],
   "source": [
    "countries.sort_values(by=\"višina moških\", ascending = False, inplace = True)\n",
    "countries\n",
    "print(countries.head(5))\n",
    "countries[\"višina moških\"]"
   ]
  },
  {
   "cell_type": "code",
   "execution_count": 162,
   "metadata": {},
   "outputs": [
    {
     "name": "stdout",
     "output_type": "stream",
     "text": [
      "     ime države  višina moških  teža moških  itm moških  višina žensk  \\\n",
      "1   Netherlands           1.84         87.9        26.1          1.70   \n",
      "2    Montenegro           1.83         90.4        27.0          1.70   \n",
      "4       Denmark           1.82         86.8        26.3          1.69   \n",
      "18       Latvia           1.80         87.9        27.1          1.68   \n",
      "3       Estonia           1.82         89.9        27.0          1.68   \n",
      "\n",
      "    teža žensk  itm žensk  \n",
      "1         73.2       25.3  \n",
      "2         75.3       26.2  \n",
      "4         70.2       24.6  \n",
      "18        74.5       26.4  \n",
      "3         73.7       26.0  \n"
     ]
    },
    {
     "data": {
      "text/plain": [
       "1      1.70\n",
       "2      1.70\n",
       "4      1.69\n",
       "18     1.68\n",
       "3      1.68\n",
       "       ... \n",
       "126    1.53\n",
       "122    1.52\n",
       "123    1.52\n",
       "127    1.52\n",
       "124    1.51\n",
       "Name: višina žensk, Length: 127, dtype: float64"
      ]
     },
     "execution_count": 162,
     "metadata": {},
     "output_type": "execute_result"
    }
   ],
   "source": [
    "countries.sort_values(by=\"višina žensk\", ascending = False, inplace = True)\n",
    "countries\n",
    "print(countries.head(5))\n",
    "countries[\"višina žensk\"]"
   ]
  },
  {
   "cell_type": "code",
   "execution_count": 163,
   "metadata": {},
   "outputs": [
    {
     "name": "stdout",
     "output_type": "stream",
     "text": [
      "     ime države  višina moških  teža moških  itm moških  višina žensk  \\\n",
      "127  East Timor           1.59         53.9        21.2          1.52   \n",
      "126        Laos           1.62         59.5        22.6          1.53   \n",
      "125       Yemen           1.63         62.5        23.6          1.54   \n",
      "124   Guatemala           1.64         69.1        25.7          1.51   \n",
      "123       Nepal           1.64         60.5        22.5          1.52   \n",
      "\n",
      "     teža žensk  itm žensk  \n",
      "127        49.0       21.2  \n",
      "126        53.7       23.0  \n",
      "125        56.9       24.0  \n",
      "124        61.9       27.3  \n",
      "123        51.6       22.3  \n"
     ]
    },
    {
     "data": {
      "text/plain": [
       "127    1.59\n",
       "126    1.62\n",
       "125    1.63\n",
       "124    1.64\n",
       "123    1.64\n",
       "       ... \n",
       "3      1.82\n",
       "4      1.82\n",
       "5      1.82\n",
       "2      1.83\n",
       "1      1.84\n",
       "Name: višina moških, Length: 127, dtype: float64"
      ]
     },
     "execution_count": 163,
     "metadata": {},
     "output_type": "execute_result"
    }
   ],
   "source": [
    "countries.sort_values(by=\"višina moških\", ascending = True, inplace = True)\n",
    "countries\n",
    "print(countries.head(5))\n",
    "countries[\"višina moških\"]"
   ]
  },
  {
   "cell_type": "code",
   "execution_count": 164,
   "metadata": {},
   "outputs": [
    {
     "name": "stdout",
     "output_type": "stream",
     "text": [
      "     ime države  višina moških  teža moških  itm moških  višina žensk  \\\n",
      "124   Guatemala           1.64         69.1        25.7          1.51   \n",
      "127  East Timor           1.59         53.9        21.2          1.52   \n",
      "123       Nepal           1.64         60.5        22.5          1.52   \n",
      "122  Bangladesh           1.65         57.7        21.3          1.52   \n",
      "126        Laos           1.62         59.5        22.6          1.53   \n",
      "\n",
      "     teža žensk  itm žensk  \n",
      "124        61.9       27.3  \n",
      "127        49.0       21.2  \n",
      "123        51.6       22.3  \n",
      "122        50.5       21.8  \n",
      "126        53.7       23.0  \n"
     ]
    },
    {
     "data": {
      "text/plain": [
       "124    1.51\n",
       "127    1.52\n",
       "123    1.52\n",
       "122    1.52\n",
       "126    1.53\n",
       "       ... \n",
       "3      1.68\n",
       "18     1.68\n",
       "4      1.69\n",
       "2      1.70\n",
       "1      1.70\n",
       "Name: višina žensk, Length: 127, dtype: float64"
      ]
     },
     "execution_count": 164,
     "metadata": {},
     "output_type": "execute_result"
    }
   ],
   "source": [
    "countries.sort_values(by=\"višina žensk\", ascending = True, inplace = True)\n",
    "countries\n",
    "print(countries.head(5))\n",
    "countries[\"višina žensk\"]"
   ]
  },
  {
   "cell_type": "markdown",
   "metadata": {},
   "source": [
    "### 1.2. Kontinenti"
   ]
  },
  {
   "cell_type": "markdown",
   "metadata": {},
   "source": [
    "Analogno kot pri državah je v spodnjih tabelah prikazan seznam delov kontinentov, ki sem jih zajela v svoji projektni nalogi. Vsebuje podatke o višini in teži tako moških kot žensk. V tej datoteki sem se osredotočila na analiziranje podatkov višine."
   ]
  },
  {
   "cell_type": "code",
   "execution_count": 165,
   "metadata": {},
   "outputs": [
    {
     "data": {
      "text/html": [
       "<div>\n",
       "<style scoped>\n",
       "    .dataframe tbody tr th:only-of-type {\n",
       "        vertical-align: middle;\n",
       "    }\n",
       "\n",
       "    .dataframe tbody tr th {\n",
       "        vertical-align: top;\n",
       "    }\n",
       "\n",
       "    .dataframe thead th {\n",
       "        text-align: right;\n",
       "    }\n",
       "</style>\n",
       "<table border=\"1\" class=\"dataframe\">\n",
       "  <thead>\n",
       "    <tr style=\"text-align: right;\">\n",
       "      <th></th>\n",
       "      <th>del kontinenta</th>\n",
       "      <th>višina moških</th>\n",
       "      <th>teža moških</th>\n",
       "      <th>višina žensk</th>\n",
       "      <th>teža žensk</th>\n",
       "    </tr>\n",
       "  </thead>\n",
       "  <tbody>\n",
       "    <tr>\n",
       "      <th>1</th>\n",
       "      <td>Northern Africa</td>\n",
       "      <td>1.73</td>\n",
       "      <td>77.9</td>\n",
       "      <td>1.61</td>\n",
       "      <td>73.7</td>\n",
       "    </tr>\n",
       "    <tr>\n",
       "      <th>2</th>\n",
       "      <td>Eastern Africa</td>\n",
       "      <td>1.67</td>\n",
       "      <td>60.1</td>\n",
       "      <td>1.57</td>\n",
       "      <td>56.2</td>\n",
       "    </tr>\n",
       "    <tr>\n",
       "      <th>3</th>\n",
       "      <td>Western Africa</td>\n",
       "      <td>1.70</td>\n",
       "      <td>64.9</td>\n",
       "      <td>1.59</td>\n",
       "      <td>60.1</td>\n",
       "    </tr>\n",
       "    <tr>\n",
       "      <th>4</th>\n",
       "      <td>Southern Africa</td>\n",
       "      <td>1.69</td>\n",
       "      <td>71.2</td>\n",
       "      <td>1.59</td>\n",
       "      <td>73.2</td>\n",
       "    </tr>\n",
       "    <tr>\n",
       "      <th>5</th>\n",
       "      <td>Central Africa</td>\n",
       "      <td>1.69</td>\n",
       "      <td>62.6</td>\n",
       "      <td>1.58</td>\n",
       "      <td>58.0</td>\n",
       "    </tr>\n",
       "    <tr>\n",
       "      <th>...</th>\n",
       "      <td>...</td>\n",
       "      <td>...</td>\n",
       "      <td>...</td>\n",
       "      <td>...</td>\n",
       "      <td>...</td>\n",
       "    </tr>\n",
       "    <tr>\n",
       "      <th>18</th>\n",
       "      <td>Northern Europe</td>\n",
       "      <td>1.79</td>\n",
       "      <td>87.1</td>\n",
       "      <td>1.65</td>\n",
       "      <td>72.3</td>\n",
       "    </tr>\n",
       "    <tr>\n",
       "      <th>19</th>\n",
       "      <td>Eastern Europe</td>\n",
       "      <td>1.78</td>\n",
       "      <td>83.8</td>\n",
       "      <td>1.65</td>\n",
       "      <td>72.2</td>\n",
       "    </tr>\n",
       "    <tr>\n",
       "      <th>20</th>\n",
       "      <td>Polynesia</td>\n",
       "      <td>1.76</td>\n",
       "      <td>93.8</td>\n",
       "      <td>1.65</td>\n",
       "      <td>87.3</td>\n",
       "    </tr>\n",
       "    <tr>\n",
       "      <th>21</th>\n",
       "      <td>Melanesia</td>\n",
       "      <td>1.64</td>\n",
       "      <td>68.1</td>\n",
       "      <td>1.57</td>\n",
       "      <td>64.6</td>\n",
       "    </tr>\n",
       "    <tr>\n",
       "      <th>22</th>\n",
       "      <td>Micronesia</td>\n",
       "      <td>1.69</td>\n",
       "      <td>82.7</td>\n",
       "      <td>1.59</td>\n",
       "      <td>78.9</td>\n",
       "    </tr>\n",
       "  </tbody>\n",
       "</table>\n",
       "<p>22 rows × 5 columns</p>\n",
       "</div>"
      ],
      "text/plain": [
       "     del kontinenta  višina moških  teža moških  višina žensk  teža žensk\n",
       "1   Northern Africa           1.73         77.9          1.61        73.7\n",
       "2    Eastern Africa           1.67         60.1          1.57        56.2\n",
       "3    Western Africa           1.70         64.9          1.59        60.1\n",
       "4   Southern Africa           1.69         71.2          1.59        73.2\n",
       "5    Central Africa           1.69         62.6          1.58        58.0\n",
       "..              ...            ...          ...           ...         ...\n",
       "18  Northern Europe           1.79         87.1          1.65        72.3\n",
       "19   Eastern Europe           1.78         83.8          1.65        72.2\n",
       "20        Polynesia           1.76         93.8          1.65        87.3\n",
       "21        Melanesia           1.64         68.1          1.57        64.6\n",
       "22       Micronesia           1.69         82.7          1.59        78.9\n",
       "\n",
       "[22 rows x 5 columns]"
      ]
     },
     "execution_count": 165,
     "metadata": {},
     "output_type": "execute_result"
    }
   ],
   "source": [
    "continents.index += 1\n",
    "continents"
   ]
  },
  {
   "cell_type": "code",
   "execution_count": 166,
   "metadata": {},
   "outputs": [
    {
     "data": {
      "text/html": [
       "<div>\n",
       "<style scoped>\n",
       "    .dataframe tbody tr th:only-of-type {\n",
       "        vertical-align: middle;\n",
       "    }\n",
       "\n",
       "    .dataframe tbody tr th {\n",
       "        vertical-align: top;\n",
       "    }\n",
       "\n",
       "    .dataframe thead th {\n",
       "        text-align: right;\n",
       "    }\n",
       "</style>\n",
       "<table border=\"1\" class=\"dataframe\">\n",
       "  <thead>\n",
       "    <tr style=\"text-align: right;\">\n",
       "      <th></th>\n",
       "      <th>del kontinenta</th>\n",
       "      <th>višina moških</th>\n",
       "      <th>teža moških</th>\n",
       "      <th>višina žensk</th>\n",
       "      <th>teža žensk</th>\n",
       "    </tr>\n",
       "  </thead>\n",
       "  <tbody>\n",
       "    <tr>\n",
       "      <th>1</th>\n",
       "      <td>Northern Africa</td>\n",
       "      <td>1.73</td>\n",
       "      <td>77.9</td>\n",
       "      <td>1.61</td>\n",
       "      <td>73.7</td>\n",
       "    </tr>\n",
       "    <tr>\n",
       "      <th>2</th>\n",
       "      <td>Eastern Africa</td>\n",
       "      <td>1.67</td>\n",
       "      <td>60.1</td>\n",
       "      <td>1.57</td>\n",
       "      <td>56.2</td>\n",
       "    </tr>\n",
       "    <tr>\n",
       "      <th>3</th>\n",
       "      <td>Western Africa</td>\n",
       "      <td>1.70</td>\n",
       "      <td>64.9</td>\n",
       "      <td>1.59</td>\n",
       "      <td>60.1</td>\n",
       "    </tr>\n",
       "    <tr>\n",
       "      <th>4</th>\n",
       "      <td>Southern Africa</td>\n",
       "      <td>1.69</td>\n",
       "      <td>71.2</td>\n",
       "      <td>1.59</td>\n",
       "      <td>73.2</td>\n",
       "    </tr>\n",
       "    <tr>\n",
       "      <th>5</th>\n",
       "      <td>Central Africa</td>\n",
       "      <td>1.69</td>\n",
       "      <td>62.6</td>\n",
       "      <td>1.58</td>\n",
       "      <td>58.0</td>\n",
       "    </tr>\n",
       "  </tbody>\n",
       "</table>\n",
       "</div>"
      ],
      "text/plain": [
       "    del kontinenta  višina moških  teža moških  višina žensk  teža žensk\n",
       "1  Northern Africa           1.73         77.9          1.61        73.7\n",
       "2   Eastern Africa           1.67         60.1          1.57        56.2\n",
       "3   Western Africa           1.70         64.9          1.59        60.1\n",
       "4  Southern Africa           1.69         71.2          1.59        73.2\n",
       "5   Central Africa           1.69         62.6          1.58        58.0"
      ]
     },
     "execution_count": 166,
     "metadata": {},
     "output_type": "execute_result"
    }
   ],
   "source": [
    "continents.head(5)"
   ]
  },
  {
   "cell_type": "code",
   "execution_count": 167,
   "metadata": {},
   "outputs": [
    {
     "data": {
      "text/html": [
       "<div>\n",
       "<style scoped>\n",
       "    .dataframe tbody tr th:only-of-type {\n",
       "        vertical-align: middle;\n",
       "    }\n",
       "\n",
       "    .dataframe tbody tr th {\n",
       "        vertical-align: top;\n",
       "    }\n",
       "\n",
       "    .dataframe thead th {\n",
       "        text-align: right;\n",
       "    }\n",
       "</style>\n",
       "<table border=\"1\" class=\"dataframe\">\n",
       "  <thead>\n",
       "    <tr style=\"text-align: right;\">\n",
       "      <th></th>\n",
       "      <th>del kontinenta</th>\n",
       "      <th>višina moških</th>\n",
       "      <th>teža moških</th>\n",
       "      <th>višina žensk</th>\n",
       "      <th>teža žensk</th>\n",
       "    </tr>\n",
       "  </thead>\n",
       "  <tbody>\n",
       "    <tr>\n",
       "      <th>18</th>\n",
       "      <td>Northern Europe</td>\n",
       "      <td>1.79</td>\n",
       "      <td>87.1</td>\n",
       "      <td>1.65</td>\n",
       "      <td>72.3</td>\n",
       "    </tr>\n",
       "    <tr>\n",
       "      <th>19</th>\n",
       "      <td>Eastern Europe</td>\n",
       "      <td>1.78</td>\n",
       "      <td>83.8</td>\n",
       "      <td>1.65</td>\n",
       "      <td>72.2</td>\n",
       "    </tr>\n",
       "    <tr>\n",
       "      <th>20</th>\n",
       "      <td>Polynesia</td>\n",
       "      <td>1.76</td>\n",
       "      <td>93.8</td>\n",
       "      <td>1.65</td>\n",
       "      <td>87.3</td>\n",
       "    </tr>\n",
       "    <tr>\n",
       "      <th>21</th>\n",
       "      <td>Melanesia</td>\n",
       "      <td>1.64</td>\n",
       "      <td>68.1</td>\n",
       "      <td>1.57</td>\n",
       "      <td>64.6</td>\n",
       "    </tr>\n",
       "    <tr>\n",
       "      <th>22</th>\n",
       "      <td>Micronesia</td>\n",
       "      <td>1.69</td>\n",
       "      <td>82.7</td>\n",
       "      <td>1.59</td>\n",
       "      <td>78.9</td>\n",
       "    </tr>\n",
       "  </tbody>\n",
       "</table>\n",
       "</div>"
      ],
      "text/plain": [
       "     del kontinenta  višina moških  teža moških  višina žensk  teža žensk\n",
       "18  Northern Europe           1.79         87.1          1.65        72.3\n",
       "19   Eastern Europe           1.78         83.8          1.65        72.2\n",
       "20        Polynesia           1.76         93.8          1.65        87.3\n",
       "21        Melanesia           1.64         68.1          1.57        64.6\n",
       "22       Micronesia           1.69         82.7          1.59        78.9"
      ]
     },
     "execution_count": 167,
     "metadata": {},
     "output_type": "execute_result"
    }
   ],
   "source": [
    "continents.tail(5)"
   ]
  },
  {
   "cell_type": "markdown",
   "metadata": {},
   "source": [
    "Nadaljnje tabele prikazujejo dele kontinentov urejene po višini. Vidimo lahko, da so najvišji moški v zahodni Evropi in enako velja za ženske. Najnižji moški se po podatkih nahajajo v Melaneziji, ženske pa v južni Aziji.        "
   ]
  },
  {
   "cell_type": "code",
   "execution_count": 168,
   "metadata": {},
   "outputs": [
    {
     "name": "stdout",
     "output_type": "stream",
     "text": [
      "           del kontinenta  višina moških  teža moških  višina žensk  \\\n",
      "16         Western Europe           1.80         86.1          1.66   \n",
      "18        Northern Europe           1.79         87.1          1.65   \n",
      "15  Australia/New Zealand           1.78         88.4          1.65   \n",
      "19         Eastern Europe           1.78         83.8          1.65   \n",
      "7           North America           1.77         90.2          1.63   \n",
      "\n",
      "    teža žensk  \n",
      "16        69.2  \n",
      "18        72.3  \n",
      "15        73.1  \n",
      "19        72.2  \n",
      "7         76.6  \n"
     ]
    },
    {
     "data": {
      "text/plain": [
       "16    1.80\n",
       "18    1.79\n",
       "15    1.78\n",
       "19    1.78\n",
       "7     1.77\n",
       "      ... \n",
       "4     1.69\n",
       "14    1.67\n",
       "2     1.67\n",
       "12    1.66\n",
       "21    1.64\n",
       "Name: višina moških, Length: 22, dtype: float64"
      ]
     },
     "execution_count": 168,
     "metadata": {},
     "output_type": "execute_result"
    }
   ],
   "source": [
    "continents.sort_values(by=\"višina moških\", ascending = False, inplace = True)\n",
    "continents\n",
    "print(continents.head(5))\n",
    "continents[\"višina moških\"]"
   ]
  },
  {
   "cell_type": "code",
   "execution_count": 169,
   "metadata": {},
   "outputs": [
    {
     "name": "stdout",
     "output_type": "stream",
     "text": [
      "           del kontinenta  višina moških  teža moških  višina žensk  \\\n",
      "16         Western Europe           1.80         86.1          1.66   \n",
      "15  Australia/New Zealand           1.78         88.4          1.65   \n",
      "19         Eastern Europe           1.78         83.8          1.65   \n",
      "20              Polynesia           1.76         93.8          1.65   \n",
      "18        Northern Europe           1.79         87.1          1.65   \n",
      "\n",
      "    teža žensk  \n",
      "16        69.2  \n",
      "15        73.1  \n",
      "19        72.2  \n",
      "20        87.3  \n",
      "18        72.3  \n"
     ]
    },
    {
     "data": {
      "text/plain": [
       "16    1.66\n",
       "15    1.65\n",
       "19    1.65\n",
       "20    1.65\n",
       "18    1.65\n",
       "      ... \n",
       "9     1.57\n",
       "2     1.57\n",
       "21    1.57\n",
       "14    1.55\n",
       "12    1.55\n",
       "Name: višina žensk, Length: 22, dtype: float64"
      ]
     },
     "execution_count": 169,
     "metadata": {},
     "output_type": "execute_result"
    }
   ],
   "source": [
    "continents.sort_values(by=\"višina žensk\", ascending = False, inplace = True)\n",
    "continents\n",
    "print(continents.head(5))\n",
    "continents[\"višina žensk\"]"
   ]
  },
  {
   "cell_type": "code",
   "execution_count": 170,
   "metadata": {},
   "outputs": [
    {
     "name": "stdout",
     "output_type": "stream",
     "text": [
      "     del kontinenta  višina moških  teža moških  višina žensk  teža žensk\n",
      "21        Melanesia           1.64         68.1          1.57        64.6\n",
      "12       South Asia           1.66         60.9          1.55        54.0\n",
      "2    Eastern Africa           1.67         60.1          1.57        56.2\n",
      "14   Southeast Asia           1.67         62.8          1.55        56.7\n",
      "9   Central America           1.69         77.8          1.57        69.4\n"
     ]
    },
    {
     "data": {
      "text/plain": [
       "21    1.64\n",
       "12    1.66\n",
       "2     1.67\n",
       "14    1.67\n",
       "9     1.69\n",
       "      ... \n",
       "7     1.77\n",
       "19    1.78\n",
       "15    1.78\n",
       "18    1.79\n",
       "16    1.80\n",
       "Name: višina moških, Length: 22, dtype: float64"
      ]
     },
     "execution_count": 170,
     "metadata": {},
     "output_type": "execute_result"
    }
   ],
   "source": [
    "continents.sort_values(by=\"višina moških\", ascending = True, inplace = True)\n",
    "continents\n",
    "print(continents.head(5))\n",
    "continents[\"višina moških\"]"
   ]
  },
  {
   "cell_type": "code",
   "execution_count": 171,
   "metadata": {},
   "outputs": [
    {
     "name": "stdout",
     "output_type": "stream",
     "text": [
      "     del kontinenta  višina moških  teža moških  višina žensk  teža žensk\n",
      "12       South Asia           1.66         60.9          1.55        54.0\n",
      "14   Southeast Asia           1.67         62.8          1.55        56.7\n",
      "21        Melanesia           1.64         68.1          1.57        64.6\n",
      "2    Eastern Africa           1.67         60.1          1.57        56.2\n",
      "9   Central America           1.69         77.8          1.57        69.4\n"
     ]
    },
    {
     "data": {
      "text/plain": [
       "12    1.55\n",
       "14    1.55\n",
       "21    1.57\n",
       "2     1.57\n",
       "9     1.57\n",
       "      ... \n",
       "18    1.65\n",
       "20    1.65\n",
       "19    1.65\n",
       "15    1.65\n",
       "16    1.66\n",
       "Name: višina žensk, Length: 22, dtype: float64"
      ]
     },
     "execution_count": 171,
     "metadata": {},
     "output_type": "execute_result"
    }
   ],
   "source": [
    "continents.sort_values(by=\"višina žensk\", ascending = True, inplace = True)\n",
    "continents\n",
    "print(continents.head(5))\n",
    "continents[\"višina žensk\"]"
   ]
  },
  {
   "cell_type": "markdown",
   "metadata": {},
   "source": [
    "## 2. Podtabela"
   ]
  },
  {
   "cell_type": "markdown",
   "metadata": {},
   "source": [
    "### 2.1. Države"
   ]
  },
  {
   "cell_type": "code",
   "execution_count": 172,
   "metadata": {},
   "outputs": [
    {
     "data": {
      "text/html": [
       "<div>\n",
       "<style scoped>\n",
       "    .dataframe tbody tr th:only-of-type {\n",
       "        vertical-align: middle;\n",
       "    }\n",
       "\n",
       "    .dataframe tbody tr th {\n",
       "        vertical-align: top;\n",
       "    }\n",
       "\n",
       "    .dataframe thead th {\n",
       "        text-align: right;\n",
       "    }\n",
       "</style>\n",
       "<table border=\"1\" class=\"dataframe\">\n",
       "  <thead>\n",
       "    <tr style=\"text-align: right;\">\n",
       "      <th></th>\n",
       "      <th>ime države</th>\n",
       "      <th>višina moških</th>\n",
       "      <th>teža moških</th>\n",
       "      <th>itm moških</th>\n",
       "      <th>višina žensk</th>\n",
       "      <th>teža žensk</th>\n",
       "      <th>itm žensk</th>\n",
       "    </tr>\n",
       "  </thead>\n",
       "  <tbody>\n",
       "    <tr>\n",
       "      <th>124</th>\n",
       "      <td>Guatemala</td>\n",
       "      <td>1.64</td>\n",
       "      <td>69.1</td>\n",
       "      <td>25.7</td>\n",
       "      <td>1.51</td>\n",
       "      <td>61.9</td>\n",
       "      <td>27.3</td>\n",
       "    </tr>\n",
       "    <tr>\n",
       "      <th>127</th>\n",
       "      <td>East Timor</td>\n",
       "      <td>1.59</td>\n",
       "      <td>53.9</td>\n",
       "      <td>21.2</td>\n",
       "      <td>1.52</td>\n",
       "      <td>49.0</td>\n",
       "      <td>21.2</td>\n",
       "    </tr>\n",
       "    <tr>\n",
       "      <th>123</th>\n",
       "      <td>Nepal</td>\n",
       "      <td>1.64</td>\n",
       "      <td>60.5</td>\n",
       "      <td>22.5</td>\n",
       "      <td>1.52</td>\n",
       "      <td>51.6</td>\n",
       "      <td>22.3</td>\n",
       "    </tr>\n",
       "    <tr>\n",
       "      <th>122</th>\n",
       "      <td>Bangladesh</td>\n",
       "      <td>1.65</td>\n",
       "      <td>57.7</td>\n",
       "      <td>21.3</td>\n",
       "      <td>1.52</td>\n",
       "      <td>50.5</td>\n",
       "      <td>21.8</td>\n",
       "    </tr>\n",
       "    <tr>\n",
       "      <th>126</th>\n",
       "      <td>Laos</td>\n",
       "      <td>1.62</td>\n",
       "      <td>59.5</td>\n",
       "      <td>22.6</td>\n",
       "      <td>1.53</td>\n",
       "      <td>53.7</td>\n",
       "      <td>23.0</td>\n",
       "    </tr>\n",
       "    <tr>\n",
       "      <th>...</th>\n",
       "      <td>...</td>\n",
       "      <td>...</td>\n",
       "      <td>...</td>\n",
       "      <td>...</td>\n",
       "      <td>...</td>\n",
       "      <td>...</td>\n",
       "      <td>...</td>\n",
       "    </tr>\n",
       "    <tr>\n",
       "      <th>3</th>\n",
       "      <td>Estonia</td>\n",
       "      <td>1.82</td>\n",
       "      <td>89.9</td>\n",
       "      <td>27.0</td>\n",
       "      <td>1.68</td>\n",
       "      <td>73.7</td>\n",
       "      <td>26.0</td>\n",
       "    </tr>\n",
       "    <tr>\n",
       "      <th>18</th>\n",
       "      <td>Latvia</td>\n",
       "      <td>1.80</td>\n",
       "      <td>87.9</td>\n",
       "      <td>27.1</td>\n",
       "      <td>1.68</td>\n",
       "      <td>74.5</td>\n",
       "      <td>26.4</td>\n",
       "    </tr>\n",
       "    <tr>\n",
       "      <th>4</th>\n",
       "      <td>Denmark</td>\n",
       "      <td>1.82</td>\n",
       "      <td>86.8</td>\n",
       "      <td>26.3</td>\n",
       "      <td>1.69</td>\n",
       "      <td>70.2</td>\n",
       "      <td>24.6</td>\n",
       "    </tr>\n",
       "    <tr>\n",
       "      <th>2</th>\n",
       "      <td>Montenegro</td>\n",
       "      <td>1.83</td>\n",
       "      <td>90.4</td>\n",
       "      <td>27.0</td>\n",
       "      <td>1.70</td>\n",
       "      <td>75.3</td>\n",
       "      <td>26.2</td>\n",
       "    </tr>\n",
       "    <tr>\n",
       "      <th>1</th>\n",
       "      <td>Netherlands</td>\n",
       "      <td>1.84</td>\n",
       "      <td>87.9</td>\n",
       "      <td>26.1</td>\n",
       "      <td>1.70</td>\n",
       "      <td>73.2</td>\n",
       "      <td>25.3</td>\n",
       "    </tr>\n",
       "  </tbody>\n",
       "</table>\n",
       "<p>127 rows × 7 columns</p>\n",
       "</div>"
      ],
      "text/plain": [
       "      ime države  višina moških  teža moških  itm moških  višina žensk  \\\n",
       "124    Guatemala           1.64         69.1        25.7          1.51   \n",
       "127   East Timor           1.59         53.9        21.2          1.52   \n",
       "123        Nepal           1.64         60.5        22.5          1.52   \n",
       "122   Bangladesh           1.65         57.7        21.3          1.52   \n",
       "126         Laos           1.62         59.5        22.6          1.53   \n",
       "..           ...            ...          ...         ...           ...   \n",
       "3        Estonia           1.82         89.9        27.0          1.68   \n",
       "18        Latvia           1.80         87.9        27.1          1.68   \n",
       "4        Denmark           1.82         86.8        26.3          1.69   \n",
       "2     Montenegro           1.83         90.4        27.0          1.70   \n",
       "1    Netherlands           1.84         87.9        26.1          1.70   \n",
       "\n",
       "     teža žensk  itm žensk  \n",
       "124        61.9       27.3  \n",
       "127        49.0       21.2  \n",
       "123        51.6       22.3  \n",
       "122        50.5       21.8  \n",
       "126        53.7       23.0  \n",
       "..          ...        ...  \n",
       "3          73.7       26.0  \n",
       "18         74.5       26.4  \n",
       "4          70.2       24.6  \n",
       "2          75.3       26.2  \n",
       "1          73.2       25.3  \n",
       "\n",
       "[127 rows x 7 columns]"
      ]
     },
     "execution_count": 172,
     "metadata": {},
     "output_type": "execute_result"
    }
   ],
   "source": [
    "podtabela1 = countries[[\"ime države\", \"višina moških\", \"teža moških\", \"itm moških\", \"višina žensk\", \"teža žensk\", \"itm žensk\"]]\n",
    "podtabela1"
   ]
  },
  {
   "cell_type": "markdown",
   "metadata": {},
   "source": [
    "### 2.2. Kontinenti"
   ]
  },
  {
   "cell_type": "code",
   "execution_count": 173,
   "metadata": {},
   "outputs": [
    {
     "data": {
      "text/html": [
       "<div>\n",
       "<style scoped>\n",
       "    .dataframe tbody tr th:only-of-type {\n",
       "        vertical-align: middle;\n",
       "    }\n",
       "\n",
       "    .dataframe tbody tr th {\n",
       "        vertical-align: top;\n",
       "    }\n",
       "\n",
       "    .dataframe thead th {\n",
       "        text-align: right;\n",
       "    }\n",
       "</style>\n",
       "<table border=\"1\" class=\"dataframe\">\n",
       "  <thead>\n",
       "    <tr style=\"text-align: right;\">\n",
       "      <th></th>\n",
       "      <th>del kontinenta</th>\n",
       "      <th>višina moških</th>\n",
       "      <th>teža moških</th>\n",
       "      <th>višina žensk</th>\n",
       "      <th>teža žensk</th>\n",
       "    </tr>\n",
       "  </thead>\n",
       "  <tbody>\n",
       "    <tr>\n",
       "      <th>12</th>\n",
       "      <td>South Asia</td>\n",
       "      <td>1.66</td>\n",
       "      <td>60.9</td>\n",
       "      <td>1.55</td>\n",
       "      <td>54.0</td>\n",
       "    </tr>\n",
       "    <tr>\n",
       "      <th>14</th>\n",
       "      <td>Southeast Asia</td>\n",
       "      <td>1.67</td>\n",
       "      <td>62.8</td>\n",
       "      <td>1.55</td>\n",
       "      <td>56.7</td>\n",
       "    </tr>\n",
       "    <tr>\n",
       "      <th>21</th>\n",
       "      <td>Melanesia</td>\n",
       "      <td>1.64</td>\n",
       "      <td>68.1</td>\n",
       "      <td>1.57</td>\n",
       "      <td>64.6</td>\n",
       "    </tr>\n",
       "    <tr>\n",
       "      <th>2</th>\n",
       "      <td>Eastern Africa</td>\n",
       "      <td>1.67</td>\n",
       "      <td>60.1</td>\n",
       "      <td>1.57</td>\n",
       "      <td>56.2</td>\n",
       "    </tr>\n",
       "    <tr>\n",
       "      <th>9</th>\n",
       "      <td>Central America</td>\n",
       "      <td>1.69</td>\n",
       "      <td>77.8</td>\n",
       "      <td>1.57</td>\n",
       "      <td>69.4</td>\n",
       "    </tr>\n",
       "    <tr>\n",
       "      <th>...</th>\n",
       "      <td>...</td>\n",
       "      <td>...</td>\n",
       "      <td>...</td>\n",
       "      <td>...</td>\n",
       "      <td>...</td>\n",
       "    </tr>\n",
       "    <tr>\n",
       "      <th>18</th>\n",
       "      <td>Northern Europe</td>\n",
       "      <td>1.79</td>\n",
       "      <td>87.1</td>\n",
       "      <td>1.65</td>\n",
       "      <td>72.3</td>\n",
       "    </tr>\n",
       "    <tr>\n",
       "      <th>20</th>\n",
       "      <td>Polynesia</td>\n",
       "      <td>1.76</td>\n",
       "      <td>93.8</td>\n",
       "      <td>1.65</td>\n",
       "      <td>87.3</td>\n",
       "    </tr>\n",
       "    <tr>\n",
       "      <th>19</th>\n",
       "      <td>Eastern Europe</td>\n",
       "      <td>1.78</td>\n",
       "      <td>83.8</td>\n",
       "      <td>1.65</td>\n",
       "      <td>72.2</td>\n",
       "    </tr>\n",
       "    <tr>\n",
       "      <th>15</th>\n",
       "      <td>Australia/New Zealand</td>\n",
       "      <td>1.78</td>\n",
       "      <td>88.4</td>\n",
       "      <td>1.65</td>\n",
       "      <td>73.1</td>\n",
       "    </tr>\n",
       "    <tr>\n",
       "      <th>16</th>\n",
       "      <td>Western Europe</td>\n",
       "      <td>1.80</td>\n",
       "      <td>86.1</td>\n",
       "      <td>1.66</td>\n",
       "      <td>69.2</td>\n",
       "    </tr>\n",
       "  </tbody>\n",
       "</table>\n",
       "<p>22 rows × 5 columns</p>\n",
       "</div>"
      ],
      "text/plain": [
       "           del kontinenta  višina moških  teža moških  višina žensk  \\\n",
       "12             South Asia           1.66         60.9          1.55   \n",
       "14         Southeast Asia           1.67         62.8          1.55   \n",
       "21              Melanesia           1.64         68.1          1.57   \n",
       "2          Eastern Africa           1.67         60.1          1.57   \n",
       "9         Central America           1.69         77.8          1.57   \n",
       "..                    ...            ...          ...           ...   \n",
       "18        Northern Europe           1.79         87.1          1.65   \n",
       "20              Polynesia           1.76         93.8          1.65   \n",
       "19         Eastern Europe           1.78         83.8          1.65   \n",
       "15  Australia/New Zealand           1.78         88.4          1.65   \n",
       "16         Western Europe           1.80         86.1          1.66   \n",
       "\n",
       "    teža žensk  \n",
       "12        54.0  \n",
       "14        56.7  \n",
       "21        64.6  \n",
       "2         56.2  \n",
       "9         69.4  \n",
       "..         ...  \n",
       "18        72.3  \n",
       "20        87.3  \n",
       "19        72.2  \n",
       "15        73.1  \n",
       "16        69.2  \n",
       "\n",
       "[22 rows x 5 columns]"
      ]
     },
     "execution_count": 173,
     "metadata": {},
     "output_type": "execute_result"
    }
   ],
   "source": [
    "podtabela2 = continents[[\"del kontinenta\", \"višina moških\", \"teža moških\", \"višina žensk\", \"teža žensk\"]]\n",
    "podtabela2"
   ]
  },
  {
   "cell_type": "markdown",
   "metadata": {},
   "source": [
    "## 3. Grafi in razni izračuni"
   ]
  },
  {
   "cell_type": "markdown",
   "metadata": {},
   "source": [
    "### 3.1. Države"
   ]
  },
  {
   "cell_type": "markdown",
   "metadata": {},
   "source": [
    "#### 3.1.1. Primerjava prvih in zadnjih 10 držav"
   ]
  },
  {
   "cell_type": "code",
   "execution_count": 174,
   "metadata": {},
   "outputs": [
    {
     "data": {
      "image/png": "[encoded data removed]",
      "text/plain": [
       "<Figure size 864x432 with 1 Axes>"
      ]
     },
     "metadata": {
      "needs_background": "light"
     },
     "output_type": "display_data"
    }
   ],
   "source": [
    "top_10_male_heights = countries.groupby('ime države')['višina moških'].mean().nlargest(10)\n",
    "female_heights = countries.groupby('ime države')['višina žensk'].mean()\n",
    "\n",
    "female_heights_sorted = female_heights[top_10_male_heights.index] # priredimo desetim največjim moškim višinam ustrezne ženske višine\n",
    "\n",
    "plt.figure(figsize=(12, 6))\n",
    "\n",
    "plt.bar(top_10_male_heights.index, top_10_male_heights, width=0.4, label='Višina moških')\n",
    "plt.bar(top_10_male_heights.index, female_heights_sorted, width=0.4, align='edge', label='Višina žensk')\n",
    "\n",
    "plt.xlabel('Ime države')\n",
    "plt.ylabel('Višina')\n",
    "plt.title('Prvih 10 višin moških in žensk po državah')\n",
    "plt.xticks(rotation=45)\n",
    "plt.legend()\n",
    "plt.tight_layout()\n",
    "plt.show()\n"
   ]
  },
  {
   "cell_type": "code",
   "execution_count": 175,
   "metadata": {},
   "outputs": [
    {
     "data": {
      "image/png": "[encoded data removed]",
      "text/plain": [
       "<Figure size 864x432 with 1 Axes>"
      ]
     },
     "metadata": {
      "needs_background": "light"
     },
     "output_type": "display_data"
    }
   ],
   "source": [
    "bottom_10_male_heights = countries.groupby('ime države')['višina moških'].mean().nsmallest(10)\n",
    "female_heights = countries.groupby('ime države')['višina žensk'].mean()\n",
    "\n",
    "female_heights_sorted = female_heights[bottom_10_male_heights.index]\n",
    "\n",
    "plt.figure(figsize=(12, 6))\n",
    "\n",
    "plt.bar(bottom_10_male_heights.index, bottom_10_male_heights, width=0.4, label='Višina moških')\n",
    "plt.bar(bottom_10_male_heights.index, female_heights_sorted, width=0.4, align='edge', label='Višina žensk')\n",
    "\n",
    "plt.xlabel('Ime države')\n",
    "plt.ylabel('Višina')\n",
    "plt.title('Zadnjih 10 višin moških in žensk po državah')\n",
    "plt.xticks(rotation=45)\n",
    "plt.legend()\n",
    "plt.tight_layout()\n",
    "plt.show()\n"
   ]
  },
  {
   "cell_type": "markdown",
   "metadata": {},
   "source": [
    "#### 3.1.2. Razlike višin med spoloma"
   ]
  },
  {
   "cell_type": "markdown",
   "metadata": {},
   "source": [
    "Naslednji računi prikazujejo, kolikšna je povprečna višina moškega in ženske glede na obravnavane države, za koliko se ti dve vrednosti razlikujeta in za kolikšen delež so povprečno moški višji od žensk ter kje se pojavi največja razlika med spoloma in kolikšna je. Opazimo, da so moški povprečno visoki 1.74 m, ženske 1.61 m, da so moški v primerjavi z ženskami za 13 cm višji in da so moški po državah povprečno 8.07 % višji od žensk. Največja razlika med višino moških in žensk je se je izkazala v državi Puerto Rico in znaša 0.16 m.\n",
    "\n"
   ]
  },
  {
   "cell_type": "code",
   "execution_count": 176,
   "metadata": {},
   "outputs": [
    {
     "name": "stdout",
     "output_type": "stream",
     "text": [
      "Povprečna višina moškega glede na vse države je 1.74 m.\n",
      "Povprečna višina ženske glede na vse države je 1.61 m.\n"
     ]
    }
   ],
   "source": [
    "average_world_male_height = round(np.mean(podtabela1[\"višina moških\"]), 2)\n",
    "average_world_female_height = round(np.mean(podtabela1[\"višina žensk\"]), 2)\n",
    "\n",
    "print(\"Povprečna višina moškega glede na vse države je\", average_world_male_height, \"m.\")\n",
    "print(\"Povprečna višina ženske glede na vse države je\", average_world_female_height, \"m.\")\n"
   ]
  },
  {
   "cell_type": "code",
   "execution_count": 177,
   "metadata": {},
   "outputs": [
    {
     "data": {
      "image/png": "[encoded data removed]",
      "text/plain": [
       "<Figure size 432x432 with 1 Axes>"
      ]
     },
     "metadata": {
      "needs_background": "light"
     },
     "output_type": "display_data"
    }
   ],
   "source": [
    "average_height = podtabela1[[\"višina moških\", \"višina žensk\"]].mean()\n",
    "\n",
    "plt.figure(figsize=(6, 6))\n",
    "average_height.plot(kind=\"bar\")\n",
    "plt.xlabel(\"Spol\")\n",
    "plt.ylabel(\"Povprečna višina\")\n",
    "plt.title(\"Povprečna višina glede na spol\")\n",
    "plt.xticks(rotation=0)\n",
    "plt.tight_layout()\n",
    "plt.show()"
   ]
  },
  {
   "cell_type": "markdown",
   "metadata": {},
   "source": [
    "Koliko so moški večji od žensk?"
   ]
  },
  {
   "cell_type": "code",
   "execution_count": 178,
   "metadata": {},
   "outputs": [
    {
     "name": "stdout",
     "output_type": "stream",
     "text": [
      "Razlika med višino moških in žensk je 0.13 m.\n"
     ]
    }
   ],
   "source": [
    "rounded_height_difference = round(average_world_male_height - average_world_female_height, 2)\n",
    "\n",
    "print(\"Razlika med višino moških in žensk je\", rounded_height_difference, \"m.\")\n"
   ]
  },
  {
   "cell_type": "code",
   "execution_count": 179,
   "metadata": {},
   "outputs": [
    {
     "name": "stdout",
     "output_type": "stream",
     "text": [
      "Moški so po državah povprečno 8.07 % višji od žensk.\n"
     ]
    }
   ],
   "source": [
    "percentage_men_taller = (rounded_height_difference / average_world_female_height) * 100\n",
    "\n",
    "print(\"Moški so po državah povprečno\", round(percentage_men_taller, 2), \"% višji od žensk.\")\n"
   ]
  },
  {
   "cell_type": "markdown",
   "metadata": {},
   "source": [
    "Kolikšne so največje razlike med ITM vrednostmi in v katerih državah so?"
   ]
  },
  {
   "cell_type": "code",
   "execution_count": 180,
   "metadata": {},
   "outputs": [
    {
     "name": "stdout",
     "output_type": "stream",
     "text": [
      "Tabela držav z največjimi razlikami višin:\n",
      "                 ime države  height_difference\n",
      "24              Puerto Rico               0.16\n",
      "32                  Lebanon               0.15\n",
      "15                   Poland               0.15\n",
      "5    Bosnia and Herzegovina               0.15\n",
      "21                  Belgium               0.15\n",
      "..                      ...                ...\n",
      "125                   Yemen               0.09\n",
      "87                     Chad               0.09\n",
      "95                 Kiribati               0.09\n",
      "84                   Tuvalu               0.08\n",
      "127              East Timor               0.07\n",
      "\n",
      "[127 rows x 2 columns]\n"
     ]
    }
   ],
   "source": [
    "podtabela1[\"height_difference\"] = abs(podtabela1[\"višina moških\"] - podtabela1[\"višina žensk\"])\n",
    "countries_ordered_by_height_difference = podtabela1.sort_values(by=\"height_difference\", ascending=False)\n",
    "\n",
    "countries_and_height_differences = countries_ordered_by_height_difference[[\"ime države\", \"height_difference\"]]\n",
    "\n",
    "print(\"Tabela držav z največjimi razlikami višin:\")\n",
    "print(countries_and_height_differences)\n"
   ]
  },
  {
   "cell_type": "code",
   "execution_count": 181,
   "metadata": {},
   "outputs": [
    {
     "data": {
      "image/png": "[encoded data removed]",
      "text/plain": [
       "<Figure size 864x432 with 1 Axes>"
      ]
     },
     "metadata": {
      "needs_background": "light"
     },
     "output_type": "display_data"
    }
   ],
   "source": [
    "plt.figure(figsize=(12, 6))\n",
    "\n",
    "plt.bar(countries_ordered_by_height_difference[\"ime države\"].head(10), countries_ordered_by_height_difference[\"višina moških\"].head(10), width=0.4, label='višina moških')\n",
    "plt.bar(countries_ordered_by_height_difference[\"ime države\"].head(10), countries_ordered_by_height_difference[\"višina žensk\"].head(10), width=0.4, align='edge', label='višina žensk')\n",
    "\n",
    "plt.xlabel('Ime države')\n",
    "plt.ylabel('Višina')\n",
    "plt.title('Top 10 držav z najvišjo razliko v višini med moškimi in ženskami')\n",
    "plt.xticks(rotation=45)\n",
    "plt.legend()\n",
    "plt.tight_layout()\n",
    "plt.show()"
   ]
  },
  {
   "cell_type": "code",
   "execution_count": 182,
   "metadata": {},
   "outputs": [
    {
     "data": {
      "image/png": "[encoded data removed]",
      "text/plain": [
       "<Figure size 720x432 with 1 Axes>"
      ]
     },
     "metadata": {
      "needs_background": "light"
     },
     "output_type": "display_data"
    }
   ],
   "source": [
    "plt.figure(figsize=(10, 6))\n",
    "plt.bar(countries_ordered_by_height_difference[\"ime države\"].head(10), countries_ordered_by_height_difference[\"height_difference\"].head(10))\n",
    "plt.xlabel(\"Država\")\n",
    "plt.ylabel(\"Razlika v višini moških in žensk\")\n",
    "plt.title(\"Top 10 držav z najvišjo razliko višine moških in žensk\")\n",
    "plt.xticks(rotation=45, ha=\"right\")\n",
    "plt.tight_layout()\n",
    "plt.show()\n"
   ]
  },
  {
   "cell_type": "code",
   "execution_count": 183,
   "metadata": {},
   "outputs": [
    {
     "name": "stdout",
     "output_type": "stream",
     "text": [
      "Največja razlika med višino moških in žensk je 0.16 m.\n",
      "Ta razlika je prisotna na območju: Puerto Rico\n"
     ]
    }
   ],
   "source": [
    "max_height_difference = round(np.max(np.abs(podtabela1[\"višina moških\"] - podtabela1[\"višina žensk\"])), 2)\n",
    "\n",
    "#poiščemo vrstico\n",
    "max_height_row = podtabela1.loc[np.abs(podtabela1[\"višina moških\"] - podtabela1[\"višina žensk\"]).idxmax()]\n",
    "\n",
    "# poiščemo državo\n",
    "country_with_max_height_difference = max_height_row[\"ime države\"]\n",
    "\n",
    "print(\"Največja razlika med višino moških in žensk je\", max_height_difference, \"m.\")\n",
    "print(\"Ta razlika je prisotna na območju:\", country_with_max_height_difference)"
   ]
  },
  {
   "cell_type": "markdown",
   "metadata": {},
   "source": [
    "### 3.2. Kontinenti"
   ]
  },
  {
   "cell_type": "markdown",
   "metadata": {},
   "source": [
    "#### 3.2.1. Primerjava prvih in zadnjih 10 delov kontinentov"
   ]
  },
  {
   "cell_type": "code",
   "execution_count": 184,
   "metadata": {},
   "outputs": [
    {
     "data": {
      "image/png": "[encoded data removed]",
      "text/plain": [
       "<Figure size 864x432 with 1 Axes>"
      ]
     },
     "metadata": {
      "needs_background": "light"
     },
     "output_type": "display_data"
    }
   ],
   "source": [
    "top_10_male_heights_continents = continents.groupby('del kontinenta')['višina moških'].mean().nlargest(10)\n",
    "female_heights_continents = continents.groupby('del kontinenta')['višina žensk'].mean()\n",
    "\n",
    "female_heights_sorted_continents = female_heights_continents[top_10_male_heights_continents.index] # priredimo desetim največjim moškim višinam ustrezne ženske višine\n",
    "\n",
    "plt.figure(figsize=(12, 6))\n",
    "\n",
    "plt.bar(top_10_male_heights_continents.index, top_10_male_heights_continents, width=0.4, label='Višina moških')\n",
    "plt.bar(top_10_male_heights_continents.index, female_heights_sorted_continents, width=0.4, align='edge', label='Višina žensk')\n",
    "\n",
    "plt.xlabel('Del kontinenta')\n",
    "plt.ylabel('Višina')\n",
    "plt.title('Prvih 10 višin moških in žensk po kontinentih')\n",
    "plt.xticks(rotation=45)\n",
    "plt.legend()\n",
    "plt.tight_layout()\n",
    "plt.show()"
   ]
  },
  {
   "cell_type": "code",
   "execution_count": 185,
   "metadata": {},
   "outputs": [
    {
     "data": {
      "image/png": "[encoded data removed]",
      "text/plain": [
       "<Figure size 864x432 with 1 Axes>"
      ]
     },
     "metadata": {
      "needs_background": "light"
     },
     "output_type": "display_data"
    }
   ],
   "source": [
    "bottom_10_male_heights_continents = continents.groupby('del kontinenta')['višina moških'].mean().nsmallest(10)\n",
    "female_heights_continents = continents.groupby('del kontinenta')['višina žensk'].mean()\n",
    "\n",
    "female_heights_sorted_continents = female_heights[bottom_10_male_heights.index]\n",
    "\n",
    "plt.figure(figsize=(12, 6))\n",
    "\n",
    "plt.bar(bottom_10_male_heights_continents.index, bottom_10_male_heights_continents, width=0.4, label='Višina moških')\n",
    "plt.bar(bottom_10_male_heights_continents.index, female_heights_sorted_continents, width=0.4, align='edge', label='Višina žensk')\n",
    "\n",
    "plt.xlabel('Del kontinenta')\n",
    "plt.ylabel('Višina')\n",
    "plt.title('Zadnjih 10 višin moških in žensk po kontinentih')\n",
    "plt.xticks(rotation=45)\n",
    "plt.legend()\n",
    "plt.tight_layout()\n",
    "plt.show()\n"
   ]
  },
  {
   "cell_type": "markdown",
   "metadata": {},
   "source": [
    "#### 3.2.2. Razlike višin med spoloma"
   ]
  },
  {
   "cell_type": "markdown",
   "metadata": {},
   "source": [
    "Analogno kot pri državah sem naredila račune, kolikšna je povprečna višina moškega in ženske glede na dele kontinentov, za koliko se ti dve vrednosti razlikujeta in za kolikšen delež so povprečno moški višji od žensk ter kje se pojavi največja razlika med spoloma in kolikšna je. Opazimo, da so moški povprečno visoki 1.72 m, ženske 1.6 m, da so moški v primerjavi z ženskami za 12 cm višji in da so moški po državah povprečno 7.5 % višji od žensk. Največja razlika med višino moških in žensk je se je izkazala v vzhodni Afriki in znaša 0.14 m.\n",
    "\n"
   ]
  },
  {
   "cell_type": "code",
   "execution_count": 186,
   "metadata": {},
   "outputs": [
    {
     "name": "stdout",
     "output_type": "stream",
     "text": [
      "Povprečna višina moškega glede na kontinente je 1.72 m.\n",
      "Povprečna višina ženske glede na kontinente je 1.6 m.\n"
     ]
    }
   ],
   "source": [
    "average_world_male_height_c = round(np.mean(podtabela2[\"višina moških\"]), 2)\n",
    "average_world_female_height_c = round(np.mean(podtabela2[\"višina žensk\"]), 2)\n",
    "\n",
    "print(\"Povprečna višina moškega glede na kontinente je\", average_world_male_height_c, \"m.\")\n",
    "print(\"Povprečna višina ženske glede na kontinente je\", average_world_female_height_c, \"m.\")"
   ]
  },
  {
   "cell_type": "markdown",
   "metadata": {},
   "source": [
    "Koliko so moški večji od žensk?"
   ]
  },
  {
   "cell_type": "code",
   "execution_count": 187,
   "metadata": {},
   "outputs": [
    {
     "name": "stdout",
     "output_type": "stream",
     "text": [
      "Razlika med višino moških in žensk je 0.12 m.\n"
     ]
    }
   ],
   "source": [
    "rounded_height_difference_c = round(average_world_male_height_c - average_world_female_height_c, 2)\n",
    "\n",
    "print(\"Razlika med višino moških in žensk je\", rounded_height_difference_c, \"m.\")\n"
   ]
  },
  {
   "cell_type": "code",
   "execution_count": 188,
   "metadata": {},
   "outputs": [
    {
     "name": "stdout",
     "output_type": "stream",
     "text": [
      "Moški so po kontinentih povprečno 7.5 % višji od žensk.\n"
     ]
    }
   ],
   "source": [
    "percentage_men_taller_c = (rounded_height_difference_c / average_world_female_height_c) * 100\n",
    "\n",
    "print(\"Moški so po kontinentih povprečno\", round(percentage_men_taller_c, 2), \"% višji od žensk.\")"
   ]
  },
  {
   "cell_type": "markdown",
   "metadata": {},
   "source": [
    "Kje je največja razlika med moškimi in ženskami in kolikšna je?"
   ]
  },
  {
   "cell_type": "code",
   "execution_count": 189,
   "metadata": {},
   "outputs": [
    {
     "name": "stdout",
     "output_type": "stream",
     "text": [
      "Največja razlika med višino moških in žensk je 0.14 m.\n",
      "Ta razlika je prisotna na območju: Eastern Africa\n"
     ]
    }
   ],
   "source": [
    "max_height_difference_c = round(np.max(np.abs(podtabela2[\"višina moških\"] - podtabela2[\"višina žensk\"])), 2)\n",
    "\n",
    "#poiščemo vrstico\n",
    "max_height_row_c = podtabela2.loc[np.abs(podtabela1[\"višina moških\"] - podtabela2[\"višina žensk\"]).idxmax()]\n",
    "\n",
    "# poiščemo državo\n",
    "continent_with_max_height_difference = max_height_row_c[\"del kontinenta\"]\n",
    "\n",
    "print(\"Največja razlika med višino moških in žensk je\", max_height_difference_c, \"m.\")\n",
    "print(\"Ta razlika je prisotna na območju:\", continent_with_max_height_difference)\n"
   ]
  }
 ],
 "metadata": {
  "kernelspec": {
   "display_name": "Python 3.10.7 64-bit",
   "language": "python",
   "name": "python3"
  },
  "language_info": {
   "codemirror_mode": {
    "name": "ipython",
    "version": 3
   },
   "file_extension": ".py",
   "mimetype": "text/x-python",
   "name": "python",
   "nbconvert_exporter": "python",
   "pygments_lexer": "ipython3",
   "version": "3.10.7"
  },
  "orig_nbformat": 4,
  "vscode": {
   "interpreter": {
    "hash": "369f2c481f4da34e4445cda3fffd2e751bd1c4d706f27375911949ba6bb62e1c"
   }
  }
 },
 "nbformat": 4,
 "nbformat_minor": 2
}
