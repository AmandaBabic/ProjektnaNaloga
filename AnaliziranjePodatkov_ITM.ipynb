{
 "cells": [
  {
   "cell_type": "markdown",
   "metadata": {},
   "source": [
    "# Analiziranje podatkov glede na ITM"
   ]
  },
  {
   "cell_type": "markdown",
   "metadata": {},
   "source": [
    "Naložimo ustrezne pakete"
   ]
  },
  {
   "cell_type": "code",
   "execution_count": 103,
   "metadata": {},
   "outputs": [],
   "source": [
    "# naložimo pakete\n",
    "import os\n",
    "import pandas as pd\n",
    "\n",
    "nov_directory = 'obdelani podatki'\n",
    "csv_drzave = 'drzave.csv'\n",
    "csv_kontinenti = 'kontinenti.csv'\n",
    "# izberemo interaktivni \"notebook\" stil risanja\n",
    "%matplotlib inline\n",
    "\n",
    "pd.set_option(\"display.max_rows\", 15)\n",
    "path1 = os.path.join(nov_directory, csv_drzave) \n",
    "path2 = os.path.join(nov_directory, csv_kontinenti) \n",
    "\n",
    "#naložimo razpredelnico, s katero bomo delali\n",
    "countries = pd.read_csv(path1)\n",
    "continents = pd.read_csv(path2)"
   ]
  },
  {
   "cell_type": "code",
   "execution_count": 104,
   "metadata": {},
   "outputs": [],
   "source": [
    "%matplotlib inline\n",
    "\n",
    "import matplotlib\n",
    "import numpy as np\n",
    "import matplotlib.pyplot as plt\n"
   ]
  },
  {
   "cell_type": "markdown",
   "metadata": {},
   "source": [
    "## 1. Splošno"
   ]
  },
  {
   "cell_type": "markdown",
   "metadata": {},
   "source": [
    "### 1.1. Države"
   ]
  },
  {
   "cell_type": "markdown",
   "metadata": {},
   "source": [
    "V spodnjih tabelah je prikazan seznam vseh držav, ki sem jih zajela v svoji projektni nalogi. Vsebuje podatke o višini, teži in ITM-ju tako moških kot žensk. V tej datoteki sem se osredotočila na analiziranje podatkov indeksa telesne mase (ITM). "
   ]
  },
  {
   "cell_type": "code",
   "execution_count": 105,
   "metadata": {},
   "outputs": [
    {
     "data": {
      "text/html": [
       "<div>\n",
       "<style scoped>\n",
       "    .dataframe tbody tr th:only-of-type {\n",
       "        vertical-align: middle;\n",
       "    }\n",
       "\n",
       "    .dataframe tbody tr th {\n",
       "        vertical-align: top;\n",
       "    }\n",
       "\n",
       "    .dataframe thead th {\n",
       "        text-align: right;\n",
       "    }\n",
       "</style>\n",
       "<table border=\"1\" class=\"dataframe\">\n",
       "  <thead>\n",
       "    <tr style=\"text-align: right;\">\n",
       "      <th></th>\n",
       "      <th>ime države</th>\n",
       "      <th>višina moških</th>\n",
       "      <th>teža moških</th>\n",
       "      <th>ITM moških</th>\n",
       "      <th>višina žensk</th>\n",
       "      <th>teža žensk</th>\n",
       "      <th>ITM žensk</th>\n",
       "    </tr>\n",
       "  </thead>\n",
       "  <tbody>\n",
       "    <tr>\n",
       "      <th>1</th>\n",
       "      <td>Netherlands</td>\n",
       "      <td>1.84</td>\n",
       "      <td>87.9</td>\n",
       "      <td>26.1</td>\n",
       "      <td>1.70</td>\n",
       "      <td>73.2</td>\n",
       "      <td>25.3</td>\n",
       "    </tr>\n",
       "    <tr>\n",
       "      <th>2</th>\n",
       "      <td>Montenegro</td>\n",
       "      <td>1.83</td>\n",
       "      <td>90.4</td>\n",
       "      <td>27.0</td>\n",
       "      <td>1.70</td>\n",
       "      <td>75.3</td>\n",
       "      <td>26.2</td>\n",
       "    </tr>\n",
       "    <tr>\n",
       "      <th>3</th>\n",
       "      <td>Estonia</td>\n",
       "      <td>1.82</td>\n",
       "      <td>89.9</td>\n",
       "      <td>27.0</td>\n",
       "      <td>1.68</td>\n",
       "      <td>73.7</td>\n",
       "      <td>26.0</td>\n",
       "    </tr>\n",
       "    <tr>\n",
       "      <th>4</th>\n",
       "      <td>Denmark</td>\n",
       "      <td>1.82</td>\n",
       "      <td>86.8</td>\n",
       "      <td>26.3</td>\n",
       "      <td>1.69</td>\n",
       "      <td>70.2</td>\n",
       "      <td>24.6</td>\n",
       "    </tr>\n",
       "    <tr>\n",
       "      <th>5</th>\n",
       "      <td>Bosnia and Herzegovina</td>\n",
       "      <td>1.82</td>\n",
       "      <td>87.1</td>\n",
       "      <td>26.4</td>\n",
       "      <td>1.67</td>\n",
       "      <td>70.6</td>\n",
       "      <td>25.3</td>\n",
       "    </tr>\n",
       "    <tr>\n",
       "      <th>...</th>\n",
       "      <td>...</td>\n",
       "      <td>...</td>\n",
       "      <td>...</td>\n",
       "      <td>...</td>\n",
       "      <td>...</td>\n",
       "      <td>...</td>\n",
       "      <td>...</td>\n",
       "    </tr>\n",
       "    <tr>\n",
       "      <th>123</th>\n",
       "      <td>Nepal</td>\n",
       "      <td>1.64</td>\n",
       "      <td>60.5</td>\n",
       "      <td>22.5</td>\n",
       "      <td>1.52</td>\n",
       "      <td>51.6</td>\n",
       "      <td>22.3</td>\n",
       "    </tr>\n",
       "    <tr>\n",
       "      <th>124</th>\n",
       "      <td>Guatemala</td>\n",
       "      <td>1.64</td>\n",
       "      <td>69.1</td>\n",
       "      <td>25.7</td>\n",
       "      <td>1.51</td>\n",
       "      <td>61.9</td>\n",
       "      <td>27.3</td>\n",
       "    </tr>\n",
       "    <tr>\n",
       "      <th>125</th>\n",
       "      <td>Yemen</td>\n",
       "      <td>1.63</td>\n",
       "      <td>62.5</td>\n",
       "      <td>23.6</td>\n",
       "      <td>1.54</td>\n",
       "      <td>56.9</td>\n",
       "      <td>24.0</td>\n",
       "    </tr>\n",
       "    <tr>\n",
       "      <th>126</th>\n",
       "      <td>Laos</td>\n",
       "      <td>1.62</td>\n",
       "      <td>59.5</td>\n",
       "      <td>22.6</td>\n",
       "      <td>1.53</td>\n",
       "      <td>53.7</td>\n",
       "      <td>23.0</td>\n",
       "    </tr>\n",
       "    <tr>\n",
       "      <th>127</th>\n",
       "      <td>East Timor</td>\n",
       "      <td>1.59</td>\n",
       "      <td>53.9</td>\n",
       "      <td>21.2</td>\n",
       "      <td>1.52</td>\n",
       "      <td>49.0</td>\n",
       "      <td>21.2</td>\n",
       "    </tr>\n",
       "  </tbody>\n",
       "</table>\n",
       "<p>127 rows × 7 columns</p>\n",
       "</div>"
      ],
      "text/plain": [
       "                 ime države  višina moških  teža moških  ITM moških  \\\n",
       "1               Netherlands           1.84         87.9        26.1   \n",
       "2                Montenegro           1.83         90.4        27.0   \n",
       "3                   Estonia           1.82         89.9        27.0   \n",
       "4                   Denmark           1.82         86.8        26.3   \n",
       "5    Bosnia and Herzegovina           1.82         87.1        26.4   \n",
       "..                      ...            ...          ...         ...   \n",
       "123                   Nepal           1.64         60.5        22.5   \n",
       "124               Guatemala           1.64         69.1        25.7   \n",
       "125                   Yemen           1.63         62.5        23.6   \n",
       "126                    Laos           1.62         59.5        22.6   \n",
       "127              East Timor           1.59         53.9        21.2   \n",
       "\n",
       "     višina žensk  teža žensk  ITM žensk  \n",
       "1            1.70        73.2       25.3  \n",
       "2            1.70        75.3       26.2  \n",
       "3            1.68        73.7       26.0  \n",
       "4            1.69        70.2       24.6  \n",
       "5            1.67        70.6       25.3  \n",
       "..            ...         ...        ...  \n",
       "123          1.52        51.6       22.3  \n",
       "124          1.51        61.9       27.3  \n",
       "125          1.54        56.9       24.0  \n",
       "126          1.53        53.7       23.0  \n",
       "127          1.52        49.0       21.2  \n",
       "\n",
       "[127 rows x 7 columns]"
      ]
     },
     "execution_count": 105,
     "metadata": {},
     "output_type": "execute_result"
    }
   ],
   "source": [
    "countries.index += 1\n",
    "countries"
   ]
  },
  {
   "cell_type": "markdown",
   "metadata": {},
   "source": [
    "Nadaljnje tabele prikazujejo države urejene po ITM vrednosti. Vidimo lahko, da so izmed vseh držav moški z najvišjo ITM vrednostjo v Ameriški Samoi in enako velja za ženske (tam so tudi najtežje ženske). Moški z najnižjo ITM vrednostjo so v Etiopiji in enako velja za ženske.     "
   ]
  },
  {
   "cell_type": "code",
   "execution_count": 106,
   "metadata": {},
   "outputs": [
    {
     "name": "stdout",
     "output_type": "stream",
     "text": [
      "         ime države  višina moških  teža moških  ITM moških  višina žensk  \\\n",
      "44   American Samoa           1.77        103.2        33.1          1.67   \n",
      "36     Cook Islands           1.78        103.7        32.7          1.67   \n",
      "100           Nauru           1.69         93.0        32.4          1.58   \n",
      "47          Tokelau           1.76         99.0        32.0          1.66   \n",
      "42             Niue           1.77         98.8        31.5          1.67   \n",
      "\n",
      "     teža žensk  ITM žensk  \n",
      "44         98.1       35.2  \n",
      "36         92.8       33.3  \n",
      "100        82.2       33.1  \n",
      "47         92.5       33.7  \n",
      "42         92.6       33.4  \n"
     ]
    },
    {
     "data": {
      "text/plain": [
       "44     33.1\n",
       "36     32.7\n",
       "100    32.4\n",
       "47     32.0\n",
       "42     31.5\n",
       "       ... \n",
       "103    21.4\n",
       "122    21.3\n",
       "127    21.2\n",
       "90     20.3\n",
       "109    20.1\n",
       "Name: ITM moških, Length: 127, dtype: float64"
      ]
     },
     "execution_count": 106,
     "metadata": {},
     "output_type": "execute_result"
    }
   ],
   "source": [
    "countries.sort_values(by=\"ITM moških\", ascending = False, inplace=True)\n",
    "countries\n",
    "print(countries.head(5))\n",
    "countries[\"ITM moških\"]"
   ]
  },
  {
   "cell_type": "code",
   "execution_count": 107,
   "metadata": {},
   "outputs": [
    {
     "name": "stdout",
     "output_type": "stream",
     "text": [
      "        ime države  višina moških  teža moških  ITM moških  višina žensk  \\\n",
      "44  American Samoa           1.77        103.2        33.1          1.67   \n",
      "69           Samoa           1.73         91.8        30.5          1.63   \n",
      "57           Tonga           1.75         93.7        30.7          1.66   \n",
      "47         Tokelau           1.76         99.0        32.0          1.66   \n",
      "42            Niue           1.77         98.8        31.5          1.67   \n",
      "\n",
      "    teža žensk  ITM žensk  \n",
      "44        98.1       35.2  \n",
      "69        90.5       34.1  \n",
      "57        93.1       33.9  \n",
      "47        92.5       33.7  \n",
      "42        92.6       33.4  \n"
     ]
    },
    {
     "data": {
      "text/plain": [
       "44     35.2\n",
       "69     34.1\n",
       "57     33.9\n",
       "47     33.7\n",
       "42     33.4\n",
       "       ... \n",
       "113    21.5\n",
       "127    21.2\n",
       "120    21.1\n",
       "90     21.1\n",
       "109    21.0\n",
       "Name: ITM žensk, Length: 127, dtype: float64"
      ]
     },
     "execution_count": 107,
     "metadata": {},
     "output_type": "execute_result"
    }
   ],
   "source": [
    "countries.sort_values(by=\"ITM žensk\", ascending = False, inplace = True)\n",
    "countries\n",
    "print(countries.head(5))\n",
    "countries[\"ITM žensk\"]"
   ]
  },
  {
   "cell_type": "code",
   "execution_count": 108,
   "metadata": {},
   "outputs": [
    {
     "name": "stdout",
     "output_type": "stream",
     "text": [
      "     ime države  višina moških  teža moških  ITM moških  višina žensk  \\\n",
      "109    Ethiopia           1.68         56.5        20.1          1.57   \n",
      "90      Eritrea           1.70         58.8        20.3          1.57   \n",
      "127  East Timor           1.59         53.9        21.2          1.52   \n",
      "122  Bangladesh           1.65         57.7        21.3          1.52   \n",
      "103       Niger           1.69         61.1        21.4          1.59   \n",
      "\n",
      "     teža žensk  ITM žensk  \n",
      "109        51.6       21.0  \n",
      "90         52.2       21.1  \n",
      "127        49.0       21.2  \n",
      "122        50.5       21.8  \n",
      "103        56.6       22.3  \n"
     ]
    },
    {
     "data": {
      "text/plain": [
       "109    20.1\n",
       "90     20.3\n",
       "127    21.2\n",
       "122    21.3\n",
       "103    21.4\n",
       "       ... \n",
       "42     31.5\n",
       "47     32.0\n",
       "100    32.4\n",
       "36     32.7\n",
       "44     33.1\n",
       "Name: ITM moških, Length: 127, dtype: float64"
      ]
     },
     "execution_count": 108,
     "metadata": {},
     "output_type": "execute_result"
    }
   ],
   "source": [
    "countries.sort_values(by=\"ITM moških\", ascending = True, inplace = True)\n",
    "countries\n",
    "print(countries.head(5))\n",
    "countries[\"ITM moških\"]"
   ]
  },
  {
   "cell_type": "code",
   "execution_count": 109,
   "metadata": {},
   "outputs": [
    {
     "name": "stdout",
     "output_type": "stream",
     "text": [
      "     ime države  višina moških  teža moških  ITM moških  višina žensk  \\\n",
      "109    Ethiopia           1.68         56.5        20.1          1.57   \n",
      "90      Eritrea           1.70         58.8        20.3          1.57   \n",
      "120  Madagascar           1.65         58.4        21.5          1.53   \n",
      "127  East Timor           1.59         53.9        21.2          1.52   \n",
      "113     Burundi           1.67         60.5        21.8          1.55   \n",
      "\n",
      "     teža žensk  ITM žensk  \n",
      "109        51.6       21.0  \n",
      "90         52.2       21.1  \n",
      "120        49.2       21.1  \n",
      "127        49.0       21.2  \n",
      "113        51.5       21.5  \n"
     ]
    },
    {
     "data": {
      "text/plain": [
       "109    21.0\n",
       "90     21.1\n",
       "120    21.1\n",
       "127    21.2\n",
       "113    21.5\n",
       "       ... \n",
       "42     33.4\n",
       "47     33.7\n",
       "57     33.9\n",
       "69     34.1\n",
       "44     35.2\n",
       "Name: ITM žensk, Length: 127, dtype: float64"
      ]
     },
     "execution_count": 109,
     "metadata": {},
     "output_type": "execute_result"
    }
   ],
   "source": [
    "countries.sort_values(by=\"ITM žensk\", ascending = True, inplace = True)\n",
    "countries\n",
    "print(countries.head(5))\n",
    "countries[\"ITM žensk\"]"
   ]
  },
  {
   "cell_type": "markdown",
   "metadata": {},
   "source": [
    "### 1.2. Kontinenti"
   ]
  },
  {
   "cell_type": "markdown",
   "metadata": {},
   "source": [
    "Analogno kot pri državah je v spodnjih tabelah prikazan seznam delov kontinentov, ki sem jih zajela v svoji projektni nalogi. Vsebuje podatke o višini in teži tako moških kot žensk. V tej datoteki sem se osredotočila na analiziranje podatkov indeksa telesne mase (ITM)."
   ]
  },
  {
   "cell_type": "code",
   "execution_count": 110,
   "metadata": {},
   "outputs": [
    {
     "data": {
      "text/html": [
       "<div>\n",
       "<style scoped>\n",
       "    .dataframe tbody tr th:only-of-type {\n",
       "        vertical-align: middle;\n",
       "    }\n",
       "\n",
       "    .dataframe tbody tr th {\n",
       "        vertical-align: top;\n",
       "    }\n",
       "\n",
       "    .dataframe thead th {\n",
       "        text-align: right;\n",
       "    }\n",
       "</style>\n",
       "<table border=\"1\" class=\"dataframe\">\n",
       "  <thead>\n",
       "    <tr style=\"text-align: right;\">\n",
       "      <th></th>\n",
       "      <th>del kontinenta</th>\n",
       "      <th>višina moških</th>\n",
       "      <th>teža moških</th>\n",
       "      <th>višina žensk</th>\n",
       "      <th>teža žensk</th>\n",
       "    </tr>\n",
       "  </thead>\n",
       "  <tbody>\n",
       "    <tr>\n",
       "      <th>1</th>\n",
       "      <td>Northern Africa</td>\n",
       "      <td>1.73</td>\n",
       "      <td>77.9</td>\n",
       "      <td>1.61</td>\n",
       "      <td>73.7</td>\n",
       "    </tr>\n",
       "    <tr>\n",
       "      <th>2</th>\n",
       "      <td>Eastern Africa</td>\n",
       "      <td>1.67</td>\n",
       "      <td>60.1</td>\n",
       "      <td>1.57</td>\n",
       "      <td>56.2</td>\n",
       "    </tr>\n",
       "    <tr>\n",
       "      <th>3</th>\n",
       "      <td>Western Africa</td>\n",
       "      <td>1.70</td>\n",
       "      <td>64.9</td>\n",
       "      <td>1.59</td>\n",
       "      <td>60.1</td>\n",
       "    </tr>\n",
       "    <tr>\n",
       "      <th>4</th>\n",
       "      <td>Southern Africa</td>\n",
       "      <td>1.69</td>\n",
       "      <td>71.2</td>\n",
       "      <td>1.59</td>\n",
       "      <td>73.2</td>\n",
       "    </tr>\n",
       "    <tr>\n",
       "      <th>5</th>\n",
       "      <td>Central Africa</td>\n",
       "      <td>1.69</td>\n",
       "      <td>62.6</td>\n",
       "      <td>1.58</td>\n",
       "      <td>58.0</td>\n",
       "    </tr>\n",
       "    <tr>\n",
       "      <th>...</th>\n",
       "      <td>...</td>\n",
       "      <td>...</td>\n",
       "      <td>...</td>\n",
       "      <td>...</td>\n",
       "      <td>...</td>\n",
       "    </tr>\n",
       "    <tr>\n",
       "      <th>18</th>\n",
       "      <td>Northern Europe</td>\n",
       "      <td>1.79</td>\n",
       "      <td>87.1</td>\n",
       "      <td>1.65</td>\n",
       "      <td>72.3</td>\n",
       "    </tr>\n",
       "    <tr>\n",
       "      <th>19</th>\n",
       "      <td>Eastern Europe</td>\n",
       "      <td>1.78</td>\n",
       "      <td>83.8</td>\n",
       "      <td>1.65</td>\n",
       "      <td>72.2</td>\n",
       "    </tr>\n",
       "    <tr>\n",
       "      <th>20</th>\n",
       "      <td>Polynesia</td>\n",
       "      <td>1.76</td>\n",
       "      <td>93.8</td>\n",
       "      <td>1.65</td>\n",
       "      <td>87.3</td>\n",
       "    </tr>\n",
       "    <tr>\n",
       "      <th>21</th>\n",
       "      <td>Melanesia</td>\n",
       "      <td>1.64</td>\n",
       "      <td>68.1</td>\n",
       "      <td>1.57</td>\n",
       "      <td>64.6</td>\n",
       "    </tr>\n",
       "    <tr>\n",
       "      <th>22</th>\n",
       "      <td>Micronesia</td>\n",
       "      <td>1.69</td>\n",
       "      <td>82.7</td>\n",
       "      <td>1.59</td>\n",
       "      <td>78.9</td>\n",
       "    </tr>\n",
       "  </tbody>\n",
       "</table>\n",
       "<p>22 rows × 5 columns</p>\n",
       "</div>"
      ],
      "text/plain": [
       "     del kontinenta  višina moških  teža moških  višina žensk  teža žensk\n",
       "1   Northern Africa           1.73         77.9          1.61        73.7\n",
       "2    Eastern Africa           1.67         60.1          1.57        56.2\n",
       "3    Western Africa           1.70         64.9          1.59        60.1\n",
       "4   Southern Africa           1.69         71.2          1.59        73.2\n",
       "5    Central Africa           1.69         62.6          1.58        58.0\n",
       "..              ...            ...          ...           ...         ...\n",
       "18  Northern Europe           1.79         87.1          1.65        72.3\n",
       "19   Eastern Europe           1.78         83.8          1.65        72.2\n",
       "20        Polynesia           1.76         93.8          1.65        87.3\n",
       "21        Melanesia           1.64         68.1          1.57        64.6\n",
       "22       Micronesia           1.69         82.7          1.59        78.9\n",
       "\n",
       "[22 rows x 5 columns]"
      ]
     },
     "execution_count": 110,
     "metadata": {},
     "output_type": "execute_result"
    }
   ],
   "source": [
    "continents.index += 1\n",
    "continents"
   ]
  },
  {
   "cell_type": "markdown",
   "metadata": {},
   "source": [
    "Pri vrednostih ITM za dele kontinentov ni bilo že danih podatkov v tabeli, zato sem izračune naredila sama. "
   ]
  },
  {
   "cell_type": "code",
   "execution_count": 111,
   "metadata": {},
   "outputs": [
    {
     "name": "stdout",
     "output_type": "stream",
     "text": [
      "     del kontinenta  višina moških  teža moških  višina žensk  teža žensk  \\\n",
      "1   Northern Africa           1.73         77.9          1.61        73.7   \n",
      "2    Eastern Africa           1.67         60.1          1.57        56.2   \n",
      "3    Western Africa           1.70         64.9          1.59        60.1   \n",
      "4   Southern Africa           1.69         71.2          1.59        73.2   \n",
      "5    Central Africa           1.69         62.6          1.58        58.0   \n",
      "..              ...            ...          ...           ...         ...   \n",
      "18  Northern Europe           1.79         87.1          1.65        72.3   \n",
      "19   Eastern Europe           1.78         83.8          1.65        72.2   \n",
      "20        Polynesia           1.76         93.8          1.65        87.3   \n",
      "21        Melanesia           1.64         68.1          1.57        64.6   \n",
      "22       Micronesia           1.69         82.7          1.59        78.9   \n",
      "\n",
      "    ITM moških  ITM žensk  \n",
      "1    26.028267  28.432545  \n",
      "2    21.549715  22.800114  \n",
      "3    22.456747  23.772794  \n",
      "4    24.929099  28.954551  \n",
      "5    21.918000  23.233456  \n",
      "..         ...        ...  \n",
      "18   27.183921  26.556474  \n",
      "19   26.448681  26.519743  \n",
      "20   30.281508  32.066116  \n",
      "21   25.319750  26.207960  \n",
      "22   28.955569  31.209208  \n",
      "\n",
      "[22 rows x 7 columns]\n"
     ]
    }
   ],
   "source": [
    "# po formuli izračunamo ITM\n",
    "continents[\"ITM moških\"] = continents[\"teža moških\"] / (continents[\"višina moških\"] ** 2)\n",
    "continents[\"ITM žensk\"] = continents[\"teža žensk\"] / (continents[\"višina žensk\"] ** 2)\n",
    "\n",
    "print(continents)\n"
   ]
  },
  {
   "cell_type": "code",
   "execution_count": 112,
   "metadata": {},
   "outputs": [
    {
     "name": "stdout",
     "output_type": "stream",
     "text": [
      "     del kontinenta  višina moških  teža moških  ITM moških  višina žensk  \\\n",
      "1   Northern Africa           1.73         77.9       26.03          1.61   \n",
      "2    Eastern Africa           1.67         60.1       21.55          1.57   \n",
      "3    Western Africa           1.70         64.9       22.46          1.59   \n",
      "4   Southern Africa           1.69         71.2       24.93          1.59   \n",
      "5    Central Africa           1.69         62.6       21.92          1.58   \n",
      "..              ...            ...          ...         ...           ...   \n",
      "18  Northern Europe           1.79         87.1       27.18          1.65   \n",
      "19   Eastern Europe           1.78         83.8       26.45          1.65   \n",
      "20        Polynesia           1.76         93.8       30.28          1.65   \n",
      "21        Melanesia           1.64         68.1       25.32          1.57   \n",
      "22       Micronesia           1.69         82.7       28.96          1.59   \n",
      "\n",
      "    teža žensk  ITM žensk  \n",
      "1         73.7      28.43  \n",
      "2         56.2      22.80  \n",
      "3         60.1      23.77  \n",
      "4         73.2      28.95  \n",
      "5         58.0      23.23  \n",
      "..         ...        ...  \n",
      "18        72.3      26.56  \n",
      "19        72.2      26.52  \n",
      "20        87.3      32.07  \n",
      "21        64.6      26.21  \n",
      "22        78.9      31.21  \n",
      "\n",
      "[22 rows x 7 columns]\n"
     ]
    }
   ],
   "source": [
    "# dodatek, da so stolpci tabele v istem vrstnem redu kot pri ostalih tabelah\n",
    "desired_columns = [\"del kontinenta\", \"višina moških\", \"teža moških\", \"ITM moških\", \"višina žensk\", \"teža žensk\", \"ITM žensk\"]\n",
    "urejena_tabela_continents = continents[desired_columns].round(2)\n",
    "\n",
    "print(urejena_tabela_continents)"
   ]
  },
  {
   "cell_type": "code",
   "execution_count": 113,
   "metadata": {},
   "outputs": [
    {
     "data": {
      "text/html": [
       "<div>\n",
       "<style scoped>\n",
       "    .dataframe tbody tr th:only-of-type {\n",
       "        vertical-align: middle;\n",
       "    }\n",
       "\n",
       "    .dataframe tbody tr th {\n",
       "        vertical-align: top;\n",
       "    }\n",
       "\n",
       "    .dataframe thead th {\n",
       "        text-align: right;\n",
       "    }\n",
       "</style>\n",
       "<table border=\"1\" class=\"dataframe\">\n",
       "  <thead>\n",
       "    <tr style=\"text-align: right;\">\n",
       "      <th></th>\n",
       "      <th>del kontinenta</th>\n",
       "      <th>višina moških</th>\n",
       "      <th>teža moških</th>\n",
       "      <th>ITM moških</th>\n",
       "      <th>višina žensk</th>\n",
       "      <th>teža žensk</th>\n",
       "      <th>ITM žensk</th>\n",
       "    </tr>\n",
       "  </thead>\n",
       "  <tbody>\n",
       "    <tr>\n",
       "      <th>1</th>\n",
       "      <td>Northern Africa</td>\n",
       "      <td>1.73</td>\n",
       "      <td>77.9</td>\n",
       "      <td>26.03</td>\n",
       "      <td>1.61</td>\n",
       "      <td>73.7</td>\n",
       "      <td>28.43</td>\n",
       "    </tr>\n",
       "    <tr>\n",
       "      <th>2</th>\n",
       "      <td>Eastern Africa</td>\n",
       "      <td>1.67</td>\n",
       "      <td>60.1</td>\n",
       "      <td>21.55</td>\n",
       "      <td>1.57</td>\n",
       "      <td>56.2</td>\n",
       "      <td>22.80</td>\n",
       "    </tr>\n",
       "    <tr>\n",
       "      <th>3</th>\n",
       "      <td>Western Africa</td>\n",
       "      <td>1.70</td>\n",
       "      <td>64.9</td>\n",
       "      <td>22.46</td>\n",
       "      <td>1.59</td>\n",
       "      <td>60.1</td>\n",
       "      <td>23.77</td>\n",
       "    </tr>\n",
       "    <tr>\n",
       "      <th>4</th>\n",
       "      <td>Southern Africa</td>\n",
       "      <td>1.69</td>\n",
       "      <td>71.2</td>\n",
       "      <td>24.93</td>\n",
       "      <td>1.59</td>\n",
       "      <td>73.2</td>\n",
       "      <td>28.95</td>\n",
       "    </tr>\n",
       "    <tr>\n",
       "      <th>5</th>\n",
       "      <td>Central Africa</td>\n",
       "      <td>1.69</td>\n",
       "      <td>62.6</td>\n",
       "      <td>21.92</td>\n",
       "      <td>1.58</td>\n",
       "      <td>58.0</td>\n",
       "      <td>23.23</td>\n",
       "    </tr>\n",
       "    <tr>\n",
       "      <th>...</th>\n",
       "      <td>...</td>\n",
       "      <td>...</td>\n",
       "      <td>...</td>\n",
       "      <td>...</td>\n",
       "      <td>...</td>\n",
       "      <td>...</td>\n",
       "      <td>...</td>\n",
       "    </tr>\n",
       "    <tr>\n",
       "      <th>18</th>\n",
       "      <td>Northern Europe</td>\n",
       "      <td>1.79</td>\n",
       "      <td>87.1</td>\n",
       "      <td>27.18</td>\n",
       "      <td>1.65</td>\n",
       "      <td>72.3</td>\n",
       "      <td>26.56</td>\n",
       "    </tr>\n",
       "    <tr>\n",
       "      <th>19</th>\n",
       "      <td>Eastern Europe</td>\n",
       "      <td>1.78</td>\n",
       "      <td>83.8</td>\n",
       "      <td>26.45</td>\n",
       "      <td>1.65</td>\n",
       "      <td>72.2</td>\n",
       "      <td>26.52</td>\n",
       "    </tr>\n",
       "    <tr>\n",
       "      <th>20</th>\n",
       "      <td>Polynesia</td>\n",
       "      <td>1.76</td>\n",
       "      <td>93.8</td>\n",
       "      <td>30.28</td>\n",
       "      <td>1.65</td>\n",
       "      <td>87.3</td>\n",
       "      <td>32.07</td>\n",
       "    </tr>\n",
       "    <tr>\n",
       "      <th>21</th>\n",
       "      <td>Melanesia</td>\n",
       "      <td>1.64</td>\n",
       "      <td>68.1</td>\n",
       "      <td>25.32</td>\n",
       "      <td>1.57</td>\n",
       "      <td>64.6</td>\n",
       "      <td>26.21</td>\n",
       "    </tr>\n",
       "    <tr>\n",
       "      <th>22</th>\n",
       "      <td>Micronesia</td>\n",
       "      <td>1.69</td>\n",
       "      <td>82.7</td>\n",
       "      <td>28.96</td>\n",
       "      <td>1.59</td>\n",
       "      <td>78.9</td>\n",
       "      <td>31.21</td>\n",
       "    </tr>\n",
       "  </tbody>\n",
       "</table>\n",
       "<p>22 rows × 7 columns</p>\n",
       "</div>"
      ],
      "text/plain": [
       "     del kontinenta  višina moških  teža moških  ITM moških  višina žensk  \\\n",
       "1   Northern Africa           1.73         77.9       26.03          1.61   \n",
       "2    Eastern Africa           1.67         60.1       21.55          1.57   \n",
       "3    Western Africa           1.70         64.9       22.46          1.59   \n",
       "4   Southern Africa           1.69         71.2       24.93          1.59   \n",
       "5    Central Africa           1.69         62.6       21.92          1.58   \n",
       "..              ...            ...          ...         ...           ...   \n",
       "18  Northern Europe           1.79         87.1       27.18          1.65   \n",
       "19   Eastern Europe           1.78         83.8       26.45          1.65   \n",
       "20        Polynesia           1.76         93.8       30.28          1.65   \n",
       "21        Melanesia           1.64         68.1       25.32          1.57   \n",
       "22       Micronesia           1.69         82.7       28.96          1.59   \n",
       "\n",
       "    teža žensk  ITM žensk  \n",
       "1         73.7      28.43  \n",
       "2         56.2      22.80  \n",
       "3         60.1      23.77  \n",
       "4         73.2      28.95  \n",
       "5         58.0      23.23  \n",
       "..         ...        ...  \n",
       "18        72.3      26.56  \n",
       "19        72.2      26.52  \n",
       "20        87.3      32.07  \n",
       "21        64.6      26.21  \n",
       "22        78.9      31.21  \n",
       "\n",
       "[22 rows x 7 columns]"
      ]
     },
     "execution_count": 113,
     "metadata": {},
     "output_type": "execute_result"
    }
   ],
   "source": [
    "urejena_tabela_continents"
   ]
  },
  {
   "cell_type": "markdown",
   "metadata": {},
   "source": [
    "Nadaljnje tabele prikazujejo dele kontinentov urejene po ITM vrednosti. Vidimo lahko, da so izmed vseh držav moški z najvišjo ITM vrednostjo v Polineziji in enako velja za ženske (enaka situacija je bila pri analizi teže). Moški z najnižjo ITM vrednostjo so v vzhodni Afriki, ženske pa v južni Aziji (enaka situacija je bila pri analizi teže).     "
   ]
  },
  {
   "cell_type": "code",
   "execution_count": 114,
   "metadata": {},
   "outputs": [
    {
     "name": "stdout",
     "output_type": "stream",
     "text": [
      "           del kontinenta  višina moških  teža moških  ITM moških  \\\n",
      "20              Polynesia           1.76         93.8       30.28   \n",
      "22             Micronesia           1.69         82.7       28.96   \n",
      "7           North America           1.77         90.2       28.79   \n",
      "15  Australia/New Zealand           1.78         88.4       27.90   \n",
      "9         Central America           1.69         77.8       27.24   \n",
      "\n",
      "    višina žensk  teža žensk  ITM žensk  \n",
      "20          1.65        87.3      32.07  \n",
      "22          1.59        78.9      31.21  \n",
      "7           1.63        76.6      28.83  \n",
      "15          1.65        73.1      26.85  \n",
      "9           1.57        69.4      28.16  \n"
     ]
    },
    {
     "data": {
      "text/plain": [
       "20    30.28\n",
       "22    28.96\n",
       "7     28.79\n",
       "15    27.90\n",
       "9     27.24\n",
       "      ...  \n",
       "14    22.52\n",
       "3     22.46\n",
       "12    22.10\n",
       "5     21.92\n",
       "2     21.55\n",
       "Name: ITM moških, Length: 22, dtype: float64"
      ]
     },
     "execution_count": 114,
     "metadata": {},
     "output_type": "execute_result"
    }
   ],
   "source": [
    "urejena_tabela_continents.sort_values(by=\"ITM moških\", ascending = False, inplace = True)\n",
    "print(urejena_tabela_continents.head(5))\n",
    "urejena_tabela_continents[\"ITM moških\"]"
   ]
  },
  {
   "cell_type": "code",
   "execution_count": 115,
   "metadata": {},
   "outputs": [
    {
     "name": "stdout",
     "output_type": "stream",
     "text": [
      "     del kontinenta  višina moških  teža moških  ITM moških  višina žensk  \\\n",
      "20        Polynesia           1.76         93.8       30.28          1.65   \n",
      "22       Micronesia           1.69         82.7       28.96          1.59   \n",
      "4   Southern Africa           1.69         71.2       24.93          1.59   \n",
      "7     North America           1.77         90.2       28.79          1.63   \n",
      "10     Western Asia           1.72         80.6       27.24          1.59   \n",
      "\n",
      "    teža žensk  ITM žensk  \n",
      "20        87.3      32.07  \n",
      "22        78.9      31.21  \n",
      "4         73.2      28.95  \n",
      "7         76.6      28.83  \n",
      "10        72.2      28.56  \n"
     ]
    },
    {
     "data": {
      "text/plain": [
       "20    32.07\n",
       "22    31.21\n",
       "4     28.95\n",
       "7     28.83\n",
       "10    28.56\n",
       "      ...  \n",
       "14    23.60\n",
       "11    23.47\n",
       "5     23.23\n",
       "2     22.80\n",
       "12    22.48\n",
       "Name: ITM žensk, Length: 22, dtype: float64"
      ]
     },
     "execution_count": 115,
     "metadata": {},
     "output_type": "execute_result"
    }
   ],
   "source": [
    "urejena_tabela_continents.sort_values(by=\"ITM žensk\", ascending = False, inplace = True)\n",
    "print(urejena_tabela_continents.head(5))\n",
    "urejena_tabela_continents[\"ITM žensk\"]"
   ]
  },
  {
   "cell_type": "code",
   "execution_count": 116,
   "metadata": {},
   "outputs": [
    {
     "name": "stdout",
     "output_type": "stream",
     "text": [
      "    del kontinenta  višina moških  teža moških  ITM moških  višina žensk  \\\n",
      "2   Eastern Africa           1.67         60.1       21.55          1.57   \n",
      "5   Central Africa           1.69         62.6       21.92          1.58   \n",
      "12      South Asia           1.66         60.9       22.10          1.55   \n",
      "3   Western Africa           1.70         64.9       22.46          1.59   \n",
      "14  Southeast Asia           1.67         62.8       22.52          1.55   \n",
      "\n",
      "    teža žensk  ITM žensk  \n",
      "2         56.2      22.80  \n",
      "5         58.0      23.23  \n",
      "12        54.0      22.48  \n",
      "3         60.1      23.77  \n",
      "14        56.7      23.60  \n"
     ]
    },
    {
     "data": {
      "text/plain": [
       "2     21.55\n",
       "5     21.92\n",
       "12    22.10\n",
       "3     22.46\n",
       "14    22.52\n",
       "      ...  \n",
       "10    27.24\n",
       "15    27.90\n",
       "7     28.79\n",
       "22    28.96\n",
       "20    30.28\n",
       "Name: ITM moških, Length: 22, dtype: float64"
      ]
     },
     "execution_count": 116,
     "metadata": {},
     "output_type": "execute_result"
    }
   ],
   "source": [
    "urejena_tabela_continents.sort_values(by=\"ITM moških\", ascending = True, inplace = True)\n",
    "print(urejena_tabela_continents.head(5))\n",
    "urejena_tabela_continents[\"ITM moških\"]"
   ]
  },
  {
   "cell_type": "code",
   "execution_count": 117,
   "metadata": {},
   "outputs": [
    {
     "name": "stdout",
     "output_type": "stream",
     "text": [
      "    del kontinenta  višina moških  teža moških  ITM moških  višina žensk  \\\n",
      "12      South Asia           1.66         60.9       22.10          1.55   \n",
      "2   Eastern Africa           1.67         60.1       21.55          1.57   \n",
      "5   Central Africa           1.69         62.6       21.92          1.58   \n",
      "11       East Asia           1.74         73.3       24.21          1.62   \n",
      "14  Southeast Asia           1.67         62.8       22.52          1.55   \n",
      "\n",
      "    teža žensk  ITM žensk  \n",
      "12        54.0      22.48  \n",
      "2         56.2      22.80  \n",
      "5         58.0      23.23  \n",
      "11        61.6      23.47  \n",
      "14        56.7      23.60  \n"
     ]
    },
    {
     "data": {
      "text/plain": [
       "12    22.48\n",
       "2     22.80\n",
       "5     23.23\n",
       "11    23.47\n",
       "14    23.60\n",
       "      ...  \n",
       "10    28.56\n",
       "7     28.83\n",
       "4     28.95\n",
       "22    31.21\n",
       "20    32.07\n",
       "Name: ITM žensk, Length: 22, dtype: float64"
      ]
     },
     "execution_count": 117,
     "metadata": {},
     "output_type": "execute_result"
    }
   ],
   "source": [
    "urejena_tabela_continents.sort_values(by=\"ITM žensk\", ascending = True, inplace = True)\n",
    "print(urejena_tabela_continents.head(5))\n",
    "urejena_tabela_continents[\"ITM žensk\"]"
   ]
  },
  {
   "cell_type": "markdown",
   "metadata": {},
   "source": [
    "## 2. Grafi in razni izračuni"
   ]
  },
  {
   "cell_type": "markdown",
   "metadata": {},
   "source": [
    "### 2.1. Države"
   ]
  },
  {
   "cell_type": "markdown",
   "metadata": {},
   "source": [
    "#### 2.1.1. Primerjava prvih in zadnjih 10 držav"
   ]
  },
  {
   "cell_type": "code",
   "execution_count": 118,
   "metadata": {},
   "outputs": [
    {
     "data": {
      "image/png": "[encoded data removed]",
      "text/plain": [
       "<Figure size 864x432 with 1 Axes>"
      ]
     },
     "metadata": {
      "needs_background": "light"
     },
     "output_type": "display_data"
    }
   ],
   "source": [
    "top_10_male_ITMs = countries.groupby('ime države')['ITM moških'].mean().nlargest(10)\n",
    "female_ITMs = countries.groupby('ime države')['ITM žensk'].mean()\n",
    "\n",
    "female_ITMs_sorted = female_ITMs[top_10_male_ITMs.index] # priredimo desetim največjim moškim ITM ustrezne ženske ITM vrednosti\n",
    "\n",
    "plt.figure(figsize=(12, 6))\n",
    "\n",
    "plt.bar(top_10_male_ITMs.index, top_10_male_ITMs, width=0.4, label='ITM moških')\n",
    "plt.bar(top_10_male_ITMs.index, female_ITMs_sorted, width=0.4, align='edge', label='ITM žensk')\n",
    "\n",
    "plt.xlabel('Ime države')\n",
    "plt.ylabel('ITM')\n",
    "plt.title('Prvih 10 ITM vrednosti moških in žensk po državah')\n",
    "plt.xticks(rotation=45)\n",
    "plt.legend()\n",
    "plt.tight_layout()\n",
    "plt.show()\n"
   ]
  },
  {
   "cell_type": "code",
   "execution_count": 119,
   "metadata": {},
   "outputs": [
    {
     "data": {
      "image/png": "[encoded data removed]",
      "text/plain": [
       "<Figure size 864x432 with 1 Axes>"
      ]
     },
     "metadata": {
      "needs_background": "light"
     },
     "output_type": "display_data"
    }
   ],
   "source": [
    "bottom_10_male_ITMs = countries.groupby('ime države')['ITM moških'].mean().nsmallest(10)\n",
    "female_ITMs = countries.groupby('ime države')['ITM žensk'].mean()\n",
    "\n",
    "female_ITMs_sorted = female_ITMs[bottom_10_male_ITMs.index]\n",
    "\n",
    "plt.figure(figsize=(12, 6))\n",
    "\n",
    "plt.bar(bottom_10_male_ITMs.index, bottom_10_male_ITMs, width=0.4, label='ITM moških')\n",
    "plt.bar(bottom_10_male_ITMs.index, female_ITMs_sorted, width=0.4, align='edge', label='ITM žensk')\n",
    "\n",
    "plt.xlabel('Ime države')\n",
    "plt.ylabel('ITM')\n",
    "plt.title('Zadnjih 10 ITM vrednosti moških in žensk po državah')\n",
    "plt.xticks(rotation=45)\n",
    "plt.legend()\n",
    "plt.tight_layout()\n",
    "plt.show()\n"
   ]
  },
  {
   "cell_type": "markdown",
   "metadata": {},
   "source": [
    "#### 2.1.2. Razlike ITM vrednosti med spoloma"
   ]
  },
  {
   "cell_type": "markdown",
   "metadata": {},
   "source": [
    "V sklopu primerjav ITM vrednosti je v povprečju ITM vrednost pri ženskah višja.\n",
    "\n",
    "Naslednji računi prikazujejo, kje je ITM vrednost moških vendarle višja od ITM vrednosti žensk, kolikšna je povprečna ITM vrednost moškega in ženske glede na obravnavane države, za koliko se ti dve vrednosti razlikujeta in za kolikšen delež je ITM vrednost pri ženskah višja kot pri moških ter kje se pojavi največja razlika med spoloma in kolikšna je. \n",
    "\n",
    "Opazimo, da je povprečna ITM vrednost moških 26.05, žensk 26.42, da je ITM vrednost pri ženskah za 0.37 višja kot pri moških in da so ženske ITM vrednosti po državah povprečno 1.4 % višje od moških.\n",
    "\n",
    "Največja razlika med ITM vrednostjo moških in žensk je se je izkazala v Vzhodni Afriki in znaša 4.4. V državah, kjer je ITM vrednost moških višja od ženskih, je največja razlika v Švici z vrednostjo 0.30.\n",
    "\n"
   ]
  },
  {
   "cell_type": "code",
   "execution_count": 120,
   "metadata": {},
   "outputs": [
    {
     "name": "stdout",
     "output_type": "stream",
     "text": [
      "         ime države  ITM moških  ITM žensk\n",
      "109        Ethiopia        20.1       21.0\n",
      "90          Eritrea        20.3       21.1\n",
      "120      Madagascar        21.5       21.1\n",
      "127      East Timor        21.2       21.2\n",
      "113         Burundi        21.8       21.5\n",
      "..              ...         ...        ...\n",
      "42             Niue        31.5       33.4\n",
      "47          Tokelau        32.0       33.7\n",
      "57            Tonga        30.7       33.9\n",
      "69            Samoa        30.5       34.1\n",
      "44   American Samoa        33.1       35.2\n",
      "\n",
      "[127 rows x 3 columns]\n"
     ]
    }
   ],
   "source": [
    "columns_to_keep = ['ime države', 'ITM moških', 'ITM žensk']\n",
    "\n",
    "columns_to_drop = [col for col in countries.columns if col not in columns_to_keep] #odstranimo stolpce, ki jih ne želimo\n",
    "\n",
    "countries.drop(columns=columns_to_drop, inplace=True)\n",
    "\n",
    "print(countries)\n"
   ]
  },
  {
   "cell_type": "code",
   "execution_count": 121,
   "metadata": {},
   "outputs": [
    {
     "name": "stdout",
     "output_type": "stream",
     "text": [
      "Povprečna ITM vrednost moškega glede na vse države je 26.05.\n",
      "Povprečna ITM vrednost ženske glede na vse države je 26.42.\n"
     ]
    }
   ],
   "source": [
    "average_world_male_ITM = round(np.mean(countries[\"ITM moških\"]), 2)\n",
    "average_world_female_ITM = round(np.mean(countries[\"ITM žensk\"]), 2)\n",
    "\n",
    "print(\"Povprečna ITM vrednost moškega glede na vse države je \", average_world_male_ITM, \".\", sep=\"\") #sep - da ni presledka pred piko\n",
    "print(\"Povprečna ITM vrednost ženske glede na vse države je \", average_world_female_ITM, \".\", sep=\"\") \n",
    "\n"
   ]
  },
  {
   "cell_type": "code",
   "execution_count": 122,
   "metadata": {},
   "outputs": [
    {
     "data": {
      "image/png": "[encoded data removed]",
      "text/plain": [
       "<Figure size 432x432 with 1 Axes>"
      ]
     },
     "metadata": {
      "needs_background": "light"
     },
     "output_type": "display_data"
    }
   ],
   "source": [
    "average_ITM = countries[[\"ITM moških\", \"ITM žensk\"]].mean()\n",
    "\n",
    "plt.figure(figsize=(6, 6))\n",
    "average_ITM.plot(kind=\"bar\")\n",
    "plt.xlabel(\"Spol\")\n",
    "plt.ylabel(\"Povprečna ITM vrednost\")\n",
    "plt.title(\"Povprečna ITM vrednost glede na spol\")\n",
    "plt.xticks(rotation=0)\n",
    "plt.tight_layout()\n",
    "plt.show()"
   ]
  },
  {
   "cell_type": "markdown",
   "metadata": {},
   "source": [
    "Kolikšne so največje razlike med ITM vrednostmi in v katerih državah so?"
   ]
  },
  {
   "cell_type": "code",
   "execution_count": 123,
   "metadata": {},
   "outputs": [
    {
     "name": "stdout",
     "output_type": "stream",
     "text": [
      "Tabela držav z največjimi razlikami ITM vrednosti:\n",
      "        ime države  ITM razlika\n",
      "102   South Africa          4.4\n",
      "20        Dominica          4.1\n",
      "39         Grenada          3.7\n",
      "69           Samoa          3.6\n",
      "77           Egypt          3.6\n",
      "..             ...          ...\n",
      "115         Brunei          0.1\n",
      "105        Vietnam          0.0\n",
      "127     East Timor          0.0\n",
      "43   United States          0.0\n",
      "8         Slovenia          0.0\n",
      "\n",
      "[127 rows x 2 columns]\n"
     ]
    }
   ],
   "source": [
    "countries[\"ITM razlika\"] = abs(countries[\"ITM moških\"] - countries[\"ITM žensk\"])\n",
    "countries_ordered_by_ITM_difference = countries.sort_values(by=\"ITM razlika\", ascending=False)\n",
    "\n",
    "countries_and_ITM_differences = countries_ordered_by_ITM_difference[[\"ime države\", \"ITM razlika\"]]\n",
    "\n",
    "print(\"Tabela držav z največjimi razlikami ITM vrednosti:\")\n",
    "print(countries_and_ITM_differences)\n"
   ]
  },
  {
   "cell_type": "code",
   "execution_count": 124,
   "metadata": {},
   "outputs": [
    {
     "data": {
      "image/png": "[encoded data removed]",
      "text/plain": [
       "<Figure size 864x432 with 1 Axes>"
      ]
     },
     "metadata": {
      "needs_background": "light"
     },
     "output_type": "display_data"
    }
   ],
   "source": [
    "plt.figure(figsize=(12, 6))\n",
    "\n",
    "plt.bar(countries_ordered_by_ITM_difference[\"ime države\"].head(10), countries_ordered_by_ITM_difference[\"ITM moških\"].head(10), width=0.4, label='ITM moških')\n",
    "plt.bar(countries_ordered_by_ITM_difference[\"ime države\"].head(10), countries_ordered_by_ITM_difference[\"ITM žensk\"].head(10), width=0.4, align='edge', label='ITM žensk')\n",
    "\n",
    "plt.xlabel('Ime države')\n",
    "plt.ylabel('ITM vrednost')\n",
    "plt.title('Top 10 držav z najvišjo razliko v ITM vrednostih med moškimi in ženskami')\n",
    "plt.xticks(rotation=45)\n",
    "plt.legend()\n",
    "plt.tight_layout()\n",
    "plt.show()\n"
   ]
  },
  {
   "cell_type": "code",
   "execution_count": 125,
   "metadata": {},
   "outputs": [
    {
     "data": {
      "image/png": "[encoded data removed]",
      "text/plain": [
       "<Figure size 720x432 with 1 Axes>"
      ]
     },
     "metadata": {
      "needs_background": "light"
     },
     "output_type": "display_data"
    }
   ],
   "source": [
    "plt.figure(figsize=(10, 6))\n",
    "plt.bar(countries_ordered_by_ITM_difference[\"ime države\"].head(10), countries_ordered_by_ITM_difference[\"ITM razlika\"].head(10))\n",
    "plt.xlabel(\"Država\")\n",
    "plt.ylabel(\"Razlika v ITM vrednostih\")\n",
    "plt.title(\"Top 10 držav z najvišjo razliko v ITM vrednostih med moškimi in ženskami\")\n",
    "plt.xticks(rotation=45, ha=\"right\")\n",
    "plt.tight_layout()\n",
    "plt.show()\n",
    "\n"
   ]
  },
  {
   "cell_type": "code",
   "execution_count": 126,
   "metadata": {},
   "outputs": [
    {
     "name": "stdout",
     "output_type": "stream",
     "text": [
      "Največja razlika med ITM vrednostjo moških in žensk je 4.4.\n",
      "Ta razlika je prisotna na območju: South Africa\n"
     ]
    }
   ],
   "source": [
    "max_itm_difference = round(np.max(np.abs(countries[\"ITM moških\"] - countries[\"ITM žensk\"])), 2)\n",
    "\n",
    "#poiščemo vrstico\n",
    "max_itm_row = countries.loc[np.abs(countries[\"ITM moških\"] - countries[\"ITM žensk\"]).idxmax()]\n",
    "\n",
    "# poiščemo državo\n",
    "country_with_max_itm_difference = max_itm_row[\"ime države\"]\n",
    "\n",
    "print(\"Največja razlika med ITM vrednostjo moških in žensk je \", max_itm_difference, \".\",sep=\"\")\n",
    "print(\"Ta razlika je prisotna na območju:\", country_with_max_itm_difference)"
   ]
  },
  {
   "cell_type": "markdown",
   "metadata": {},
   "source": [
    "Koliko so ITM vrednosti žensk večje od moških?"
   ]
  },
  {
   "cell_type": "code",
   "execution_count": 127,
   "metadata": {},
   "outputs": [
    {
     "name": "stdout",
     "output_type": "stream",
     "text": [
      "Razlika med ITM vrednostmi moških in žensk je 0.37.\n"
     ]
    }
   ],
   "source": [
    "rounded_ITM_difference = round(average_world_female_ITM - average_world_male_ITM, 2)\n",
    "\n",
    "print(\"Razlika med ITM vrednostmi moških in žensk je \", rounded_ITM_difference, \".\", sep=\"\")\n"
   ]
  },
  {
   "cell_type": "code",
   "execution_count": 128,
   "metadata": {},
   "outputs": [
    {
     "name": "stdout",
     "output_type": "stream",
     "text": [
      "Ženske ITM vrednosti so po državah povprečno 1.4 % višje od moških vrednosti.\n"
     ]
    }
   ],
   "source": [
    "percentage_female_taller = (rounded_ITM_difference / average_world_female_ITM) * 100\n",
    "\n",
    "print(\"Ženske ITM vrednosti so po državah povprečno\", round(percentage_female_taller, 2), \"% višje od moških vrednosti.\")\n"
   ]
  },
  {
   "cell_type": "markdown",
   "metadata": {},
   "source": [
    "Povprečno imajo ženske višjo vrednost. V katerih državah je obratno?"
   ]
  },
  {
   "cell_type": "code",
   "execution_count": 129,
   "metadata": {},
   "outputs": [
    {
     "name": "stdout",
     "output_type": "stream",
     "text": [
      "Število držav, kjer je ITM vrednost pri moških višja kot pri ženskah: 53\n",
      "Seznam držav: Madagascar, Burundi, Japan, Chad, Nepal, South Korea, Singapore, China, Taiwan, Hong Kong, Switzerland, North Korea, Haiti, France, Denmark, Austria, Italy, Spain, Bosnia and Herzegovina, Netherlands, Sweden, Portugal, Iceland, Slovakia, Finland, Serbia, Belgium, Luxembourg, Bulgaria, Germany, Estonia, Lithuania, Poland, Norway, Montenegro, Andorra, Latvia, Ukraine, Czechia, Albania, Hungary, Canada, Australia, Romania, Croatia, Greece, Israel, United Kingdom, Ireland, Lebanon, Argentina, New Zealand, French Polynesia\n"
     ]
    }
   ],
   "source": [
    "countries_with_higher_male_ITM = countries[countries[\"ITM moških\"] > countries[\"ITM žensk\"]]\n",
    "\n",
    "num_countries = len(countries_with_higher_male_ITM)\n",
    "country_list = ', '.join(countries_with_higher_male_ITM[\"ime države\"]) #da ne bo output v [ ]\n",
    "\n",
    "print(\"Število držav, kjer je ITM vrednost pri moških višja kot pri ženskah:\", num_countries)\n",
    "print(\"Seznam držav:\", country_list)\n"
   ]
  },
  {
   "cell_type": "markdown",
   "metadata": {},
   "source": [
    "Kolikšne so največje razlike med ITM vrednostmi, kjer so moške vrednosti višje od ženskih, in v katerih državah so?"
   ]
  },
  {
   "cell_type": "code",
   "execution_count": 130,
   "metadata": {},
   "outputs": [
    {
     "data": {
      "image/png": "[encoded data removed]",
      "text/plain": [
       "<Figure size 864x432 with 1 Axes>"
      ]
     },
     "metadata": {
      "needs_background": "light"
     },
     "output_type": "display_data"
    }
   ],
   "source": [
    "# najprej izračunamo razliko\n",
    "countries[\"ITM razlika\"] = countries[\"ITM moških\"] - countries[\"ITM žensk\"]\n",
    "\n",
    "# 10 največjih razlik\n",
    "countries_with_higher_ITM_difference = countries[countries[\"ITM razlika\"] > 0].nlargest(10, \"ITM razlika\")\n",
    "\n",
    "\n",
    "plt.figure(figsize=(12, 6))\n",
    "\n",
    "plt.bar(countries_with_higher_ITM_difference[\"ime države\"], countries_with_higher_ITM_difference[\"ITM moških\"], width=0.4, label='ITM moških')\n",
    "plt.bar(countries_with_higher_ITM_difference[\"ime države\"], countries_with_higher_ITM_difference[\"ITM žensk\"], width=0.4, align='edge', label='ITM žensk')\n",
    "\n",
    "plt.xlabel('Ime države')\n",
    "plt.ylabel('ITM vrednost')\n",
    "plt.title('Države z najvišjo razliko v ITM vrednostih med moškimi in ženskami')\n",
    "plt.xticks(rotation=45)\n",
    "plt.legend()\n",
    "plt.tight_layout()\n",
    "plt.show()\n"
   ]
  },
  {
   "cell_type": "code",
   "execution_count": 131,
   "metadata": {},
   "outputs": [
    {
     "data": {
      "image/png": "[encoded data removed]",
      "text/plain": [
       "<Figure size 720x432 with 1 Axes>"
      ]
     },
     "metadata": {
      "needs_background": "light"
     },
     "output_type": "display_data"
    }
   ],
   "source": [
    "plt.figure(figsize=(10, 6))\n",
    "plt.bar(countries_with_higher_ITM_difference[\"ime države\"], countries_with_higher_ITM_difference[\"ITM razlika\"])\n",
    "plt.xlabel(\"Država\")\n",
    "plt.ylabel(\"Razlika v ITM vrednostih\")\n",
    "plt.title(\"Države z najvišjo razliko v ITM vrednostih med moškimi in ženskami, kjer je vrednost moških višja od žensk\")\n",
    "plt.xticks(rotation=45, ha=\"right\")\n",
    "plt.tight_layout()\n",
    "plt.show()\n"
   ]
  },
  {
   "cell_type": "markdown",
   "metadata": {},
   "source": [
    "Kje je največja razlika med moškimi in ženskami in kolikšna je?"
   ]
  },
  {
   "cell_type": "code",
   "execution_count": 132,
   "metadata": {},
   "outputs": [
    {
     "name": "stdout",
     "output_type": "stream",
     "text": [
      "Največja razlika med ITM moških in žensk je 3.0.\n",
      "Ta razlika je prisotna v državi: Switzerland\n"
     ]
    }
   ],
   "source": [
    "max_ITM_difference = round(np.max(countries_with_higher_male_ITM['ITM moških'] - countries_with_higher_male_ITM['ITM žensk']), 2)\n",
    "\n",
    "max_ITM_row = countries_with_higher_male_ITM.loc[(countries_with_higher_male_ITM['ITM moških'] - countries_with_higher_male_ITM['ITM žensk']).idxmax()]\n",
    "\n",
    "country_with_max_ITM_difference = max_ITM_row['ime države']\n",
    "\n",
    "print('Največja razlika med ITM moških in žensk je ', max_ITM_difference, '.', sep=\"\")\n",
    "print('Ta razlika je prisotna v državi:', country_with_max_ITM_difference)\n"
   ]
  },
  {
   "cell_type": "markdown",
   "metadata": {},
   "source": [
    "### 2.2. Kontinenti"
   ]
  },
  {
   "cell_type": "markdown",
   "metadata": {},
   "source": [
    "#### 2.2.1. Primerjava prvih in zadnjih 10 delov kontinentov"
   ]
  },
  {
   "cell_type": "code",
   "execution_count": 133,
   "metadata": {},
   "outputs": [
    {
     "data": {
      "image/png": "[encoded data removed]",
      "text/plain": [
       "<Figure size 864x432 with 1 Axes>"
      ]
     },
     "metadata": {
      "needs_background": "light"
     },
     "output_type": "display_data"
    }
   ],
   "source": [
    "top_10_male_ITMs_continents = urejena_tabela_continents.groupby('del kontinenta')['ITM moških'].mean().nlargest(10)\n",
    "female_ITMs_continents = urejena_tabela_continents.groupby('del kontinenta')['ITM žensk'].mean()\n",
    "\n",
    "female_ITMs_sorted_continents = female_ITMs_continents[top_10_male_ITMs_continents.index] # priredimo desetim največjim moškim ITM vrednostim ustrezne ženske ITM vrednosti\n",
    "\n",
    "plt.figure(figsize=(12, 6))\n",
    "\n",
    "plt.bar(top_10_male_ITMs_continents.index, top_10_male_ITMs_continents, width=0.4, label='ITM moških')\n",
    "plt.bar(top_10_male_ITMs_continents.index, female_ITMs_sorted_continents, width=0.4, align='edge', label='ITM žensk')\n",
    "\n",
    "plt.xlabel('Del kontinenta')\n",
    "plt.ylabel('ITM')\n",
    "plt.title('Prvih 10 ITM vrednosti moških in žensk po kontinentih')\n",
    "plt.xticks(rotation=45)\n",
    "plt.legend()\n",
    "plt.tight_layout()\n",
    "plt.show()"
   ]
  },
  {
   "cell_type": "code",
   "execution_count": 134,
   "metadata": {},
   "outputs": [
    {
     "data": {
      "image/png": "[encoded data removed]",
      "text/plain": [
       "<Figure size 864x432 with 1 Axes>"
      ]
     },
     "metadata": {
      "needs_background": "light"
     },
     "output_type": "display_data"
    }
   ],
   "source": [
    "bottom_10_male_ITMs_continents = urejena_tabela_continents.groupby('del kontinenta')['ITM moških'].mean().nsmallest(10)\n",
    "female_ITMs_continents = urejena_tabela_continents.groupby('del kontinenta')['ITM žensk'].mean()\n",
    "\n",
    "female_ITMs_sorted_continents = female_ITMs[bottom_10_male_ITMs.index]\n",
    "\n",
    "plt.figure(figsize=(12, 6))\n",
    "\n",
    "plt.bar(bottom_10_male_ITMs_continents.index, bottom_10_male_ITMs_continents, width=0.4, label='ITM moških')\n",
    "plt.bar(bottom_10_male_ITMs_continents.index, female_ITMs_sorted_continents, width=0.4, align='edge', label='ITM žensk')\n",
    "\n",
    "plt.xlabel('Del kontinenta')\n",
    "plt.ylabel('ITM')\n",
    "plt.title('Zadnjih 10 ITM vrednosti moških in žensk po kontinentih')\n",
    "plt.xticks(rotation=45)\n",
    "plt.legend()\n",
    "plt.tight_layout()\n",
    "plt.show()\n"
   ]
  },
  {
   "cell_type": "markdown",
   "metadata": {},
   "source": [
    "#### 2.2.2. Razlike ITM vrednosti med spoloma"
   ]
  },
  {
   "cell_type": "markdown",
   "metadata": {},
   "source": [
    "Analogno kot pri državah sem ugotovila, da je v povprečju ITM vrednost pri ženskah višja in naredila račune, kje je ITM vrednost moških vendarle višja od ITM vrednosti žensk, kolikšna je povprečna ITM vrednost moškega in ženske glede na obravnavane države, za koliko se ti dve vrednosti razlikujeta in za kolikšen delež je ITM vrednost pri ženskah višja kot pri moških ter kje se pojavi največja razlika med spoloma in kolikšna je. \n",
    "\n",
    "Opazimo, da je povprečna ITM vrednost moških 25.79, žensk 26.48, da je ITM vrednost pri ženskah za 0.69 višja kot pri moških in da so ženske ITM vrednosti po državah povprečno 2.61 % višje od moških.\n",
    "\n",
    "Največja razlika med ITM vrednostjo moških in žensk je se je izkazala v Južni Afriki in znaša 4.02. V delih kontinentov, kjer je ITM vrednost moških višja od ženskih, je največja razlika v južni Evropi z vrednostjo 1.68."
   ]
  },
  {
   "cell_type": "code",
   "execution_count": 135,
   "metadata": {},
   "outputs": [
    {
     "name": "stdout",
     "output_type": "stream",
     "text": [
      "     del kontinenta  ITM moških  ITM žensk\n",
      "1   Northern Africa       26.03      28.43\n",
      "2    Eastern Africa       21.55      22.80\n",
      "3    Western Africa       22.46      23.77\n",
      "4   Southern Africa       24.93      28.95\n",
      "5    Central Africa       21.92      23.23\n",
      "..              ...         ...        ...\n",
      "18  Northern Europe       27.18      26.56\n",
      "19   Eastern Europe       26.45      26.52\n",
      "20        Polynesia       30.28      32.07\n",
      "21        Melanesia       25.32      26.21\n",
      "22       Micronesia       28.96      31.21\n",
      "\n",
      "[22 rows x 3 columns]\n"
     ]
    }
   ],
   "source": [
    "columns_to_keep = ['del kontinenta', 'ITM moških', 'ITM žensk']\n",
    "\n",
    "columns_to_drop = [col for col in continents.columns if col not in columns_to_keep] #odstranimo stolpce, ki jih ne želimo\n",
    "\n",
    "continents.drop(columns=columns_to_drop, inplace=True)\n",
    "\n",
    "continents = continents.round(2)\n",
    "print(continents)\n"
   ]
  },
  {
   "cell_type": "code",
   "execution_count": 136,
   "metadata": {},
   "outputs": [
    {
     "name": "stdout",
     "output_type": "stream",
     "text": [
      "Povprečna ITM moškega glede na kontinente je 25.79.\n",
      "Povprečna ITM ženske glede na kontinente je 26.48.\n"
     ]
    }
   ],
   "source": [
    "average_world_male_ITM_c = round(np.mean(continents[\"ITM moških\"]), 2)\n",
    "average_world_female_ITM_c = round(np.mean(continents[\"ITM žensk\"]), 2)\n",
    "\n",
    "print(\"Povprečna ITM moškega glede na kontinente je \", average_world_male_ITM_c, \".\", sep=\"\")\n",
    "print(\"Povprečna ITM ženske glede na kontinente je \", average_world_female_ITM_c, \".\", sep=\"\")"
   ]
  },
  {
   "cell_type": "code",
   "execution_count": 137,
   "metadata": {},
   "outputs": [
    {
     "data": {
      "image/png": "[encoded data removed]",
      "text/plain": [
       "<Figure size 432x432 with 1 Axes>"
      ]
     },
     "metadata": {
      "needs_background": "light"
     },
     "output_type": "display_data"
    }
   ],
   "source": [
    "average_ITM = urejena_tabela_continents[[\"ITM moških\", \"ITM žensk\"]].mean()\n",
    "\n",
    "plt.figure(figsize=(6, 6))\n",
    "average_ITM.plot(kind=\"bar\")\n",
    "plt.xlabel(\"Spol\")\n",
    "plt.ylabel(\"Povprečna ITM vrednost\")\n",
    "plt.title(\"Povprečna ITM vrednost glede na spol\")\n",
    "plt.xticks(rotation=0)\n",
    "plt.tight_layout()\n",
    "plt.show()"
   ]
  },
  {
   "cell_type": "markdown",
   "metadata": {},
   "source": [
    "Kolikšne so največje razlike med ITM vrednostmi in v katerih delih kontinentov so?"
   ]
  },
  {
   "cell_type": "code",
   "execution_count": 138,
   "metadata": {},
   "outputs": [
    {
     "name": "stdout",
     "output_type": "stream",
     "text": [
      "Tabela delov kontinentov z največjimi razlikami ITM vrednosti:\n",
      "     del kontinenta  ITM razlika\n",
      "4   Southern Africa         4.02\n",
      "1   Northern Africa         2.40\n",
      "22       Micronesia         2.25\n",
      "20        Polynesia         1.79\n",
      "17  Southern Europe         1.68\n",
      "..              ...          ...\n",
      "6         Caribbean         0.55\n",
      "8     South America         0.50\n",
      "12       South Asia         0.38\n",
      "19   Eastern Europe         0.07\n",
      "7     North America         0.04\n",
      "\n",
      "[22 rows x 2 columns]\n"
     ]
    }
   ],
   "source": [
    "continents[\"ITM razlika\"] = abs(continents[\"ITM moških\"] - continents[\"ITM žensk\"])\n",
    "continents_ordered_by_ITM_difference = continents.sort_values(by=\"ITM razlika\", ascending=False)\n",
    "\n",
    "continents_and_ITM_differences = continents_ordered_by_ITM_difference[[\"del kontinenta\", \"ITM razlika\"]]\n",
    "\n",
    "print(\"Tabela delov kontinentov z največjimi razlikami ITM vrednosti:\")\n",
    "print(continents_and_ITM_differences)\n"
   ]
  },
  {
   "cell_type": "code",
   "execution_count": 139,
   "metadata": {},
   "outputs": [
    {
     "data": {
      "image/png": "[encoded data removed]",
      "text/plain": [
       "<Figure size 864x432 with 1 Axes>"
      ]
     },
     "metadata": {
      "needs_background": "light"
     },
     "output_type": "display_data"
    }
   ],
   "source": [
    "plt.figure(figsize=(12, 6))\n",
    "\n",
    "plt.bar(continents_ordered_by_ITM_difference[\"del kontinenta\"].head(10), continents_ordered_by_ITM_difference[\"ITM moških\"].head(10), width=0.4, label='ITM moških')\n",
    "plt.bar(continents_ordered_by_ITM_difference[\"del kontinenta\"].head(10), continents_ordered_by_ITM_difference[\"ITM žensk\"].head(10), width=0.4, align='edge', label='ITM žensk')\n",
    "\n",
    "plt.xlabel('Del kontinenta')\n",
    "plt.ylabel('ITM vrednost')\n",
    "plt.title('Top 10 kontinentov z najvišjo razliko v ITM vrednostih med moškimi in ženskami')\n",
    "plt.xticks(rotation=45)\n",
    "plt.legend()\n",
    "plt.tight_layout()\n",
    "plt.show()\n"
   ]
  },
  {
   "cell_type": "code",
   "execution_count": 140,
   "metadata": {},
   "outputs": [
    {
     "data": {
      "image/png": "[encoded data removed]",
      "text/plain": [
       "<Figure size 720x432 with 1 Axes>"
      ]
     },
     "metadata": {
      "needs_background": "light"
     },
     "output_type": "display_data"
    }
   ],
   "source": [
    "plt.figure(figsize=(10, 6))\n",
    "plt.bar(continents_ordered_by_ITM_difference[\"del kontinenta\"].head(10), continents_ordered_by_ITM_difference[\"ITM razlika\"].head(10))\n",
    "plt.xlabel(\"Del kontinenta\")\n",
    "plt.ylabel(\"Razlika v ITM vrednostih\")\n",
    "plt.title(\"Top 10 delov kontinentov z najvišjo razliko v ITM vrednostih med moškimi in ženskami\")\n",
    "plt.xticks(rotation=45, ha=\"right\")\n",
    "plt.tight_layout()\n",
    "plt.show()\n"
   ]
  },
  {
   "cell_type": "code",
   "execution_count": 141,
   "metadata": {},
   "outputs": [
    {
     "name": "stdout",
     "output_type": "stream",
     "text": [
      "Največja razlika med ITM vrednostjo moških in žensk je 4.02.\n",
      "Ta razlika je prisotna na območju: Southern Africa\n"
     ]
    }
   ],
   "source": [
    "max_itm_difference = round(np.max(np.abs(continents[\"ITM moških\"] - continents[\"ITM žensk\"])), 2)\n",
    "\n",
    "# Poiščemo vrstico\n",
    "max_itm_row = continents.loc[np.abs(continents[\"ITM moških\"] - continents[\"ITM žensk\"]).idxmax()]\n",
    "\n",
    "# Poiščemo kontinent\n",
    "continent_with_max_itm_difference = max_itm_row[\"del kontinenta\"]\n",
    "\n",
    "print(\"Največja razlika med ITM vrednostjo moških in žensk je \", max_itm_difference, \".\", sep=\"\")\n",
    "print(\"Ta razlika je prisotna na območju:\", continent_with_max_itm_difference)\n"
   ]
  },
  {
   "cell_type": "markdown",
   "metadata": {},
   "source": [
    "Koliko so ITM vrednosti žensk večje od moških?"
   ]
  },
  {
   "cell_type": "code",
   "execution_count": 142,
   "metadata": {},
   "outputs": [
    {
     "name": "stdout",
     "output_type": "stream",
     "text": [
      "Razlika med ITM vrednostmi moških in žensk je 0.69.\n"
     ]
    }
   ],
   "source": [
    "rounded_ITM_difference_c = round(average_world_female_ITM_c - average_world_male_ITM_c, 2)\n",
    "\n",
    "print(\"Razlika med ITM vrednostmi moških in žensk je \", rounded_ITM_difference_c, \".\", sep=\"\")\n"
   ]
  },
  {
   "cell_type": "code",
   "execution_count": 143,
   "metadata": {},
   "outputs": [
    {
     "name": "stdout",
     "output_type": "stream",
     "text": [
      "Ženske ITM vrednosti so po delih kontinentov povprečno 2.61 % višje od moških vrednosti.\n"
     ]
    }
   ],
   "source": [
    "percentage_female_taller_c = (rounded_ITM_difference_c / average_world_female_ITM_c) * 100\n",
    "\n",
    "print(\"Ženske ITM vrednosti so po delih kontinentov povprečno\", round(percentage_female_taller_c, 2), \"% višje od moških vrednosti.\")"
   ]
  },
  {
   "cell_type": "markdown",
   "metadata": {},
   "source": [
    "Povprečno imajo ženske višjo vrednost. V katerih delih kontinentov je obratno?"
   ]
  },
  {
   "cell_type": "code",
   "execution_count": 144,
   "metadata": {},
   "outputs": [
    {
     "name": "stdout",
     "output_type": "stream",
     "text": [
      "Število delov kontinentov, kjer je ITM vrednost pri moških višja kot pri ženskah: 5\n",
      "Seznam delov kontinentov: East Asia, Australia/New Zealand, Western Europe, Southern Europe, Northern Europe\n"
     ]
    }
   ],
   "source": [
    "continents_with_higher_male_ITM = continents[continents[\"ITM moških\"] > continents[\"ITM žensk\"]]\n",
    "\n",
    "num_continents = len(continents_with_higher_male_ITM)\n",
    "continent_list = ', '.join(continents_with_higher_male_ITM[\"del kontinenta\"])  # da ne bo output v [ ]\n",
    "\n",
    "print(\"Število delov kontinentov, kjer je ITM vrednost pri moških višja kot pri ženskah:\", num_continents)\n",
    "print(\"Seznam delov kontinentov:\", continent_list)\n"
   ]
  },
  {
   "cell_type": "markdown",
   "metadata": {},
   "source": [
    "Kolikšne so največje razlike med ITM vrednostmi, kjer so moške vrednosti višje od ženskih, in v katerih delih kontinentov so?"
   ]
  },
  {
   "cell_type": "code",
   "execution_count": 145,
   "metadata": {},
   "outputs": [
    {
     "data": {
      "image/png": "[encoded data removed]",
      "text/plain": [
       "<Figure size 864x432 with 1 Axes>"
      ]
     },
     "metadata": {
      "needs_background": "light"
     },
     "output_type": "display_data"
    }
   ],
   "source": [
    "# najprej izračunamo razliko\n",
    "continents[\"ITM razlika\"] = continents[\"ITM moških\"] - continents[\"ITM žensk\"]\n",
    "\n",
    "# 10 največjih razlik\n",
    "continents_with_higher_ITM_difference = continents[continents[\"ITM razlika\"] > 0].nlargest(10, \"ITM razlika\")\n",
    "\n",
    "plt.figure(figsize=(12, 6))\n",
    "\n",
    "plt.bar(continents_with_higher_ITM_difference[\"del kontinenta\"], continents_with_higher_ITM_difference[\"ITM moških\"], width=0.4, label='ITM moških')\n",
    "plt.bar(continents_with_higher_ITM_difference[\"del kontinenta\"], continents_with_higher_ITM_difference[\"ITM žensk\"], width=0.4, align='edge', label='ITM žensk')\n",
    "\n",
    "plt.xlabel('Del kontinenta')\n",
    "plt.ylabel('ITM vrednost')\n",
    "plt.title('Deli kontinentov z najvišjo razliko v ITM vrednostih med moškimi in ženskami')\n",
    "plt.xticks(rotation=45)\n",
    "plt.legend()\n",
    "plt.tight_layout()\n",
    "plt.show()\n"
   ]
  },
  {
   "cell_type": "code",
   "execution_count": 146,
   "metadata": {},
   "outputs": [
    {
     "data": {
      "image/png": "[encoded data removed]",
      "text/plain": [
       "<Figure size 720x432 with 1 Axes>"
      ]
     },
     "metadata": {
      "needs_background": "light"
     },
     "output_type": "display_data"
    }
   ],
   "source": [
    "plt.figure(figsize=(10, 6))\n",
    "plt.bar(continents_with_higher_ITM_difference[\"del kontinenta\"], continents_with_higher_ITM_difference[\"ITM razlika\"])\n",
    "plt.xlabel(\"Del kontinenta\")\n",
    "plt.ylabel(\"Razlika v ITM vrednostih\")\n",
    "plt.title(\"Deli kontinentov z najvišjo razliko v ITM vrednostih med moškimi in ženskami, kjer je vrednost moških višja od žensk\")\n",
    "plt.xticks(rotation=45, ha=\"right\")\n",
    "plt.tight_layout()\n",
    "plt.show()\n"
   ]
  },
  {
   "cell_type": "markdown",
   "metadata": {},
   "source": [
    "Kje je največja razlika med moškimi in ženskami in kolikšna je?"
   ]
  },
  {
   "cell_type": "code",
   "execution_count": 147,
   "metadata": {},
   "outputs": [
    {
     "name": "stdout",
     "output_type": "stream",
     "text": [
      "Največja razlika med ITM moških in žensk je 1.68.\n",
      "Ta razlika je prisotna na kontinentu: Southern Europe\n"
     ]
    }
   ],
   "source": [
    "max_ITM_difference = round(np.max(continents_with_higher_ITM_difference['ITM moških'] - continents_with_higher_ITM_difference['ITM žensk']), 2)\n",
    "\n",
    "max_ITM_row = continents_with_higher_ITM_difference.loc[(continents_with_higher_ITM_difference['ITM moških'] - continents_with_higher_ITM_difference['ITM žensk']).idxmax()]\n",
    "\n",
    "continent_with_max_ITM_difference = max_ITM_row['del kontinenta']\n",
    "\n",
    "print('Največja razlika med ITM moških in žensk je ', max_ITM_difference, '.', sep=\"\")\n",
    "print('Ta razlika je prisotna na kontinentu:', continent_with_max_ITM_difference)\n"
   ]
  },
  {
   "cell_type": "markdown",
   "metadata": {},
   "source": [
    "igranje s podatki"
   ]
  },
  {
   "cell_type": "markdown",
   "metadata": {},
   "source": [
    "https://www.who.int/europe/news-room/fact-sheets/item/a-healthy-lifestyle---who-recommendations\n",
    "\n",
    "https://sitis.si/itm-kalkulator-izracunaj-svoj-indeks-telesne-mase/\n",
    "\n",
    "http://opkp.si/sl_SI/cms/pomoc/pomoc-pri-delu-z-opkp/stopnja-tveganja"
   ]
  },
  {
   "cell_type": "code",
   "execution_count": 155,
   "metadata": {},
   "outputs": [
    {
     "name": "stdout",
     "output_type": "stream",
     "text": [
      "         ime države  ITM moških                 ITM status moških\n",
      "109        Ethiopia        20.1             normalna telesna teža\n",
      "90          Eritrea        20.3             normalna telesna teža\n",
      "120      Madagascar        21.5             normalna telesna teža\n",
      "127      East Timor        21.2             normalna telesna teža\n",
      "113         Burundi        21.8             normalna telesna teža\n",
      "..              ...         ...                               ...\n",
      "42             Niue        31.5  debelost 1. razreda (adipoznost)\n",
      "47          Tokelau        32.0  debelost 1. razreda (adipoznost)\n",
      "57            Tonga        30.7  debelost 1. razreda (adipoznost)\n",
      "69            Samoa        30.5  debelost 1. razreda (adipoznost)\n",
      "44   American Samoa        33.1  debelost 1. razreda (adipoznost)\n",
      "\n",
      "[127 rows x 3 columns]\n"
     ]
    }
   ],
   "source": [
    "def assign_bmi_status(bmi):\n",
    "    if bmi < 18.5:\n",
    "        return \"podhranjenost\"\n",
    "    elif bmi < 25.0:\n",
    "        return \"normalna telesna teža\"\n",
    "    elif bmi < 30.0:\n",
    "        return \"povišana telesna teža\"\n",
    "    elif bmi < 35.0:\n",
    "        return \"debelost 1. razreda (adipoznost)\"\n",
    "    elif bmi < 40.0:\n",
    "        return \"debelost 2. razreda (adipoznost)\"\n",
    "    else:\n",
    "        return \"debelost 3. razreda (huda adipoznost)\"\n",
    "\n",
    "def add_bmi_status_column(countries):\n",
    "    countries[\"ITM status moških\"] = countries[\"ITM moških\"].apply(assign_bmi_status)\n",
    "    return countries[[\"ime države\", \"ITM moških\", \"ITM status moških\"]]\n",
    "\n",
    "\n",
    "# Add BMI status column and create a new DataFrame with relevant columns\n",
    "result_df = add_bmi_status_column(countries)\n",
    "\n",
    "# Print the resulting DataFrame\n",
    "print(result_df)\n"
   ]
  },
  {
   "cell_type": "code",
   "execution_count": 156,
   "metadata": {},
   "outputs": [
    {
     "name": "stdout",
     "output_type": "stream",
     "text": [
      "         ime države  ITM moških                      ITM status moških\n",
      "109        Ethiopia        20.1  Ustrezna telesna masa (23.00 - 24.99)\n",
      "90          Eritrea        20.3  Ustrezna telesna masa (23.00 - 24.99)\n",
      "120      Madagascar        21.5  Ustrezna telesna masa (23.00 - 24.99)\n",
      "127      East Timor        21.2  Ustrezna telesna masa (23.00 - 24.99)\n",
      "113         Burundi        21.8  Ustrezna telesna masa (23.00 - 24.99)\n",
      "..              ...         ...                                    ...\n",
      "42             Niue        31.5             Debelost I (30.00 - 32.49)\n",
      "47          Tokelau        32.0             Debelost I (30.00 - 32.49)\n",
      "57            Tonga        30.7             Debelost I (30.00 - 32.49)\n",
      "69            Samoa        30.5             Debelost I (30.00 - 32.49)\n",
      "44   American Samoa        33.1             Debelost I (32.50 - 34.99)\n",
      "\n",
      "[127 rows x 3 columns]\n"
     ]
    }
   ],
   "source": [
    "import pandas as pd\n",
    "\n",
    "def assign_bmi_status(bmi):\n",
    "    if bmi < 16.0:\n",
    "        return \"Izredno nizka telesna masa\"\n",
    "    elif bmi < 17.0:\n",
    "        return \"Nizka telesna masa\"\n",
    "    elif bmi < 18.5:\n",
    "        return \"Ustrezna telesna masa (18.50 - 22.99)\"\n",
    "    elif bmi < 23.0:\n",
    "        return \"Ustrezna telesna masa (23.00 - 24.99)\"\n",
    "    elif bmi < 25.0:\n",
    "        return \"Prekomerna telesna masa\"\n",
    "    elif bmi < 27.5:\n",
    "        return \"Povečana telesna masa (25.00 - 27.49)\"\n",
    "    elif bmi < 30.0:\n",
    "        return \"Povečana telesna masa (27.50 - 29.99)\"\n",
    "    elif bmi < 32.5:\n",
    "        return \"Debelost I (30.00 - 32.49)\"\n",
    "    elif bmi < 35.0:\n",
    "        return \"Debelost I (32.50 - 34.99)\"\n",
    "    elif bmi < 37.5:\n",
    "        return \"Debelost II (35.00 - 37.49)\"\n",
    "    elif bmi < 40.0:\n",
    "        return \"Debelost II (37.50 - 39.99)\"\n",
    "    else:\n",
    "        return \"Debelost III\"\n",
    "\n",
    "def add_bmi_status_column(countries):\n",
    "    countries[\"ITM status moških\"] = countries[\"ITM moških\"].apply(assign_bmi_status)\n",
    "    return countries[[\"ime države\", \"ITM moških\", \"ITM status moških\"]]\n",
    "\n",
    "\n",
    "\n",
    "# Add BMI status column and create a new DataFrame with relevant columns\n",
    "result_df = add_bmi_status_column(countries)\n",
    "\n",
    "# Print the resulting DataFrame\n",
    "print(result_df)\n"
   ]
  }
 ],
 "metadata": {
  "kernelspec": {
   "display_name": "Python 3.10.7 64-bit",
   "language": "python",
   "name": "python3"
  },
  "language_info": {
   "codemirror_mode": {
    "name": "ipython",
    "version": 3
   },
   "file_extension": ".py",
   "mimetype": "text/x-python",
   "name": "python",
   "nbconvert_exporter": "python",
   "pygments_lexer": "ipython3",
   "version": "3.10.7"
  },
  "orig_nbformat": 4,
  "vscode": {
   "interpreter": {
    "hash": "369f2c481f4da34e4445cda3fffd2e751bd1c4d706f27375911949ba6bb62e1c"
   }
  }
 },
 "nbformat": 4,
 "nbformat_minor": 2
}
