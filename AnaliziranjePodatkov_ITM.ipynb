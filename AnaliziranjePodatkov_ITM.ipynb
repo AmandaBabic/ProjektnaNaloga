{
 "cells": [
  {
   "cell_type": "markdown",
   "metadata": {},
   "source": [
    "# Analiziranje podatkov glede na ITM"
   ]
  },
  {
   "cell_type": "markdown",
   "metadata": {},
   "source": [
    "Naložimo ustrezne pakete"
   ]
  },
  {
   "cell_type": "code",
   "execution_count": 291,
   "metadata": {},
   "outputs": [],
   "source": [
    "# naložimo pakete\n",
    "import os\n",
    "import pandas as pd\n",
    "\n",
    "nov_directory = 'obdelani podatki'\n",
    "csv_drzave = 'drzave.csv'\n",
    "csv_kontinenti = 'kontinenti.csv'\n",
    "# izberemo interaktivni \"notebook\" stil risanja\n",
    "%matplotlib inline\n",
    "\n",
    "pd.set_option(\"display.max_rows\", 15)\n",
    "path1 = os.path.join(nov_directory, csv_drzave) \n",
    "path2 = os.path.join(nov_directory, csv_kontinenti) \n",
    "\n",
    "#naložimo razpredelnico, s katero bomo delali\n",
    "countries = pd.read_csv(path1)\n",
    "continents = pd.read_csv(path2)"
   ]
  },
  {
   "cell_type": "code",
   "execution_count": 292,
   "metadata": {},
   "outputs": [],
   "source": [
    "%matplotlib inline\n",
    "\n",
    "import matplotlib\n",
    "import numpy as np\n",
    "import matplotlib.pyplot as plt\n"
   ]
  },
  {
   "cell_type": "markdown",
   "metadata": {},
   "source": [
    "## 1. Splošno"
   ]
  },
  {
   "cell_type": "markdown",
   "metadata": {},
   "source": [
    "### 1.1. Države"
   ]
  },
  {
   "cell_type": "markdown",
   "metadata": {},
   "source": [
    "V spodnjih tabelah je prikazan seznam vseh držav, ki sem jih zajela v svoji projektni nalogi. Vsebuje podatke o višini, teži in itm-ju tako moških kot žensk. V tej datoteki sem se osredotočila na analiziranje podatkov indeksa telesne mase (ITM). "
   ]
  },
  {
   "cell_type": "code",
   "execution_count": 293,
   "metadata": {},
   "outputs": [
    {
     "data": {
      "text/html": [
       "<div>\n",
       "<style scoped>\n",
       "    .dataframe tbody tr th:only-of-type {\n",
       "        vertical-align: middle;\n",
       "    }\n",
       "\n",
       "    .dataframe tbody tr th {\n",
       "        vertical-align: top;\n",
       "    }\n",
       "\n",
       "    .dataframe thead th {\n",
       "        text-align: right;\n",
       "    }\n",
       "</style>\n",
       "<table border=\"1\" class=\"dataframe\">\n",
       "  <thead>\n",
       "    <tr style=\"text-align: right;\">\n",
       "      <th></th>\n",
       "      <th>ime države</th>\n",
       "      <th>višina moških</th>\n",
       "      <th>teža moških</th>\n",
       "      <th>itm moških</th>\n",
       "      <th>višina žensk</th>\n",
       "      <th>teža žensk</th>\n",
       "      <th>itm žensk</th>\n",
       "    </tr>\n",
       "  </thead>\n",
       "  <tbody>\n",
       "    <tr>\n",
       "      <th>1</th>\n",
       "      <td>Netherlands</td>\n",
       "      <td>1.84</td>\n",
       "      <td>87.9</td>\n",
       "      <td>26.1</td>\n",
       "      <td>1.70</td>\n",
       "      <td>73.2</td>\n",
       "      <td>25.3</td>\n",
       "    </tr>\n",
       "    <tr>\n",
       "      <th>2</th>\n",
       "      <td>Montenegro</td>\n",
       "      <td>1.83</td>\n",
       "      <td>90.4</td>\n",
       "      <td>27.0</td>\n",
       "      <td>1.70</td>\n",
       "      <td>75.3</td>\n",
       "      <td>26.2</td>\n",
       "    </tr>\n",
       "    <tr>\n",
       "      <th>3</th>\n",
       "      <td>Estonia</td>\n",
       "      <td>1.82</td>\n",
       "      <td>89.9</td>\n",
       "      <td>27.0</td>\n",
       "      <td>1.68</td>\n",
       "      <td>73.7</td>\n",
       "      <td>26.0</td>\n",
       "    </tr>\n",
       "    <tr>\n",
       "      <th>4</th>\n",
       "      <td>Denmark</td>\n",
       "      <td>1.82</td>\n",
       "      <td>86.8</td>\n",
       "      <td>26.3</td>\n",
       "      <td>1.69</td>\n",
       "      <td>70.2</td>\n",
       "      <td>24.6</td>\n",
       "    </tr>\n",
       "    <tr>\n",
       "      <th>5</th>\n",
       "      <td>Bosnia and Herzegovina</td>\n",
       "      <td>1.82</td>\n",
       "      <td>87.1</td>\n",
       "      <td>26.4</td>\n",
       "      <td>1.67</td>\n",
       "      <td>70.6</td>\n",
       "      <td>25.3</td>\n",
       "    </tr>\n",
       "    <tr>\n",
       "      <th>...</th>\n",
       "      <td>...</td>\n",
       "      <td>...</td>\n",
       "      <td>...</td>\n",
       "      <td>...</td>\n",
       "      <td>...</td>\n",
       "      <td>...</td>\n",
       "      <td>...</td>\n",
       "    </tr>\n",
       "    <tr>\n",
       "      <th>123</th>\n",
       "      <td>Nepal</td>\n",
       "      <td>1.64</td>\n",
       "      <td>60.5</td>\n",
       "      <td>22.5</td>\n",
       "      <td>1.52</td>\n",
       "      <td>51.6</td>\n",
       "      <td>22.3</td>\n",
       "    </tr>\n",
       "    <tr>\n",
       "      <th>124</th>\n",
       "      <td>Guatemala</td>\n",
       "      <td>1.64</td>\n",
       "      <td>69.1</td>\n",
       "      <td>25.7</td>\n",
       "      <td>1.51</td>\n",
       "      <td>61.9</td>\n",
       "      <td>27.3</td>\n",
       "    </tr>\n",
       "    <tr>\n",
       "      <th>125</th>\n",
       "      <td>Yemen</td>\n",
       "      <td>1.63</td>\n",
       "      <td>62.5</td>\n",
       "      <td>23.6</td>\n",
       "      <td>1.54</td>\n",
       "      <td>56.9</td>\n",
       "      <td>24.0</td>\n",
       "    </tr>\n",
       "    <tr>\n",
       "      <th>126</th>\n",
       "      <td>Laos</td>\n",
       "      <td>1.62</td>\n",
       "      <td>59.5</td>\n",
       "      <td>22.6</td>\n",
       "      <td>1.53</td>\n",
       "      <td>53.7</td>\n",
       "      <td>23.0</td>\n",
       "    </tr>\n",
       "    <tr>\n",
       "      <th>127</th>\n",
       "      <td>East Timor</td>\n",
       "      <td>1.59</td>\n",
       "      <td>53.9</td>\n",
       "      <td>21.2</td>\n",
       "      <td>1.52</td>\n",
       "      <td>49.0</td>\n",
       "      <td>21.2</td>\n",
       "    </tr>\n",
       "  </tbody>\n",
       "</table>\n",
       "<p>127 rows × 7 columns</p>\n",
       "</div>"
      ],
      "text/plain": [
       "                 ime države  višina moških  teža moških  itm moških  \\\n",
       "1               Netherlands           1.84         87.9        26.1   \n",
       "2                Montenegro           1.83         90.4        27.0   \n",
       "3                   Estonia           1.82         89.9        27.0   \n",
       "4                   Denmark           1.82         86.8        26.3   \n",
       "5    Bosnia and Herzegovina           1.82         87.1        26.4   \n",
       "..                      ...            ...          ...         ...   \n",
       "123                   Nepal           1.64         60.5        22.5   \n",
       "124               Guatemala           1.64         69.1        25.7   \n",
       "125                   Yemen           1.63         62.5        23.6   \n",
       "126                    Laos           1.62         59.5        22.6   \n",
       "127              East Timor           1.59         53.9        21.2   \n",
       "\n",
       "     višina žensk  teža žensk  itm žensk  \n",
       "1            1.70        73.2       25.3  \n",
       "2            1.70        75.3       26.2  \n",
       "3            1.68        73.7       26.0  \n",
       "4            1.69        70.2       24.6  \n",
       "5            1.67        70.6       25.3  \n",
       "..            ...         ...        ...  \n",
       "123          1.52        51.6       22.3  \n",
       "124          1.51        61.9       27.3  \n",
       "125          1.54        56.9       24.0  \n",
       "126          1.53        53.7       23.0  \n",
       "127          1.52        49.0       21.2  \n",
       "\n",
       "[127 rows x 7 columns]"
      ]
     },
     "execution_count": 293,
     "metadata": {},
     "output_type": "execute_result"
    }
   ],
   "source": [
    "countries.index += 1\n",
    "countries"
   ]
  },
  {
   "cell_type": "markdown",
   "metadata": {},
   "source": [
    "Nadaljnje tabele prikazujejo države urejene po ITM vrednosti. Vidimo lahko, da so izmed vseh držav moški z najvišjo ITM vrednostjo v Ameriški Samoi in enako velja za ženske (tam so tudi najtežje ženske). Moški z najnižjo ITM vrednostjo so v Etiopiji in enako velja za ženske.     "
   ]
  },
  {
   "cell_type": "code",
   "execution_count": 294,
   "metadata": {},
   "outputs": [
    {
     "name": "stdout",
     "output_type": "stream",
     "text": [
      "         ime države  višina moških  teža moških  itm moških  višina žensk  \\\n",
      "44   American Samoa           1.77        103.2        33.1          1.67   \n",
      "36     Cook Islands           1.78        103.7        32.7          1.67   \n",
      "100           Nauru           1.69         93.0        32.4          1.58   \n",
      "47          Tokelau           1.76         99.0        32.0          1.66   \n",
      "42             Niue           1.77         98.8        31.5          1.67   \n",
      "\n",
      "     teža žensk  itm žensk  \n",
      "44         98.1       35.2  \n",
      "36         92.8       33.3  \n",
      "100        82.2       33.1  \n",
      "47         92.5       33.7  \n",
      "42         92.6       33.4  \n"
     ]
    },
    {
     "data": {
      "text/plain": [
       "44     33.1\n",
       "36     32.7\n",
       "100    32.4\n",
       "47     32.0\n",
       "42     31.5\n",
       "       ... \n",
       "103    21.4\n",
       "122    21.3\n",
       "127    21.2\n",
       "90     20.3\n",
       "109    20.1\n",
       "Name: itm moških, Length: 127, dtype: float64"
      ]
     },
     "execution_count": 294,
     "metadata": {},
     "output_type": "execute_result"
    }
   ],
   "source": [
    "countries.sort_values(by=\"itm moških\", ascending = False, inplace = True)\n",
    "countries\n",
    "print(countries.head(5))\n",
    "countries[\"itm moških\"]"
   ]
  },
  {
   "cell_type": "code",
   "execution_count": 295,
   "metadata": {},
   "outputs": [
    {
     "name": "stdout",
     "output_type": "stream",
     "text": [
      "        ime države  višina moških  teža moških  itm moških  višina žensk  \\\n",
      "44  American Samoa           1.77        103.2        33.1          1.67   \n",
      "69           Samoa           1.73         91.8        30.5          1.63   \n",
      "57           Tonga           1.75         93.7        30.7          1.66   \n",
      "47         Tokelau           1.76         99.0        32.0          1.66   \n",
      "42            Niue           1.77         98.8        31.5          1.67   \n",
      "\n",
      "    teža žensk  itm žensk  \n",
      "44        98.1       35.2  \n",
      "69        90.5       34.1  \n",
      "57        93.1       33.9  \n",
      "47        92.5       33.7  \n",
      "42        92.6       33.4  \n"
     ]
    },
    {
     "data": {
      "text/plain": [
       "44     35.2\n",
       "69     34.1\n",
       "57     33.9\n",
       "47     33.7\n",
       "42     33.4\n",
       "       ... \n",
       "113    21.5\n",
       "127    21.2\n",
       "120    21.1\n",
       "90     21.1\n",
       "109    21.0\n",
       "Name: itm žensk, Length: 127, dtype: float64"
      ]
     },
     "execution_count": 295,
     "metadata": {},
     "output_type": "execute_result"
    }
   ],
   "source": [
    "countries.sort_values(by=\"itm žensk\", ascending = False, inplace = True)\n",
    "countries\n",
    "print(countries.head(5))\n",
    "countries[\"itm žensk\"]"
   ]
  },
  {
   "cell_type": "code",
   "execution_count": 296,
   "metadata": {},
   "outputs": [
    {
     "name": "stdout",
     "output_type": "stream",
     "text": [
      "     ime države  višina moških  teža moških  itm moških  višina žensk  \\\n",
      "109    Ethiopia           1.68         56.5        20.1          1.57   \n",
      "90      Eritrea           1.70         58.8        20.3          1.57   \n",
      "127  East Timor           1.59         53.9        21.2          1.52   \n",
      "122  Bangladesh           1.65         57.7        21.3          1.52   \n",
      "103       Niger           1.69         61.1        21.4          1.59   \n",
      "\n",
      "     teža žensk  itm žensk  \n",
      "109        51.6       21.0  \n",
      "90         52.2       21.1  \n",
      "127        49.0       21.2  \n",
      "122        50.5       21.8  \n",
      "103        56.6       22.3  \n"
     ]
    },
    {
     "data": {
      "text/plain": [
       "109    20.1\n",
       "90     20.3\n",
       "127    21.2\n",
       "122    21.3\n",
       "103    21.4\n",
       "       ... \n",
       "42     31.5\n",
       "47     32.0\n",
       "100    32.4\n",
       "36     32.7\n",
       "44     33.1\n",
       "Name: itm moških, Length: 127, dtype: float64"
      ]
     },
     "execution_count": 296,
     "metadata": {},
     "output_type": "execute_result"
    }
   ],
   "source": [
    "countries.sort_values(by=\"itm moških\", ascending = True, inplace = True)\n",
    "countries\n",
    "print(countries.head(5))\n",
    "countries[\"itm moških\"]"
   ]
  },
  {
   "cell_type": "code",
   "execution_count": 297,
   "metadata": {},
   "outputs": [
    {
     "name": "stdout",
     "output_type": "stream",
     "text": [
      "     ime države  višina moških  teža moških  itm moških  višina žensk  \\\n",
      "109    Ethiopia           1.68         56.5        20.1          1.57   \n",
      "90      Eritrea           1.70         58.8        20.3          1.57   \n",
      "120  Madagascar           1.65         58.4        21.5          1.53   \n",
      "127  East Timor           1.59         53.9        21.2          1.52   \n",
      "113     Burundi           1.67         60.5        21.8          1.55   \n",
      "\n",
      "     teža žensk  itm žensk  \n",
      "109        51.6       21.0  \n",
      "90         52.2       21.1  \n",
      "120        49.2       21.1  \n",
      "127        49.0       21.2  \n",
      "113        51.5       21.5  \n"
     ]
    },
    {
     "data": {
      "text/plain": [
       "109    21.0\n",
       "90     21.1\n",
       "120    21.1\n",
       "127    21.2\n",
       "113    21.5\n",
       "       ... \n",
       "42     33.4\n",
       "47     33.7\n",
       "57     33.9\n",
       "69     34.1\n",
       "44     35.2\n",
       "Name: itm žensk, Length: 127, dtype: float64"
      ]
     },
     "execution_count": 297,
     "metadata": {},
     "output_type": "execute_result"
    }
   ],
   "source": [
    "countries.sort_values(by=\"itm žensk\", ascending = True, inplace = True)\n",
    "countries\n",
    "print(countries.head(5))\n",
    "countries[\"itm žensk\"]"
   ]
  },
  {
   "cell_type": "markdown",
   "metadata": {},
   "source": [
    "### 1.2. Kontinenti"
   ]
  },
  {
   "cell_type": "markdown",
   "metadata": {},
   "source": [
    "Analogno kot pri državah je v spodnjih tabelah prikazan seznam delov kontinentov, ki sem jih zajela v svoji projektni nalogi. Vsebuje podatke o višini in teži tako moških kot žensk. V tej datoteki sem se osredotočila na analiziranje podatkov višine."
   ]
  },
  {
   "cell_type": "code",
   "execution_count": 298,
   "metadata": {},
   "outputs": [
    {
     "data": {
      "text/html": [
       "<div>\n",
       "<style scoped>\n",
       "    .dataframe tbody tr th:only-of-type {\n",
       "        vertical-align: middle;\n",
       "    }\n",
       "\n",
       "    .dataframe tbody tr th {\n",
       "        vertical-align: top;\n",
       "    }\n",
       "\n",
       "    .dataframe thead th {\n",
       "        text-align: right;\n",
       "    }\n",
       "</style>\n",
       "<table border=\"1\" class=\"dataframe\">\n",
       "  <thead>\n",
       "    <tr style=\"text-align: right;\">\n",
       "      <th></th>\n",
       "      <th>del kontinenta</th>\n",
       "      <th>višina moških</th>\n",
       "      <th>teža moških</th>\n",
       "      <th>višina žensk</th>\n",
       "      <th>teža žensk</th>\n",
       "    </tr>\n",
       "  </thead>\n",
       "  <tbody>\n",
       "    <tr>\n",
       "      <th>1</th>\n",
       "      <td>Northern Africa</td>\n",
       "      <td>1.73</td>\n",
       "      <td>77.9</td>\n",
       "      <td>1.61</td>\n",
       "      <td>73.7</td>\n",
       "    </tr>\n",
       "    <tr>\n",
       "      <th>2</th>\n",
       "      <td>Eastern Africa</td>\n",
       "      <td>1.67</td>\n",
       "      <td>60.1</td>\n",
       "      <td>1.57</td>\n",
       "      <td>56.2</td>\n",
       "    </tr>\n",
       "    <tr>\n",
       "      <th>3</th>\n",
       "      <td>Western Africa</td>\n",
       "      <td>1.70</td>\n",
       "      <td>64.9</td>\n",
       "      <td>1.59</td>\n",
       "      <td>60.1</td>\n",
       "    </tr>\n",
       "    <tr>\n",
       "      <th>4</th>\n",
       "      <td>Southern Africa</td>\n",
       "      <td>1.69</td>\n",
       "      <td>71.2</td>\n",
       "      <td>1.59</td>\n",
       "      <td>73.2</td>\n",
       "    </tr>\n",
       "    <tr>\n",
       "      <th>5</th>\n",
       "      <td>Central Africa</td>\n",
       "      <td>1.69</td>\n",
       "      <td>62.6</td>\n",
       "      <td>1.58</td>\n",
       "      <td>58.0</td>\n",
       "    </tr>\n",
       "    <tr>\n",
       "      <th>...</th>\n",
       "      <td>...</td>\n",
       "      <td>...</td>\n",
       "      <td>...</td>\n",
       "      <td>...</td>\n",
       "      <td>...</td>\n",
       "    </tr>\n",
       "    <tr>\n",
       "      <th>18</th>\n",
       "      <td>Northern Europe</td>\n",
       "      <td>1.79</td>\n",
       "      <td>87.1</td>\n",
       "      <td>1.65</td>\n",
       "      <td>72.3</td>\n",
       "    </tr>\n",
       "    <tr>\n",
       "      <th>19</th>\n",
       "      <td>Eastern Europe</td>\n",
       "      <td>1.78</td>\n",
       "      <td>83.8</td>\n",
       "      <td>1.65</td>\n",
       "      <td>72.2</td>\n",
       "    </tr>\n",
       "    <tr>\n",
       "      <th>20</th>\n",
       "      <td>Polynesia</td>\n",
       "      <td>1.76</td>\n",
       "      <td>93.8</td>\n",
       "      <td>1.65</td>\n",
       "      <td>87.3</td>\n",
       "    </tr>\n",
       "    <tr>\n",
       "      <th>21</th>\n",
       "      <td>Melanesia</td>\n",
       "      <td>1.64</td>\n",
       "      <td>68.1</td>\n",
       "      <td>1.57</td>\n",
       "      <td>64.6</td>\n",
       "    </tr>\n",
       "    <tr>\n",
       "      <th>22</th>\n",
       "      <td>Micronesia</td>\n",
       "      <td>1.69</td>\n",
       "      <td>82.7</td>\n",
       "      <td>1.59</td>\n",
       "      <td>78.9</td>\n",
       "    </tr>\n",
       "  </tbody>\n",
       "</table>\n",
       "<p>22 rows × 5 columns</p>\n",
       "</div>"
      ],
      "text/plain": [
       "     del kontinenta  višina moških  teža moških  višina žensk  teža žensk\n",
       "1   Northern Africa           1.73         77.9          1.61        73.7\n",
       "2    Eastern Africa           1.67         60.1          1.57        56.2\n",
       "3    Western Africa           1.70         64.9          1.59        60.1\n",
       "4   Southern Africa           1.69         71.2          1.59        73.2\n",
       "5    Central Africa           1.69         62.6          1.58        58.0\n",
       "..              ...            ...          ...           ...         ...\n",
       "18  Northern Europe           1.79         87.1          1.65        72.3\n",
       "19   Eastern Europe           1.78         83.8          1.65        72.2\n",
       "20        Polynesia           1.76         93.8          1.65        87.3\n",
       "21        Melanesia           1.64         68.1          1.57        64.6\n",
       "22       Micronesia           1.69         82.7          1.59        78.9\n",
       "\n",
       "[22 rows x 5 columns]"
      ]
     },
     "execution_count": 298,
     "metadata": {},
     "output_type": "execute_result"
    }
   ],
   "source": [
    "continents.index += 1\n",
    "continents"
   ]
  },
  {
   "cell_type": "markdown",
   "metadata": {},
   "source": [
    "Pri vrednostih ITM za dele kontinentov ni bilo že danih podatkov v tabeli, zato sem izračune naredila sama. Za potrebe prikaza sem podtabelo v tej datoteki definirala predhodno."
   ]
  },
  {
   "cell_type": "code",
   "execution_count": 299,
   "metadata": {},
   "outputs": [],
   "source": [
    "podtabela2 = continents[[\"del kontinenta\", \"višina moških\", \"teža moških\", \"višina žensk\", \"teža žensk\"]]"
   ]
  },
  {
   "cell_type": "code",
   "execution_count": 300,
   "metadata": {},
   "outputs": [
    {
     "name": "stdout",
     "output_type": "stream",
     "text": [
      "     del kontinenta  višina moških  teža moških  višina žensk  teža žensk  \\\n",
      "1   Northern Africa           1.73         77.9          1.61        73.7   \n",
      "2    Eastern Africa           1.67         60.1          1.57        56.2   \n",
      "3    Western Africa           1.70         64.9          1.59        60.1   \n",
      "4   Southern Africa           1.69         71.2          1.59        73.2   \n",
      "5    Central Africa           1.69         62.6          1.58        58.0   \n",
      "..              ...            ...          ...           ...         ...   \n",
      "18  Northern Europe           1.79         87.1          1.65        72.3   \n",
      "19   Eastern Europe           1.78         83.8          1.65        72.2   \n",
      "20        Polynesia           1.76         93.8          1.65        87.3   \n",
      "21        Melanesia           1.64         68.1          1.57        64.6   \n",
      "22       Micronesia           1.69         82.7          1.59        78.9   \n",
      "\n",
      "    itm moških  itm žensk  \n",
      "1    26.028267  28.432545  \n",
      "2    21.549715  22.800114  \n",
      "3    22.456747  23.772794  \n",
      "4    24.929099  28.954551  \n",
      "5    21.918000  23.233456  \n",
      "..         ...        ...  \n",
      "18   27.183921  26.556474  \n",
      "19   26.448681  26.519743  \n",
      "20   30.281508  32.066116  \n",
      "21   25.319750  26.207960  \n",
      "22   28.955569  31.209208  \n",
      "\n",
      "[22 rows x 7 columns]\n"
     ]
    }
   ],
   "source": [
    "# po formuli izračunamo ITM\n",
    "podtabela2[\"itm moških\"] = podtabela2[\"teža moških\"] / (podtabela2[\"višina moških\"] ** 2)\n",
    "podtabela2[\"itm žensk\"] = podtabela2[\"teža žensk\"] / (podtabela2[\"višina žensk\"] ** 2)\n",
    "\n",
    "print(podtabela2)\n"
   ]
  },
  {
   "cell_type": "code",
   "execution_count": 301,
   "metadata": {},
   "outputs": [
    {
     "name": "stdout",
     "output_type": "stream",
     "text": [
      "     del kontinenta  višina moških  teža moških  itm moških  višina žensk  \\\n",
      "1   Northern Africa           1.73         77.9       26.03          1.61   \n",
      "2    Eastern Africa           1.67         60.1       21.55          1.57   \n",
      "3    Western Africa           1.70         64.9       22.46          1.59   \n",
      "4   Southern Africa           1.69         71.2       24.93          1.59   \n",
      "5    Central Africa           1.69         62.6       21.92          1.58   \n",
      "..              ...            ...          ...         ...           ...   \n",
      "18  Northern Europe           1.79         87.1       27.18          1.65   \n",
      "19   Eastern Europe           1.78         83.8       26.45          1.65   \n",
      "20        Polynesia           1.76         93.8       30.28          1.65   \n",
      "21        Melanesia           1.64         68.1       25.32          1.57   \n",
      "22       Micronesia           1.69         82.7       28.96          1.59   \n",
      "\n",
      "    teža žensk  itm žensk  \n",
      "1         73.7      28.43  \n",
      "2         56.2      22.80  \n",
      "3         60.1      23.77  \n",
      "4         73.2      28.95  \n",
      "5         58.0      23.23  \n",
      "..         ...        ...  \n",
      "18        72.3      26.56  \n",
      "19        72.2      26.52  \n",
      "20        87.3      32.07  \n",
      "21        64.6      26.21  \n",
      "22        78.9      31.21  \n",
      "\n",
      "[22 rows x 7 columns]\n"
     ]
    }
   ],
   "source": [
    "# dodatek, da so stolpci tabele v istem vrstnem redu kot pri ostalih tabelah\n",
    "desired_columns = [\"del kontinenta\", \"višina moških\", \"teža moških\", \"itm moških\", \"višina žensk\", \"teža žensk\", \"itm žensk\"]\n",
    "urejena_podtabela2 = podtabela2[desired_columns].round(2)\n",
    "\n",
    "\n",
    "print(urejena_podtabela2)"
   ]
  },
  {
   "cell_type": "code",
   "execution_count": 302,
   "metadata": {},
   "outputs": [
    {
     "name": "stdout",
     "output_type": "stream",
     "text": [
      "     del kontinenta  itm moških  itm žensk\n",
      "1   Northern Africa   26.028267  28.432545\n",
      "2    Eastern Africa   21.549715  22.800114\n",
      "3    Western Africa   22.456747  23.772794\n",
      "4   Southern Africa   24.929099  28.954551\n",
      "5    Central Africa   21.918000  23.233456\n",
      "..              ...         ...        ...\n",
      "18  Northern Europe   27.183921  26.556474\n",
      "19   Eastern Europe   26.448681  26.519743\n",
      "20        Polynesia   30.281508  32.066116\n",
      "21        Melanesia   25.319750  26.207960\n",
      "22       Micronesia   28.955569  31.209208\n",
      "\n",
      "[22 rows x 3 columns]\n"
     ]
    }
   ],
   "source": [
    "columns = [\"del kontinenta\", \"itm moških\", \"itm žensk\"]\n",
    "itm_tabela = podtabela2[columns]\n",
    "\n",
    "print(itm_tabela)\n"
   ]
  },
  {
   "cell_type": "markdown",
   "metadata": {},
   "source": [
    "Nadaljnje tabele prikazujejo dele kontinentov urejene po ITM vrednosti. Vidimo lahko, da so izmed vseh držav moški z najvišjo ITM vrednostjo v Polineziji in enako velja za ženske (enaka situacija je bila pri analizi teže). Moški z najnižjo ITM vrednostjo so v vzhodni Afriki, ženske pa v južni Aziji (enaka situacija je bila pri analizi teže).     "
   ]
  },
  {
   "cell_type": "code",
   "execution_count": 303,
   "metadata": {},
   "outputs": [
    {
     "name": "stdout",
     "output_type": "stream",
     "text": [
      "           del kontinenta  višina moških  teža moških  itm moških  \\\n",
      "20              Polynesia           1.76         93.8       30.28   \n",
      "22             Micronesia           1.69         82.7       28.96   \n",
      "7           North America           1.77         90.2       28.79   \n",
      "15  Australia/New Zealand           1.78         88.4       27.90   \n",
      "9         Central America           1.69         77.8       27.24   \n",
      "\n",
      "    višina žensk  teža žensk  itm žensk  \n",
      "20          1.65        87.3      32.07  \n",
      "22          1.59        78.9      31.21  \n",
      "7           1.63        76.6      28.83  \n",
      "15          1.65        73.1      26.85  \n",
      "9           1.57        69.4      28.16  \n"
     ]
    },
    {
     "data": {
      "text/plain": [
       "20    30.28\n",
       "22    28.96\n",
       "7     28.79\n",
       "15    27.90\n",
       "9     27.24\n",
       "      ...  \n",
       "14    22.52\n",
       "3     22.46\n",
       "12    22.10\n",
       "5     21.92\n",
       "2     21.55\n",
       "Name: itm moških, Length: 22, dtype: float64"
      ]
     },
     "execution_count": 303,
     "metadata": {},
     "output_type": "execute_result"
    }
   ],
   "source": [
    "urejena_podtabela2.sort_values(by=\"itm moških\", ascending = False, inplace = True)\n",
    "print(urejena_podtabela2.head(5))\n",
    "urejena_podtabela2[\"itm moških\"]"
   ]
  },
  {
   "cell_type": "code",
   "execution_count": 304,
   "metadata": {},
   "outputs": [
    {
     "name": "stdout",
     "output_type": "stream",
     "text": [
      "     del kontinenta  višina moških  teža moških  itm moških  višina žensk  \\\n",
      "20        Polynesia           1.76         93.8       30.28          1.65   \n",
      "22       Micronesia           1.69         82.7       28.96          1.59   \n",
      "4   Southern Africa           1.69         71.2       24.93          1.59   \n",
      "7     North America           1.77         90.2       28.79          1.63   \n",
      "10     Western Asia           1.72         80.6       27.24          1.59   \n",
      "\n",
      "    teža žensk  itm žensk  \n",
      "20        87.3      32.07  \n",
      "22        78.9      31.21  \n",
      "4         73.2      28.95  \n",
      "7         76.6      28.83  \n",
      "10        72.2      28.56  \n"
     ]
    },
    {
     "data": {
      "text/plain": [
       "20    32.07\n",
       "22    31.21\n",
       "4     28.95\n",
       "7     28.83\n",
       "10    28.56\n",
       "      ...  \n",
       "14    23.60\n",
       "11    23.47\n",
       "5     23.23\n",
       "2     22.80\n",
       "12    22.48\n",
       "Name: itm žensk, Length: 22, dtype: float64"
      ]
     },
     "execution_count": 304,
     "metadata": {},
     "output_type": "execute_result"
    }
   ],
   "source": [
    "urejena_podtabela2.sort_values(by=\"itm žensk\", ascending = False, inplace = True)\n",
    "print(urejena_podtabela2.head(5))\n",
    "urejena_podtabela2[\"itm žensk\"]"
   ]
  },
  {
   "cell_type": "code",
   "execution_count": 305,
   "metadata": {},
   "outputs": [
    {
     "name": "stdout",
     "output_type": "stream",
     "text": [
      "    del kontinenta  višina moških  teža moških  itm moških  višina žensk  \\\n",
      "2   Eastern Africa           1.67         60.1       21.55          1.57   \n",
      "5   Central Africa           1.69         62.6       21.92          1.58   \n",
      "12      South Asia           1.66         60.9       22.10          1.55   \n",
      "3   Western Africa           1.70         64.9       22.46          1.59   \n",
      "14  Southeast Asia           1.67         62.8       22.52          1.55   \n",
      "\n",
      "    teža žensk  itm žensk  \n",
      "2         56.2      22.80  \n",
      "5         58.0      23.23  \n",
      "12        54.0      22.48  \n",
      "3         60.1      23.77  \n",
      "14        56.7      23.60  \n"
     ]
    },
    {
     "data": {
      "text/plain": [
       "2     21.55\n",
       "5     21.92\n",
       "12    22.10\n",
       "3     22.46\n",
       "14    22.52\n",
       "      ...  \n",
       "10    27.24\n",
       "15    27.90\n",
       "7     28.79\n",
       "22    28.96\n",
       "20    30.28\n",
       "Name: itm moških, Length: 22, dtype: float64"
      ]
     },
     "execution_count": 305,
     "metadata": {},
     "output_type": "execute_result"
    }
   ],
   "source": [
    "urejena_podtabela2.sort_values(by=\"itm moških\", ascending = True, inplace = True)\n",
    "print(urejena_podtabela2.head(5))\n",
    "urejena_podtabela2[\"itm moških\"]"
   ]
  },
  {
   "cell_type": "code",
   "execution_count": 306,
   "metadata": {},
   "outputs": [
    {
     "name": "stdout",
     "output_type": "stream",
     "text": [
      "    del kontinenta  višina moških  teža moških  itm moških  višina žensk  \\\n",
      "12      South Asia           1.66         60.9       22.10          1.55   \n",
      "2   Eastern Africa           1.67         60.1       21.55          1.57   \n",
      "5   Central Africa           1.69         62.6       21.92          1.58   \n",
      "11       East Asia           1.74         73.3       24.21          1.62   \n",
      "14  Southeast Asia           1.67         62.8       22.52          1.55   \n",
      "\n",
      "    teža žensk  itm žensk  \n",
      "12        54.0      22.48  \n",
      "2         56.2      22.80  \n",
      "5         58.0      23.23  \n",
      "11        61.6      23.47  \n",
      "14        56.7      23.60  \n"
     ]
    },
    {
     "data": {
      "text/plain": [
       "12    22.48\n",
       "2     22.80\n",
       "5     23.23\n",
       "11    23.47\n",
       "14    23.60\n",
       "      ...  \n",
       "10    28.56\n",
       "7     28.83\n",
       "4     28.95\n",
       "22    31.21\n",
       "20    32.07\n",
       "Name: itm žensk, Length: 22, dtype: float64"
      ]
     },
     "execution_count": 306,
     "metadata": {},
     "output_type": "execute_result"
    }
   ],
   "source": [
    "urejena_podtabela2.sort_values(by=\"itm žensk\", ascending = True, inplace = True)\n",
    "print(urejena_podtabela2.head(5))\n",
    "urejena_podtabela2[\"itm žensk\"]"
   ]
  },
  {
   "cell_type": "markdown",
   "metadata": {},
   "source": [
    "## 2. Podtabela"
   ]
  },
  {
   "cell_type": "markdown",
   "metadata": {},
   "source": [
    "### 2.1. Države"
   ]
  },
  {
   "cell_type": "code",
   "execution_count": 307,
   "metadata": {},
   "outputs": [
    {
     "data": {
      "text/html": [
       "<div>\n",
       "<style scoped>\n",
       "    .dataframe tbody tr th:only-of-type {\n",
       "        vertical-align: middle;\n",
       "    }\n",
       "\n",
       "    .dataframe tbody tr th {\n",
       "        vertical-align: top;\n",
       "    }\n",
       "\n",
       "    .dataframe thead th {\n",
       "        text-align: right;\n",
       "    }\n",
       "</style>\n",
       "<table border=\"1\" class=\"dataframe\">\n",
       "  <thead>\n",
       "    <tr style=\"text-align: right;\">\n",
       "      <th></th>\n",
       "      <th>ime države</th>\n",
       "      <th>višina moških</th>\n",
       "      <th>teža moških</th>\n",
       "      <th>itm moških</th>\n",
       "      <th>višina žensk</th>\n",
       "      <th>teža žensk</th>\n",
       "      <th>itm žensk</th>\n",
       "    </tr>\n",
       "  </thead>\n",
       "  <tbody>\n",
       "    <tr>\n",
       "      <th>109</th>\n",
       "      <td>Ethiopia</td>\n",
       "      <td>1.68</td>\n",
       "      <td>56.5</td>\n",
       "      <td>20.1</td>\n",
       "      <td>1.57</td>\n",
       "      <td>51.6</td>\n",
       "      <td>21.0</td>\n",
       "    </tr>\n",
       "    <tr>\n",
       "      <th>90</th>\n",
       "      <td>Eritrea</td>\n",
       "      <td>1.70</td>\n",
       "      <td>58.8</td>\n",
       "      <td>20.3</td>\n",
       "      <td>1.57</td>\n",
       "      <td>52.2</td>\n",
       "      <td>21.1</td>\n",
       "    </tr>\n",
       "    <tr>\n",
       "      <th>120</th>\n",
       "      <td>Madagascar</td>\n",
       "      <td>1.65</td>\n",
       "      <td>58.4</td>\n",
       "      <td>21.5</td>\n",
       "      <td>1.53</td>\n",
       "      <td>49.2</td>\n",
       "      <td>21.1</td>\n",
       "    </tr>\n",
       "    <tr>\n",
       "      <th>127</th>\n",
       "      <td>East Timor</td>\n",
       "      <td>1.59</td>\n",
       "      <td>53.9</td>\n",
       "      <td>21.2</td>\n",
       "      <td>1.52</td>\n",
       "      <td>49.0</td>\n",
       "      <td>21.2</td>\n",
       "    </tr>\n",
       "    <tr>\n",
       "      <th>113</th>\n",
       "      <td>Burundi</td>\n",
       "      <td>1.67</td>\n",
       "      <td>60.5</td>\n",
       "      <td>21.8</td>\n",
       "      <td>1.55</td>\n",
       "      <td>51.5</td>\n",
       "      <td>21.5</td>\n",
       "    </tr>\n",
       "    <tr>\n",
       "      <th>...</th>\n",
       "      <td>...</td>\n",
       "      <td>...</td>\n",
       "      <td>...</td>\n",
       "      <td>...</td>\n",
       "      <td>...</td>\n",
       "      <td>...</td>\n",
       "      <td>...</td>\n",
       "    </tr>\n",
       "    <tr>\n",
       "      <th>42</th>\n",
       "      <td>Niue</td>\n",
       "      <td>1.77</td>\n",
       "      <td>98.8</td>\n",
       "      <td>31.5</td>\n",
       "      <td>1.67</td>\n",
       "      <td>92.6</td>\n",
       "      <td>33.4</td>\n",
       "    </tr>\n",
       "    <tr>\n",
       "      <th>47</th>\n",
       "      <td>Tokelau</td>\n",
       "      <td>1.76</td>\n",
       "      <td>99.0</td>\n",
       "      <td>32.0</td>\n",
       "      <td>1.66</td>\n",
       "      <td>92.5</td>\n",
       "      <td>33.7</td>\n",
       "    </tr>\n",
       "    <tr>\n",
       "      <th>57</th>\n",
       "      <td>Tonga</td>\n",
       "      <td>1.75</td>\n",
       "      <td>93.7</td>\n",
       "      <td>30.7</td>\n",
       "      <td>1.66</td>\n",
       "      <td>93.1</td>\n",
       "      <td>33.9</td>\n",
       "    </tr>\n",
       "    <tr>\n",
       "      <th>69</th>\n",
       "      <td>Samoa</td>\n",
       "      <td>1.73</td>\n",
       "      <td>91.8</td>\n",
       "      <td>30.5</td>\n",
       "      <td>1.63</td>\n",
       "      <td>90.5</td>\n",
       "      <td>34.1</td>\n",
       "    </tr>\n",
       "    <tr>\n",
       "      <th>44</th>\n",
       "      <td>American Samoa</td>\n",
       "      <td>1.77</td>\n",
       "      <td>103.2</td>\n",
       "      <td>33.1</td>\n",
       "      <td>1.67</td>\n",
       "      <td>98.1</td>\n",
       "      <td>35.2</td>\n",
       "    </tr>\n",
       "  </tbody>\n",
       "</table>\n",
       "<p>127 rows × 7 columns</p>\n",
       "</div>"
      ],
      "text/plain": [
       "         ime države  višina moških  teža moških  itm moških  višina žensk  \\\n",
       "109        Ethiopia           1.68         56.5        20.1          1.57   \n",
       "90          Eritrea           1.70         58.8        20.3          1.57   \n",
       "120      Madagascar           1.65         58.4        21.5          1.53   \n",
       "127      East Timor           1.59         53.9        21.2          1.52   \n",
       "113         Burundi           1.67         60.5        21.8          1.55   \n",
       "..              ...            ...          ...         ...           ...   \n",
       "42             Niue           1.77         98.8        31.5          1.67   \n",
       "47          Tokelau           1.76         99.0        32.0          1.66   \n",
       "57            Tonga           1.75         93.7        30.7          1.66   \n",
       "69            Samoa           1.73         91.8        30.5          1.63   \n",
       "44   American Samoa           1.77        103.2        33.1          1.67   \n",
       "\n",
       "     teža žensk  itm žensk  \n",
       "109        51.6       21.0  \n",
       "90         52.2       21.1  \n",
       "120        49.2       21.1  \n",
       "127        49.0       21.2  \n",
       "113        51.5       21.5  \n",
       "..          ...        ...  \n",
       "42         92.6       33.4  \n",
       "47         92.5       33.7  \n",
       "57         93.1       33.9  \n",
       "69         90.5       34.1  \n",
       "44         98.1       35.2  \n",
       "\n",
       "[127 rows x 7 columns]"
      ]
     },
     "execution_count": 307,
     "metadata": {},
     "output_type": "execute_result"
    }
   ],
   "source": [
    "podtabela1 = countries[[\"ime države\", \"višina moških\", \"teža moških\", \"itm moških\", \"višina žensk\", \"teža žensk\", \"itm žensk\"]]\n",
    "podtabela1"
   ]
  },
  {
   "cell_type": "markdown",
   "metadata": {},
   "source": [
    "### 2.2. Kontinenti"
   ]
  },
  {
   "cell_type": "code",
   "execution_count": 308,
   "metadata": {},
   "outputs": [
    {
     "data": {
      "text/html": [
       "<div>\n",
       "<style scoped>\n",
       "    .dataframe tbody tr th:only-of-type {\n",
       "        vertical-align: middle;\n",
       "    }\n",
       "\n",
       "    .dataframe tbody tr th {\n",
       "        vertical-align: top;\n",
       "    }\n",
       "\n",
       "    .dataframe thead th {\n",
       "        text-align: right;\n",
       "    }\n",
       "</style>\n",
       "<table border=\"1\" class=\"dataframe\">\n",
       "  <thead>\n",
       "    <tr style=\"text-align: right;\">\n",
       "      <th></th>\n",
       "      <th>del kontinenta</th>\n",
       "      <th>višina moških</th>\n",
       "      <th>teža moških</th>\n",
       "      <th>itm moških</th>\n",
       "      <th>višina žensk</th>\n",
       "      <th>teža žensk</th>\n",
       "      <th>itm žensk</th>\n",
       "    </tr>\n",
       "  </thead>\n",
       "  <tbody>\n",
       "    <tr>\n",
       "      <th>12</th>\n",
       "      <td>South Asia</td>\n",
       "      <td>1.66</td>\n",
       "      <td>60.9</td>\n",
       "      <td>22.10</td>\n",
       "      <td>1.55</td>\n",
       "      <td>54.0</td>\n",
       "      <td>22.48</td>\n",
       "    </tr>\n",
       "    <tr>\n",
       "      <th>2</th>\n",
       "      <td>Eastern Africa</td>\n",
       "      <td>1.67</td>\n",
       "      <td>60.1</td>\n",
       "      <td>21.55</td>\n",
       "      <td>1.57</td>\n",
       "      <td>56.2</td>\n",
       "      <td>22.80</td>\n",
       "    </tr>\n",
       "    <tr>\n",
       "      <th>5</th>\n",
       "      <td>Central Africa</td>\n",
       "      <td>1.69</td>\n",
       "      <td>62.6</td>\n",
       "      <td>21.92</td>\n",
       "      <td>1.58</td>\n",
       "      <td>58.0</td>\n",
       "      <td>23.23</td>\n",
       "    </tr>\n",
       "    <tr>\n",
       "      <th>11</th>\n",
       "      <td>East Asia</td>\n",
       "      <td>1.74</td>\n",
       "      <td>73.3</td>\n",
       "      <td>24.21</td>\n",
       "      <td>1.62</td>\n",
       "      <td>61.6</td>\n",
       "      <td>23.47</td>\n",
       "    </tr>\n",
       "    <tr>\n",
       "      <th>14</th>\n",
       "      <td>Southeast Asia</td>\n",
       "      <td>1.67</td>\n",
       "      <td>62.8</td>\n",
       "      <td>22.52</td>\n",
       "      <td>1.55</td>\n",
       "      <td>56.7</td>\n",
       "      <td>23.60</td>\n",
       "    </tr>\n",
       "    <tr>\n",
       "      <th>...</th>\n",
       "      <td>...</td>\n",
       "      <td>...</td>\n",
       "      <td>...</td>\n",
       "      <td>...</td>\n",
       "      <td>...</td>\n",
       "      <td>...</td>\n",
       "      <td>...</td>\n",
       "    </tr>\n",
       "    <tr>\n",
       "      <th>10</th>\n",
       "      <td>Western Asia</td>\n",
       "      <td>1.72</td>\n",
       "      <td>80.6</td>\n",
       "      <td>27.24</td>\n",
       "      <td>1.59</td>\n",
       "      <td>72.2</td>\n",
       "      <td>28.56</td>\n",
       "    </tr>\n",
       "    <tr>\n",
       "      <th>7</th>\n",
       "      <td>North America</td>\n",
       "      <td>1.77</td>\n",
       "      <td>90.2</td>\n",
       "      <td>28.79</td>\n",
       "      <td>1.63</td>\n",
       "      <td>76.6</td>\n",
       "      <td>28.83</td>\n",
       "    </tr>\n",
       "    <tr>\n",
       "      <th>4</th>\n",
       "      <td>Southern Africa</td>\n",
       "      <td>1.69</td>\n",
       "      <td>71.2</td>\n",
       "      <td>24.93</td>\n",
       "      <td>1.59</td>\n",
       "      <td>73.2</td>\n",
       "      <td>28.95</td>\n",
       "    </tr>\n",
       "    <tr>\n",
       "      <th>22</th>\n",
       "      <td>Micronesia</td>\n",
       "      <td>1.69</td>\n",
       "      <td>82.7</td>\n",
       "      <td>28.96</td>\n",
       "      <td>1.59</td>\n",
       "      <td>78.9</td>\n",
       "      <td>31.21</td>\n",
       "    </tr>\n",
       "    <tr>\n",
       "      <th>20</th>\n",
       "      <td>Polynesia</td>\n",
       "      <td>1.76</td>\n",
       "      <td>93.8</td>\n",
       "      <td>30.28</td>\n",
       "      <td>1.65</td>\n",
       "      <td>87.3</td>\n",
       "      <td>32.07</td>\n",
       "    </tr>\n",
       "  </tbody>\n",
       "</table>\n",
       "<p>22 rows × 7 columns</p>\n",
       "</div>"
      ],
      "text/plain": [
       "     del kontinenta  višina moških  teža moških  itm moških  višina žensk  \\\n",
       "12       South Asia           1.66         60.9       22.10          1.55   \n",
       "2    Eastern Africa           1.67         60.1       21.55          1.57   \n",
       "5    Central Africa           1.69         62.6       21.92          1.58   \n",
       "11        East Asia           1.74         73.3       24.21          1.62   \n",
       "14   Southeast Asia           1.67         62.8       22.52          1.55   \n",
       "..              ...            ...          ...         ...           ...   \n",
       "10     Western Asia           1.72         80.6       27.24          1.59   \n",
       "7     North America           1.77         90.2       28.79          1.63   \n",
       "4   Southern Africa           1.69         71.2       24.93          1.59   \n",
       "22       Micronesia           1.69         82.7       28.96          1.59   \n",
       "20        Polynesia           1.76         93.8       30.28          1.65   \n",
       "\n",
       "    teža žensk  itm žensk  \n",
       "12        54.0      22.48  \n",
       "2         56.2      22.80  \n",
       "5         58.0      23.23  \n",
       "11        61.6      23.47  \n",
       "14        56.7      23.60  \n",
       "..         ...        ...  \n",
       "10        72.2      28.56  \n",
       "7         76.6      28.83  \n",
       "4         73.2      28.95  \n",
       "22        78.9      31.21  \n",
       "20        87.3      32.07  \n",
       "\n",
       "[22 rows x 7 columns]"
      ]
     },
     "execution_count": 308,
     "metadata": {},
     "output_type": "execute_result"
    }
   ],
   "source": [
    "urejena_podtabela2"
   ]
  },
  {
   "cell_type": "markdown",
   "metadata": {},
   "source": [
    "## 3. Grafi in razni izračuni"
   ]
  },
  {
   "cell_type": "markdown",
   "metadata": {},
   "source": [
    "### 3.1. Države"
   ]
  },
  {
   "cell_type": "markdown",
   "metadata": {},
   "source": [
    "#### 3.1.1. Primerjava prvih in zadnjih 10 držav"
   ]
  },
  {
   "cell_type": "code",
   "execution_count": 309,
   "metadata": {},
   "outputs": [
    {
     "data": {
      "image/png": "[encoded data removed]",
      "text/plain": [
       "<Figure size 864x432 with 1 Axes>"
      ]
     },
     "metadata": {
      "needs_background": "light"
     },
     "output_type": "display_data"
    }
   ],
   "source": [
    "top_10_male_itms = countries.groupby('ime države')['itm moških'].mean().nlargest(10)\n",
    "female_itms = countries.groupby('ime države')['itm žensk'].mean()\n",
    "\n",
    "female_itms_sorted = female_itms[top_10_male_itms.index] # priredimo desetim največjim moškim itmm ustrezne ženske višine\n",
    "\n",
    "plt.figure(figsize=(12, 6))\n",
    "\n",
    "plt.bar(top_10_male_itms.index, top_10_male_itms, width=0.4, label='ITM moških')\n",
    "plt.bar(top_10_male_itms.index, female_itms_sorted, width=0.4, align='edge', label='Višina žensk')\n",
    "\n",
    "plt.xlabel('Ime države')\n",
    "plt.ylabel('ITM')\n",
    "plt.title('Prvih 10 ITM vrednosti moških in žensk po državah')\n",
    "plt.xticks(rotation=45)\n",
    "plt.legend()\n",
    "plt.tight_layout()\n",
    "plt.show()\n"
   ]
  },
  {
   "cell_type": "code",
   "execution_count": 310,
   "metadata": {},
   "outputs": [
    {
     "data": {
      "image/png": "[encoded data removed]",
      "text/plain": [
       "<Figure size 864x432 with 1 Axes>"
      ]
     },
     "metadata": {
      "needs_background": "light"
     },
     "output_type": "display_data"
    }
   ],
   "source": [
    "bottom_10_male_itms = countries.groupby('ime države')['itm moških'].mean().nsmallest(10)\n",
    "female_itms = countries.groupby('ime države')['itm žensk'].mean()\n",
    "\n",
    "female_itms_sorted = female_itms[bottom_10_male_itms.index]\n",
    "\n",
    "plt.figure(figsize=(12, 6))\n",
    "\n",
    "plt.bar(bottom_10_male_itms.index, bottom_10_male_itms, width=0.4, label='ITM moških')\n",
    "plt.bar(bottom_10_male_itms.index, female_itms_sorted, width=0.4, align='edge', label='Višina žensk')\n",
    "\n",
    "plt.xlabel('Ime države')\n",
    "plt.ylabel('Višina')\n",
    "plt.title('Zadnjih 10 ITM vrednosti moških in žensk po državah')\n",
    "plt.xticks(rotation=45)\n",
    "plt.legend()\n",
    "plt.tight_layout()\n",
    "plt.show()\n"
   ]
  },
  {
   "cell_type": "markdown",
   "metadata": {},
   "source": [
    "#### 3.1.2. Razlike višin med spoloma"
   ]
  },
  {
   "cell_type": "markdown",
   "metadata": {},
   "source": [
    "V sklopu primerjav ITM vrednosti je v povprečju ITM vrednost pri ženskah višja.\n",
    "\n",
    "Naslednji računi prikazujejo, kje je ITM vrednost moških vendarle višja od ITM vrednosti žensk, kolikšna je povprečna ITM vrednost moškega in ženske glede na obravnavane države, za koliko se ti dve vrednosti razlikujeta in za kolikšen delež je ITM vrednost pri ženskah višja kot pri moških ter kje se pojavi največja razlika med spoloma in kolikšna je. \n",
    "\n",
    "Opazimo, da so moški povprečno visoki 1.74 m, ženske 1.61 m, da so moški v primerjavi z ženskami za 13 cm višji in da so moški po državah povprečno 8.07 % višji od žensk. Največja razlika med višino moških in žensk je se je izkazala v državi Puerto Rico in znaša 0.16 m.\n",
    "\n"
   ]
  },
  {
   "cell_type": "code",
   "execution_count": 311,
   "metadata": {},
   "outputs": [
    {
     "name": "stdout",
     "output_type": "stream",
     "text": [
      "Povprečna ITM vrednost moškega glede na vse države je 26.05.\n",
      "Povprečna ITM vrednost ženske glede na vse države je 26.42.\n"
     ]
    }
   ],
   "source": [
    "average_world_male_itm = round(np.mean(podtabela1[\"itm moških\"]), 2)\n",
    "average_world_female_itm = round(np.mean(podtabela1[\"itm žensk\"]), 2)\n",
    "\n",
    "print(\"Povprečna ITM vrednost moškega glede na vse države je \", average_world_male_itm, \".\", sep=\"\") #sep - da ni presledka pred piko\n",
    "print(\"Povprečna ITM vrednost ženske glede na vse države je \", average_world_female_itm, \".\", sep=\"\") \n",
    "\n"
   ]
  },
  {
   "cell_type": "code",
   "execution_count": 312,
   "metadata": {},
   "outputs": [
    {
     "data": {
      "image/png": "[encoded data removed]",
      "text/plain": [
       "<Figure size 432x432 with 1 Axes>"
      ]
     },
     "metadata": {
      "needs_background": "light"
     },
     "output_type": "display_data"
    }
   ],
   "source": [
    "average_itm = podtabela1[[\"itm moških\", \"itm žensk\"]].mean()\n",
    "\n",
    "plt.figure(figsize=(6, 6))\n",
    "average_itm.plot(kind=\"bar\")\n",
    "plt.xlabel(\"Spol\")\n",
    "plt.ylabel(\"Povprečna ITM vrednost\")\n",
    "plt.title(\"Povprečna ITM vrednost glede na spol\")\n",
    "plt.xticks(rotation=0)\n",
    "plt.tight_layout()\n",
    "plt.show()"
   ]
  },
  {
   "cell_type": "markdown",
   "metadata": {},
   "source": [
    "Kolikšne so največje razlike med ITM vrednostmi in v katerih državah so?"
   ]
  },
  {
   "cell_type": "code",
   "execution_count": 313,
   "metadata": {},
   "outputs": [
    {
     "name": "stdout",
     "output_type": "stream",
     "text": [
      "Tabela držav z največjimi razlikami ITM vrednosti:\n",
      "        ime države  itm_difference\n",
      "102   South Africa             4.4\n",
      "20        Dominica             4.1\n",
      "39         Grenada             3.7\n",
      "69           Samoa             3.6\n",
      "77           Egypt             3.6\n",
      "..             ...             ...\n",
      "115         Brunei             0.1\n",
      "105        Vietnam             0.0\n",
      "127     East Timor             0.0\n",
      "43   United States             0.0\n",
      "8         Slovenia             0.0\n",
      "\n",
      "[127 rows x 2 columns]\n"
     ]
    }
   ],
   "source": [
    "podtabela1[\"itm_difference\"] = abs(podtabela1[\"itm moških\"] - podtabela1[\"itm žensk\"])\n",
    "countries_ordered_by_itm_difference = podtabela1.sort_values(by=\"itm_difference\", ascending=False)\n",
    "\n",
    "countries_and_itm_differences = countries_ordered_by_itm_difference[[\"ime države\", \"itm_difference\"]]\n",
    "\n",
    "print(\"Tabela držav z največjimi razlikami ITM vrednosti:\")\n",
    "print(countries_and_itm_differences)\n"
   ]
  },
  {
   "cell_type": "code",
   "execution_count": 314,
   "metadata": {},
   "outputs": [
    {
     "data": {
      "image/png": "[encoded data removed]",
      "text/plain": [
       "<Figure size 864x432 with 1 Axes>"
      ]
     },
     "metadata": {
      "needs_background": "light"
     },
     "output_type": "display_data"
    }
   ],
   "source": [
    "plt.figure(figsize=(12, 6))\n",
    "\n",
    "plt.bar(countries_ordered_by_itm_difference[\"ime države\"].head(10), countries_ordered_by_itm_difference[\"itm moških\"].head(10), width=0.4, label='ITM moških')\n",
    "plt.bar(countries_ordered_by_itm_difference[\"ime države\"].head(10), countries_ordered_by_itm_difference[\"itm žensk\"].head(10), width=0.4, align='edge', label='ITM žensk')\n",
    "\n",
    "plt.xlabel('Ime države')\n",
    "plt.ylabel('ITM vrednost')\n",
    "plt.title('Top 10 držav z najvišjo razliko v ITM vrednostih med moškimi in ženskami')\n",
    "plt.xticks(rotation=45)\n",
    "plt.legend()\n",
    "plt.tight_layout()\n",
    "plt.show()\n"
   ]
  },
  {
   "cell_type": "code",
   "execution_count": 315,
   "metadata": {},
   "outputs": [
    {
     "data": {
      "image/png": "[encoded data removed]",
      "text/plain": [
       "<Figure size 720x432 with 1 Axes>"
      ]
     },
     "metadata": {
      "needs_background": "light"
     },
     "output_type": "display_data"
    }
   ],
   "source": [
    "plt.figure(figsize=(10, 6))\n",
    "plt.bar(countries_ordered_by_itm_difference[\"ime države\"].head(10), countries_ordered_by_itm_difference[\"itm_difference\"].head(10))\n",
    "plt.xlabel(\"Država\")\n",
    "plt.ylabel(\"Razlika v ITM vrednostih\")\n",
    "plt.title(\"Top 10 držav z najvišjo razliko v ITM vrednostih med moškimi in ženskami\")\n",
    "plt.xticks(rotation=45, ha=\"right\")\n",
    "plt.tight_layout()\n",
    "plt.show()\n",
    "\n"
   ]
  },
  {
   "cell_type": "markdown",
   "metadata": {},
   "source": [
    "Povprečno imajo ženske višjo vrednost. V katerih državah je obratno?"
   ]
  },
  {
   "cell_type": "code",
   "execution_count": 316,
   "metadata": {},
   "outputs": [
    {
     "name": "stdout",
     "output_type": "stream",
     "text": [
      "Število držav, kjer je ITM vrednost pri moških višja kot pri ženskah: 53\n",
      "Seznam držav: ['Madagascar', 'Burundi', 'Japan', 'Chad', 'Nepal', 'South Korea', 'Singapore', 'China', 'Taiwan', 'Hong Kong', 'Switzerland', 'North Korea', 'Haiti', 'France', 'Denmark', 'Austria', 'Italy', 'Spain', 'Bosnia and Herzegovina', 'Netherlands', 'Sweden', 'Portugal', 'Iceland', 'Slovakia', 'Finland', 'Serbia', 'Belgium', 'Luxembourg', 'Bulgaria', 'Germany', 'Estonia', 'Lithuania', 'Poland', 'Norway', 'Montenegro', 'Andorra', 'Latvia', 'Ukraine', 'Czechia', 'Albania', 'Hungary', 'Canada', 'Australia', 'Romania', 'Croatia', 'Greece', 'Israel', 'United Kingdom', 'Ireland', 'Lebanon', 'Argentina', 'New Zealand', 'French Polynesia']\n"
     ]
    }
   ],
   "source": [
    "countries_with_higher_male_itm = podtabela1[podtabela1[\"itm moških\"] > podtabela1[\"itm žensk\"]]\n",
    "\n",
    "num_countries = len(countries_with_higher_male_itm)\n",
    "country_list = countries_with_higher_male_itm[\"ime države\"].tolist()\n",
    "\n",
    "print(\"Število držav, kjer je ITM vrednost pri moških višja kot pri ženskah:\", num_countries)\n",
    "print(\"Seznam držav:\", country_list)\n"
   ]
  },
  {
   "cell_type": "markdown",
   "metadata": {},
   "source": [
    "Kolikšne so največje razlike med ITM vrednostmi, kjer so moške vrednosti višje od ženskih, in v katerih državah so?"
   ]
  },
  {
   "cell_type": "code",
   "execution_count": 317,
   "metadata": {},
   "outputs": [
    {
     "data": {
      "image/png": "[encoded data removed]",
      "text/plain": [
       "<Figure size 864x432 with 1 Axes>"
      ]
     },
     "metadata": {
      "needs_background": "light"
     },
     "output_type": "display_data"
    }
   ],
   "source": [
    "# najprej izračunamo razliko\n",
    "podtabela1[\"itm_difference\"] = podtabela1[\"itm moških\"] - podtabela1[\"itm žensk\"]\n",
    "\n",
    "# 10 največjih razlik\n",
    "countries_with_higher_itm_difference = podtabela1[podtabela1[\"itm_difference\"] > 0].nlargest(10, \"itm_difference\")\n",
    "\n",
    "\n",
    "plt.figure(figsize=(12, 6))\n",
    "\n",
    "plt.bar(countries_with_higher_itm_difference[\"ime države\"], countries_with_higher_itm_difference[\"itm moških\"], width=0.4, label='ITM moških')\n",
    "plt.bar(countries_with_higher_itm_difference[\"ime države\"], countries_with_higher_itm_difference[\"itm žensk\"], width=0.4, align='edge', label='ITM žensk')\n",
    "\n",
    "plt.xlabel('Ime države')\n",
    "plt.ylabel('ITM vrednost')\n",
    "plt.title('Države z najvišjo razliko v ITM vrednostih med moškimi in ženskami')\n",
    "plt.xticks(rotation=45)\n",
    "plt.legend()\n",
    "plt.tight_layout()\n",
    "plt.show()\n"
   ]
  },
  {
   "cell_type": "code",
   "execution_count": 318,
   "metadata": {},
   "outputs": [
    {
     "data": {
      "image/png": "[encoded data removed]",
      "text/plain": [
       "<Figure size 720x432 with 1 Axes>"
      ]
     },
     "metadata": {
      "needs_background": "light"
     },
     "output_type": "display_data"
    }
   ],
   "source": [
    "plt.figure(figsize=(10, 6))\n",
    "plt.bar(countries_with_higher_itm_difference[\"ime države\"], countries_with_higher_itm_difference[\"itm_difference\"])\n",
    "plt.xlabel(\"Država\")\n",
    "plt.ylabel(\"Razlika v ITM vrednostih\")\n",
    "plt.title(\"Države z najvišjo razliko v ITM vrednostih med moškimi in ženskami, kjer je vrednost moških višja od žensk\")\n",
    "plt.xticks(rotation=45, ha=\"right\")\n",
    "plt.tight_layout()\n",
    "plt.show()\n"
   ]
  },
  {
   "cell_type": "markdown",
   "metadata": {},
   "source": [
    "Koliko so moški večji od žensk?"
   ]
  },
  {
   "cell_type": "code",
   "execution_count": 319,
   "metadata": {},
   "outputs": [
    {
     "name": "stdout",
     "output_type": "stream",
     "text": [
      "Razlika med višino moških in žensk je -0.37 m.\n"
     ]
    }
   ],
   "source": [
    "rounded_itm_difference = round(average_world_male_itm - average_world_female_itm, 2)\n",
    "\n",
    "print(\"Razlika med višino moških in žensk je\", rounded_itm_difference, \"m.\")\n"
   ]
  },
  {
   "cell_type": "code",
   "execution_count": 320,
   "metadata": {},
   "outputs": [
    {
     "name": "stdout",
     "output_type": "stream",
     "text": [
      "Moški so po državah povprečno -1.4 % višji od žensk.\n"
     ]
    }
   ],
   "source": [
    "percentage_men_taller = (rounded_itm_difference / average_world_female_itm) * 100\n",
    "\n",
    "print(\"Moški so po državah povprečno\", round(percentage_men_taller, 2), \"% višji od žensk.\")\n"
   ]
  },
  {
   "cell_type": "markdown",
   "metadata": {},
   "source": [
    "Kje je največja razlika med moškimi in ženskami in kolikšna je?"
   ]
  },
  {
   "cell_type": "code",
   "execution_count": 321,
   "metadata": {},
   "outputs": [
    {
     "name": "stdout",
     "output_type": "stream",
     "text": [
      "Največja razlika med višino moških in žensk je 4.4 m.\n",
      "Ta razlika je prisotna na območju: South Africa\n"
     ]
    }
   ],
   "source": [
    "max_itm_difference = round(np.max(np.abs(podtabela1[\"itm moških\"] - podtabela1[\"itm žensk\"])), 2)\n",
    "\n",
    "#poiščemo vrstico\n",
    "max_itm_row = podtabela1.loc[np.abs(podtabela1[\"itm moških\"] - podtabela1[\"itm žensk\"]).idxmax()]\n",
    "\n",
    "# poiščemo državo\n",
    "country_with_max_itm_difference = max_itm_row[\"ime države\"]\n",
    "\n",
    "print(\"Največja razlika med višino moških in žensk je\", max_itm_difference, \"m.\")\n",
    "print(\"Ta razlika je prisotna na območju:\", country_with_max_itm_difference)\n"
   ]
  },
  {
   "cell_type": "code",
   "execution_count": 322,
   "metadata": {},
   "outputs": [],
   "source": [
    "#največja razlika med ženskami ;;;; enako za moške"
   ]
  },
  {
   "cell_type": "markdown",
   "metadata": {},
   "source": [
    "### 3.2. Kontinenti"
   ]
  },
  {
   "cell_type": "markdown",
   "metadata": {},
   "source": [
    "#### 3.2.1. Primerjava prvih in zadnjih 10 delov kontinentov"
   ]
  },
  {
   "cell_type": "code",
   "execution_count": 323,
   "metadata": {},
   "outputs": [
    {
     "ename": "KeyError",
     "evalue": "'Column not found: itm moških'",
     "output_type": "error",
     "traceback": [
      "\u001b[1;31m---------------------------------------------------------------------------\u001b[0m",
      "\u001b[1;31mKeyError\u001b[0m                                  Traceback (most recent call last)",
      "\u001b[1;32mc:\\Users\\ab60111\\Desktop\\AmandaProjektna\\ProjektnaNaloga\\AnaliziranjePodatkov_ITM.ipynb Cell 58\u001b[0m in \u001b[0;36m<cell line: 1>\u001b[1;34m()\u001b[0m\n\u001b[1;32m----> <a href='vscode-notebook-cell:/c%3A/Users/ab60111/Desktop/AmandaProjektna/ProjektnaNaloga/AnaliziranjePodatkov_ITM.ipynb#X65sZmlsZQ%3D%3D?line=0'>1</a>\u001b[0m top_10_male_itms_continents \u001b[39m=\u001b[39m continents\u001b[39m.\u001b[39;49mgroupby(\u001b[39m'\u001b[39;49m\u001b[39mdel kontinenta\u001b[39;49m\u001b[39m'\u001b[39;49m)[\u001b[39m'\u001b[39;49m\u001b[39mitm moških\u001b[39;49m\u001b[39m'\u001b[39;49m]\u001b[39m.\u001b[39mmean()\u001b[39m.\u001b[39mnlargest(\u001b[39m10\u001b[39m)\n\u001b[0;32m      <a href='vscode-notebook-cell:/c%3A/Users/ab60111/Desktop/AmandaProjektna/ProjektnaNaloga/AnaliziranjePodatkov_ITM.ipynb#X65sZmlsZQ%3D%3D?line=1'>2</a>\u001b[0m female_itms_continents \u001b[39m=\u001b[39m continents\u001b[39m.\u001b[39mgroupby(\u001b[39m'\u001b[39m\u001b[39mdel kontinenta\u001b[39m\u001b[39m'\u001b[39m)[\u001b[39m'\u001b[39m\u001b[39mitm žensk\u001b[39m\u001b[39m'\u001b[39m]\u001b[39m.\u001b[39mmean()\n\u001b[0;32m      <a href='vscode-notebook-cell:/c%3A/Users/ab60111/Desktop/AmandaProjektna/ProjektnaNaloga/AnaliziranjePodatkov_ITM.ipynb#X65sZmlsZQ%3D%3D?line=3'>4</a>\u001b[0m female_itms_sorted_continents \u001b[39m=\u001b[39m female_itms_continents[top_10_male_itms_continents\u001b[39m.\u001b[39mindex] \u001b[39m# priredimo desetim največjim moškim itmm ustrezne ženske višine\u001b[39;00m\n",
      "File \u001b[1;32mc:\\Python310\\lib\\site-packages\\pandas\\core\\groupby\\generic.py:1338\u001b[0m, in \u001b[0;36mDataFrameGroupBy.__getitem__\u001b[1;34m(self, key)\u001b[0m\n\u001b[0;32m   1329\u001b[0m \u001b[39mif\u001b[39;00m \u001b[39misinstance\u001b[39m(key, \u001b[39mtuple\u001b[39m) \u001b[39mand\u001b[39;00m \u001b[39mlen\u001b[39m(key) \u001b[39m>\u001b[39m \u001b[39m1\u001b[39m:\n\u001b[0;32m   1330\u001b[0m     \u001b[39m# if len == 1, then it becomes a SeriesGroupBy and this is actually\u001b[39;00m\n\u001b[0;32m   1331\u001b[0m     \u001b[39m# valid syntax, so don't raise warning\u001b[39;00m\n\u001b[0;32m   1332\u001b[0m     warnings\u001b[39m.\u001b[39mwarn(\n\u001b[0;32m   1333\u001b[0m         \u001b[39m\"\u001b[39m\u001b[39mIndexing with multiple keys (implicitly converted to a tuple \u001b[39m\u001b[39m\"\u001b[39m\n\u001b[0;32m   1334\u001b[0m         \u001b[39m\"\u001b[39m\u001b[39mof keys) will be deprecated, use a list instead.\u001b[39m\u001b[39m\"\u001b[39m,\n\u001b[0;32m   1335\u001b[0m         \u001b[39mFutureWarning\u001b[39;00m,\n\u001b[0;32m   1336\u001b[0m         stacklevel\u001b[39m=\u001b[39mfind_stack_level(),\n\u001b[0;32m   1337\u001b[0m     )\n\u001b[1;32m-> 1338\u001b[0m \u001b[39mreturn\u001b[39;00m \u001b[39msuper\u001b[39;49m()\u001b[39m.\u001b[39;49m\u001b[39m__getitem__\u001b[39;49m(key)\n",
      "File \u001b[1;32mc:\\Python310\\lib\\site-packages\\pandas\\core\\base.py:250\u001b[0m, in \u001b[0;36mSelectionMixin.__getitem__\u001b[1;34m(self, key)\u001b[0m\n\u001b[0;32m    248\u001b[0m \u001b[39melse\u001b[39;00m:\n\u001b[0;32m    249\u001b[0m     \u001b[39mif\u001b[39;00m key \u001b[39mnot\u001b[39;00m \u001b[39min\u001b[39;00m \u001b[39mself\u001b[39m\u001b[39m.\u001b[39mobj:\n\u001b[1;32m--> 250\u001b[0m         \u001b[39mraise\u001b[39;00m \u001b[39mKeyError\u001b[39;00m(\u001b[39mf\u001b[39m\u001b[39m\"\u001b[39m\u001b[39mColumn not found: \u001b[39m\u001b[39m{\u001b[39;00mkey\u001b[39m}\u001b[39;00m\u001b[39m\"\u001b[39m)\n\u001b[0;32m    251\u001b[0m     subset \u001b[39m=\u001b[39m \u001b[39mself\u001b[39m\u001b[39m.\u001b[39mobj[key]\n\u001b[0;32m    252\u001b[0m     ndim \u001b[39m=\u001b[39m subset\u001b[39m.\u001b[39mndim\n",
      "\u001b[1;31mKeyError\u001b[0m: 'Column not found: itm moških'"
     ]
    }
   ],
   "source": [
    "top_10_male_itms_continents = continents.groupby('del kontinenta')['itm moških'].mean().nlargest(10)\n",
    "female_itms_continents = continents.groupby('del kontinenta')['itm žensk'].mean()\n",
    "\n",
    "female_itms_sorted_continents = female_itms_continents[top_10_male_itms_continents.index] # priredimo desetim največjim moškim itmm ustrezne ženske višine\n",
    "\n",
    "plt.figure(figsize=(12, 6))\n",
    "\n",
    "plt.bar(top_10_male_itms_continents.index, top_10_male_itms_continents, width=0.4, label='Višina moških')\n",
    "plt.bar(top_10_male_itms_continents.index, female_itms_sorted_continents, width=0.4, align='edge', label='Višina žensk')\n",
    "\n",
    "plt.xlabel('Del kontinenta')\n",
    "plt.ylabel('Višina')\n",
    "plt.title('Prvih 10 višin moških in žensk po kontinentih')\n",
    "plt.xticks(rotation=45)\n",
    "plt.legend()\n",
    "plt.tight_layout()\n",
    "plt.show()"
   ]
  },
  {
   "cell_type": "code",
   "execution_count": null,
   "metadata": {},
   "outputs": [
    {
     "data": {
      "image/png": "[encoded data removed]",
      "text/plain": [
       "<Figure size 864x432 with 1 Axes>"
      ]
     },
     "metadata": {
      "needs_background": "light"
     },
     "output_type": "display_data"
    }
   ],
   "source": [
    "bottom_10_male_itms_continents = continents.groupby('del kontinenta')['itm moških'].mean().nsmallest(10)\n",
    "female_itms_continents = continents.groupby('del kontinenta')['itm žensk'].mean()\n",
    "\n",
    "female_itms_sorted_continents = female_itms[bottom_10_male_itms.index]\n",
    "\n",
    "plt.figure(figsize=(12, 6))\n",
    "\n",
    "plt.bar(bottom_10_male_itms_continents.index, bottom_10_male_itms_continents, width=0.4, label='Višina moških')\n",
    "plt.bar(bottom_10_male_itms_continents.index, female_itms_sorted_continents, width=0.4, align='edge', label='Višina žensk')\n",
    "\n",
    "plt.xlabel('Del kontinenta')\n",
    "plt.ylabel('Višina')\n",
    "plt.title('Zadnjih 10 višin moških in žensk po kontinentih')\n",
    "plt.xticks(rotation=45)\n",
    "plt.legend()\n",
    "plt.tight_layout()\n",
    "plt.show()\n"
   ]
  },
  {
   "cell_type": "markdown",
   "metadata": {},
   "source": [
    "#### 3.2.2. Razlike višin med spoloma"
   ]
  },
  {
   "cell_type": "markdown",
   "metadata": {},
   "source": [
    "Analogno kot pri državah sem naredila račune, kolikšna je povprečna itm moškega in ženske glede na dele kontinentov, za koliko se ti dve vrednosti razlikujeta in za kolikšen delež so povprečno moški višji od žensk ter kje se pojavi največja razlika med spoloma in kolikšna je. Opazimo, da so moški povprečno visoki 1.72 m, ženske 1.6 m, da so moški v primerjavi z ženskami za 12 cm višji in da so moški po državah povprečno 7.5 % višji od žensk. Največja razlika med višino moških in žensk je se je izkazala v vzhodni Afriki in znaša 0.14 m.\n",
    "\n"
   ]
  },
  {
   "cell_type": "code",
   "execution_count": null,
   "metadata": {},
   "outputs": [
    {
     "name": "stdout",
     "output_type": "stream",
     "text": [
      "Povprečna višina moškega glede na kontinente je 1.72 m.\n",
      "Povprečna višina ženske glede na kontinente je 1.6 m.\n"
     ]
    }
   ],
   "source": [
    "average_world_male_itm_c = round(np.mean(podtabela2[\"itm moških\"]), 2)\n",
    "average_world_female_itm_c = round(np.mean(podtabela2[\"itm žensk\"]), 2)\n",
    "\n",
    "print(\"Povprečna itm moškega glede na kontinente je\", average_world_male_itm_c, \"m.\")\n",
    "print(\"Povprečna itm ženske glede na kontinente je\", average_world_female_itm_c, \"m.\")"
   ]
  },
  {
   "cell_type": "markdown",
   "metadata": {},
   "source": [
    "Koliko so moški večji od žensk?"
   ]
  },
  {
   "cell_type": "code",
   "execution_count": null,
   "metadata": {},
   "outputs": [
    {
     "name": "stdout",
     "output_type": "stream",
     "text": [
      "Razlika med višino moških in žensk je 0.12 m.\n"
     ]
    }
   ],
   "source": [
    "rounded_itm_difference_c = round(average_world_male_itm_c - average_world_female_itm_c, 2)\n",
    "\n",
    "print(\"Razlika med višino moških in žensk je\", rounded_itm_difference_c, \"m.\")\n"
   ]
  },
  {
   "cell_type": "code",
   "execution_count": null,
   "metadata": {},
   "outputs": [
    {
     "name": "stdout",
     "output_type": "stream",
     "text": [
      "Moški so po kontinentih povprečno 7.5 % višji od žensk.\n"
     ]
    }
   ],
   "source": [
    "percentage_men_taller_c = (rounded_itm_difference_c / average_world_female_itm_c) * 100\n",
    "\n",
    "print(\"Moški so po kontinentih povprečno\", round(percentage_men_taller_c, 2), \"% višji od žensk.\")"
   ]
  },
  {
   "cell_type": "markdown",
   "metadata": {},
   "source": [
    "Kje je največja razlika med moškimi in ženskami in kolikšna je?"
   ]
  },
  {
   "cell_type": "code",
   "execution_count": null,
   "metadata": {},
   "outputs": [
    {
     "name": "stdout",
     "output_type": "stream",
     "text": [
      "Največja razlika med višino moških in žensk je 0.14 m.\n",
      "Ta razlika je prisotna na območju: Eastern Africa\n"
     ]
    }
   ],
   "source": [
    "max_itm_difference_c = round(np.max(np.abs(podtabela2[\"itm moških\"] - podtabela2[\"itm žensk\"])), 2)\n",
    "\n",
    "#poiščemo vrstico\n",
    "max_itm_row_c = podtabela2.loc[np.abs(podtabela1[\"itm moških\"] - podtabela2[\"itm žensk\"]).idxmax()]\n",
    "\n",
    "# poiščemo državo\n",
    "continent_with_max_itm_difference = max_itm_row_c[\"del kontinenta\"]\n",
    "\n",
    "print(\"Največja razlika med višino moških in žensk je\", max_itm_difference_c, \"m.\")\n",
    "print(\"Ta razlika je prisotna na območju:\", continent_with_max_itm_difference)\n"
   ]
  }
 ],
 "metadata": {
  "kernelspec": {
   "display_name": "Python 3.10.7 64-bit",
   "language": "python",
   "name": "python3"
  },
  "language_info": {
   "codemirror_mode": {
    "name": "ipython",
    "version": 3
   },
   "file_extension": ".py",
   "mimetype": "text/x-python",
   "name": "python",
   "nbconvert_exporter": "python",
   "pygments_lexer": "ipython3",
   "version": "3.10.7"
  },
  "orig_nbformat": 4,
  "vscode": {
   "interpreter": {
    "hash": "369f2c481f4da34e4445cda3fffd2e751bd1c4d706f27375911949ba6bb62e1c"
   }
  }
 },
 "nbformat": 4,
 "nbformat_minor": 2
}
